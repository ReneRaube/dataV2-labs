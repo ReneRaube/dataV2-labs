{
 "cells": [
  {
   "cell_type": "markdown",
   "metadata": {},
   "source": [
    "# Understanding Descriptive Statistics\n",
    "\n",
    "Import the necessary libraries here:"
   ]
  },
  {
   "cell_type": "code",
   "execution_count": 121,
   "metadata": {},
   "outputs": [],
   "source": [
    "import matplotlib\n",
    "import numpy as np\n",
    "import pandas as pd\n",
    "import random\n",
    "import math\n",
    "import statistics\n",
    "import collections\n",
    "import matplotlib.pyplot as plt\n",
    "import math"
   ]
  },
  {
   "cell_type": "markdown",
   "metadata": {},
   "source": [
    "## Challenge 1\n",
    "#### 1.- Define a function that simulates rolling a dice 10 times. Save the information in a dataframe.\n",
    "**Hint**: you can use the *choices* function from module *random* to help you with the simulation."
   ]
  },
  {
   "cell_type": "code",
   "execution_count": 48,
   "metadata": {},
   "outputs": [
    {
     "name": "stdout",
     "output_type": "stream",
     "text": [
      "[6, 2, 1, 1, 5, 1, 3, 3, 5, 2]\n"
     ]
    }
   ],
   "source": [
    "lst=[]\n",
    "def dice_sim(x):\n",
    "    x = [random.randint(1,6) for _ in range(10)]\n",
    "    return x\n",
    "lst = dice_sim(lst)\n",
    "print(lst)"
   ]
  },
  {
   "cell_type": "code",
   "execution_count": 49,
   "metadata": {},
   "outputs": [
    {
     "data": {
      "text/plain": [
       "'dice_num = 10\\ndef dice_roll(dice_num):\\n    dice_lst = []\\n    for x in range(dice_num):\\n        dice_lst.append(random.randint(1, 6))\\n    return dice_lst\\ndice_roll(10)'"
      ]
     },
     "execution_count": 49,
     "metadata": {},
     "output_type": "execute_result"
    }
   ],
   "source": [
    "#alternatively\n",
    "\"\"\"dice_num = 10\n",
    "def dice_roll(dice_num):\n",
    "    dice_lst = []\n",
    "    for x in range(dice_num):\n",
    "        dice_lst.append(random.randint(1, 6))\n",
    "    return dice_lst\n",
    "dice_roll(10)\"\"\""
   ]
  },
  {
   "cell_type": "markdown",
   "metadata": {},
   "source": [
    "#### 2.- Plot the results sorted by value."
   ]
  },
  {
   "cell_type": "code",
   "execution_count": 65,
   "metadata": {},
   "outputs": [
    {
     "name": "stdout",
     "output_type": "stream",
     "text": [
      "[1, 1, 1, 2, 2, 3, 3, 5, 5, 6]\n",
      "{1: 3, 2: 2, 3: 2, 4: 0, 5: 2, 6: 1}\n"
     ]
    },
    {
     "data": {
      "text/html": [
       "<div>\n",
       "<style scoped>\n",
       "    .dataframe tbody tr th:only-of-type {\n",
       "        vertical-align: middle;\n",
       "    }\n",
       "\n",
       "    .dataframe tbody tr th {\n",
       "        vertical-align: top;\n",
       "    }\n",
       "\n",
       "    .dataframe thead th {\n",
       "        text-align: right;\n",
       "    }\n",
       "</style>\n",
       "<table border=\"1\" class=\"dataframe\">\n",
       "  <thead>\n",
       "    <tr style=\"text-align: right;\">\n",
       "      <th></th>\n",
       "      <th>0</th>\n",
       "    </tr>\n",
       "  </thead>\n",
       "  <tbody>\n",
       "    <tr>\n",
       "      <td>0</td>\n",
       "      <td>1</td>\n",
       "    </tr>\n",
       "    <tr>\n",
       "      <td>1</td>\n",
       "      <td>1</td>\n",
       "    </tr>\n",
       "    <tr>\n",
       "      <td>2</td>\n",
       "      <td>1</td>\n",
       "    </tr>\n",
       "    <tr>\n",
       "      <td>3</td>\n",
       "      <td>2</td>\n",
       "    </tr>\n",
       "    <tr>\n",
       "      <td>4</td>\n",
       "      <td>2</td>\n",
       "    </tr>\n",
       "    <tr>\n",
       "      <td>5</td>\n",
       "      <td>3</td>\n",
       "    </tr>\n",
       "    <tr>\n",
       "      <td>6</td>\n",
       "      <td>3</td>\n",
       "    </tr>\n",
       "    <tr>\n",
       "      <td>7</td>\n",
       "      <td>5</td>\n",
       "    </tr>\n",
       "    <tr>\n",
       "      <td>8</td>\n",
       "      <td>5</td>\n",
       "    </tr>\n",
       "    <tr>\n",
       "      <td>9</td>\n",
       "      <td>6</td>\n",
       "    </tr>\n",
       "  </tbody>\n",
       "</table>\n",
       "</div>"
      ],
      "text/plain": [
       "   0\n",
       "0  1\n",
       "1  1\n",
       "2  1\n",
       "3  2\n",
       "4  2\n",
       "5  3\n",
       "6  3\n",
       "7  5\n",
       "8  5\n",
       "9  6"
      ]
     },
     "execution_count": 65,
     "metadata": {},
     "output_type": "execute_result"
    }
   ],
   "source": [
    "lst.sort()\n",
    "print(lst)\n",
    "\n",
    "dice = { i : lst.count(i) for i in range(1, 6+1) }\n",
    "print(dice)\n",
    "dice_df = pd.DataFrame.from_dict(dice, orient=\"index\")\n",
    "dice_df\n",
    "\n",
    "lst\n",
    "lst_df = pd.DataFrame(lst)\n",
    "lst_df"
   ]
  },
  {
   "cell_type": "markdown",
   "metadata": {},
   "source": [
    "#### 3.- Calculate the frequency distribution and plot it. What is the relation between this plot and the plot above? Describe it with words."
   ]
  },
  {
   "cell_type": "code",
   "execution_count": 52,
   "metadata": {},
   "outputs": [
    {
     "name": "stdout",
     "output_type": "stream",
     "text": [
      "{1: 3, 2: 2, 3: 2, 4: 0, 5: 2, 6: 1}\n"
     ]
    },
    {
     "data": {
      "text/plain": [
       "'dataframe = lst.pd()\\nlst.hist()\\n'"
      ]
     },
     "execution_count": 52,
     "metadata": {},
     "output_type": "execute_result"
    }
   ],
   "source": [
    "#create a dictionary and read stuff into it\n",
    "\n",
    "dice = { i : lst.count(i) for i in range(1, 6+1) }\n",
    "print(dice)\n",
    "\n",
    "#works as well but have timport stuff first: counter=collections.Counter(res1)      print(counter)\n",
    "\"\"\"dice = {}\n",
    "for x in range(1,6):\n",
    "    roll = random.randint(1, sides)\n",
    "    dice[lst] = dice.get(lst, 0) + 1\n",
    "\"\"\"\n",
    "\"\"\"dataframe = lst.pd()\n",
    "lst.hist()\n",
    "\"\"\""
   ]
  },
  {
   "cell_type": "code",
   "execution_count": 66,
   "metadata": {},
   "outputs": [
    {
     "name": "stdout",
     "output_type": "stream",
     "text": [
      "   0\n",
      "1  3\n",
      "2  2\n",
      "3  2\n",
      "4  0\n",
      "5  2\n",
      "6  1\n"
     ]
    },
    {
     "data": {
      "text/plain": [
       "array([[<matplotlib.axes._subplots.AxesSubplot object at 0x124201f90>]],\n",
       "      dtype=object)"
      ]
     },
     "execution_count": 66,
     "metadata": {},
     "output_type": "execute_result"
    },
    {
     "data": {
      "image/png": "[encoded data removed]",
      "text/plain": [
       "<Figure size 432x288 with 1 Axes>"
      ]
     },
     "metadata": {
      "needs_background": "light"
     },
     "output_type": "display_data"
    },
    {
     "data": {
      "image/png": "[encoded data removed]",
      "text/plain": [
       "<Figure size 432x288 with 1 Axes>"
      ]
     },
     "metadata": {
      "needs_background": "light"
     },
     "output_type": "display_data"
    }
   ],
   "source": [
    "import matplotlib\n",
    "%matplotlib inline\n",
    "\n",
    "dice_df = pd.DataFrame.from_dict(dice, orient=\"index\")\n",
    "print(dice_df)\n",
    "\n",
    "lst_df.boxplot()\n",
    "lst_df.hist(bins=100)"
   ]
  },
  {
   "cell_type": "markdown",
   "metadata": {},
   "source": [
    "## Challenge 2\n",
    "Now, using the dice results obtained in *challenge 1*, your are going to define some functions that will help you calculate the mean of your data in two different ways, the median and the four quartiles. \n",
    "\n",
    "#### 1.- Define a function that computes the mean by summing all the observations and dividing by the total number of observations. You are not allowed to use any methods or functions that directly calculate the mean value. "
   ]
  },
  {
   "cell_type": "code",
   "execution_count": 44,
   "metadata": {
    "scrolled": true
   },
   "outputs": [
    {
     "name": "stdout",
     "output_type": "stream",
     "text": [
      "3.4\n"
     ]
    },
    {
     "data": {
      "text/plain": [
       "'\\ndef mean(df):\\n    mean = df.mean()\\n    return mean\\nmean(dice_df)\\n'"
      ]
     },
     "execution_count": 44,
     "metadata": {},
     "output_type": "execute_result"
    }
   ],
   "source": [
    "def mymean(rolls):\n",
    "    return sum(rolls)/len(rolls)\n",
    "print(mymean(lst))\n",
    "\n",
    "\n",
    "\"\"\"def mean(df):\n",
    "    mean = (df.sum())/(len(df))\n",
    "    return mean\n",
    "print(mean(dice_df))\n",
    "\"\"\"\n",
    "'''\n",
    "def mean(df):\n",
    "    mean = df.mean()\n",
    "    return mean\n",
    "mean(dice_df)\n",
    "'''"
   ]
  },
  {
   "cell_type": "code",
   "execution_count": 45,
   "metadata": {},
   "outputs": [
    {
     "data": {
      "text/plain": [
       "34"
      ]
     },
     "execution_count": 45,
     "metadata": {},
     "output_type": "execute_result"
    }
   ],
   "source": [
    "sum(lst)"
   ]
  },
  {
   "cell_type": "markdown",
   "metadata": {},
   "source": [
    "#### 2.- First, calculate the frequency distribution. Then, calculate the mean using the values of the frequency distribution you've just computed. You are not allowed to use any methods or functions that directly calculate the mean value. "
   ]
  },
  {
   "cell_type": "code",
   "execution_count": 31,
   "metadata": {},
   "outputs": [
    {
     "name": "stdout",
     "output_type": "stream",
     "text": [
      "Counter({1: 2, 3: 2, 4: 2, 5: 2, 2: 1, 6: 1})\n"
     ]
    }
   ],
   "source": [
    "counter=collections.Counter(lst)      \n",
    "print(counter)"
   ]
  },
  {
   "cell_type": "markdown",
   "metadata": {},
   "source": [
    "#### 3.- Define a function to calculate the median. You are not allowed to use any methods or functions that directly calculate the median value. \n",
    "**Hint**: you might need to define two computation cases depending on the number of observations used to calculate the median."
   ]
  },
  {
   "cell_type": "code",
   "execution_count": 75,
   "metadata": {},
   "outputs": [
    {
     "name": "stdout",
     "output_type": "stream",
     "text": [
      "[1, 1, 1, 2, 2, 3, 3, 5, 5, 6]\n"
     ]
    },
    {
     "data": {
      "text/plain": [
       "2.5"
      ]
     },
     "execution_count": 75,
     "metadata": {},
     "output_type": "execute_result"
    }
   ],
   "source": [
    "def median(x):\n",
    "    n = len(x)\n",
    "    s = sorted(x)\n",
    "    return (sum(s[n//2-1:n//2+1])/2.0, s[n//2])[n % 2] if n else None\n",
    "print(lst)\n",
    "median(lst)"
   ]
  },
  {
   "cell_type": "code",
   "execution_count": 148,
   "metadata": {},
   "outputs": [
    {
     "name": "stdout",
     "output_type": "stream",
     "text": [
      "[1, 1, 1, 2, 2, 3, 3, 5, 5, 6]\n"
     ]
    },
    {
     "data": {
      "text/plain": [
       "2.5"
      ]
     },
     "execution_count": 148,
     "metadata": {},
     "output_type": "execute_result"
    }
   ],
   "source": [
    "#alternative that is easier to understand\n",
    "def median2(lst):\n",
    "    sortedLst = sorted(lst)\n",
    "    lstLen = len(lst)\n",
    "    index = (lstLen - 1) // 2 #cause the fourth is the fith! --> as  we are talking about indexes!\n",
    "    if (lstLen % 2):\n",
    "        return sortedLst[index]\n",
    "    else:\n",
    "        return (sortedLst[index] + sortedLst[index + 1])/2.0\n",
    "print(lst)\n",
    "median2(lst)"
   ]
  },
  {
   "cell_type": "markdown",
   "metadata": {},
   "source": [
    "#### 4.- Define a function to calculate the four quartiles. You can use the function you defined above to compute the median but you are not allowed to use any methods or functions that directly calculate the quartiles. "
   ]
  },
  {
   "cell_type": "code",
   "execution_count": 179,
   "metadata": {},
   "outputs": [
    {
     "name": "stdout",
     "output_type": "stream",
     "text": [
      "[1, 1, 1, 2, 2, 3, 3, 5, 5, 6]\n",
      "median 2.5\n",
      "[1, 1, 1, 2, 2.5]\n",
      "[1, 1, 1, 2, 2, 3, 3, 5, 5, 6]\n",
      "25% 1\n",
      "[3, 3, 5, 5]\n",
      "[1, 1, 1, 2, 2, 3, 3, 5, 5, 6]\n",
      "75% 4.0\n"
     ]
    }
   ],
   "source": [
    "#it works!!!\n",
    "def median(x):\n",
    "    n = len(x)\n",
    "    s = sorted(x)\n",
    "    return (sum(s[n//2-1:n//2+1])/2.0, s[n//2])[n % 2] if n else None\n",
    "print(lst)\n",
    "print(\"median\",median(lst))\n",
    "median_of_lst = math.ceil(median(lst))\n",
    "\n",
    "sub_lst_lower50 = []\n",
    "for i in range (0, math.ceil(len(lst)/2)):\n",
    "    sub_lst_lower50.append(lst[i])\n",
    "del sub_lst_lower50[-1]\n",
    "sub_lst_lower50.append(median(lst))\n",
    "print(sub_lst_lower50)\n",
    "\n",
    "def quartile_25(x):\n",
    "    n = len(x)\n",
    "    s = sorted(x)\n",
    "    return (sum(s[n//2-1:n//2+1])/2.0, s[n//2])[n % 2] if n else None\n",
    "print(lst)\n",
    "print(\"25%\", quartile_25(sub_lst_lower50))\n",
    "\n",
    "sub_lst_upper50 = []\n",
    "for i in range (round(len(lst)/2), len(lst)-1):\n",
    "    sub_lst_upper50.append(lst[i])\n",
    "print(sub_lst_upper50)\n",
    "\n",
    "def quartile_75(x):\n",
    "    n = len(x)\n",
    "    s = sorted(x)\n",
    "    return (sum(s[n//2-1:n//2+1])/2.0, s[n//2])[n % 2] if n else None\n",
    "print(lst)\n",
    "print(\"75%\", quartile_75(sub_lst_upper50))\n",
    "\n",
    "#for i in range (1, median_of_lst+1):"
   ]
  },
  {
   "cell_type": "code",
   "execution_count": 180,
   "metadata": {},
   "outputs": [
    {
     "data": {
      "text/plain": [
       "'\\ndef median(x):\\n    n = len(x)\\n    s = sorted(x)\\n    return (sum(s[n//2-1:n//2+1])/2.0, s[n//2])[n % 2] if n else None\\nprint(lst)\\nmedian(lst)\\nmedian_of_lst = math.ceil(median(lst))\\nprint(median_of_lst)\\n\\nsub_lst_lower50 = []\\nfor i in lst:\\n    if 1<=i<=(median_of_lst):\\n        sub_lst_lower50.append(i)\\nprint(sub_lst_lower50)\\n\\n#for i in range (1, median_of_lst+1):\\n'"
      ]
     },
     "execution_count": 180,
     "metadata": {},
     "output_type": "execute_result"
    }
   ],
   "source": [
    "\"\"\"\n",
    "def median(x):\n",
    "    n = len(x)\n",
    "    s = sorted(x)\n",
    "    return (sum(s[n//2-1:n//2+1])/2.0, s[n//2])[n % 2] if n else None\n",
    "print(lst)\n",
    "median(lst)\n",
    "median_of_lst = math.ceil(median(lst))\n",
    "print(median_of_lst)\n",
    "\n",
    "sub_lst_lower50 = []\n",
    "for i in lst:\n",
    "    if 1<=i<=(median_of_lst):\n",
    "        sub_lst_lower50.append(i)\n",
    "print(sub_lst_lower50)\n",
    "\n",
    "#for i in range (1, median_of_lst+1):\n",
    "\"\"\""
   ]
  },
  {
   "cell_type": "code",
   "execution_count": 181,
   "metadata": {},
   "outputs": [
    {
     "data": {
      "text/plain": [
       "'\\n#how to change this one?\\ndef quartile(x):\\n    n = len(x)\\n    s = sorted(x)\\n    return (sum(s[n//4-1:n//4+1])/2.0, s[n//4])[n % 2] if n else None\\nquartile(lst)\\n'"
      ]
     },
     "execution_count": 181,
     "metadata": {},
     "output_type": "execute_result"
    }
   ],
   "source": [
    "\"\"\"\n",
    "#how to change this one?\n",
    "def quartile(x):\n",
    "    n = len(x)\n",
    "    s = sorted(x)\n",
    "    return (sum(s[n//4-1:n//4+1])/2.0, s[n//4])[n % 2] if n else None\n",
    "quartile(lst)\n",
    "\"\"\""
   ]
  },
  {
   "cell_type": "code",
   "execution_count": 182,
   "metadata": {},
   "outputs": [
    {
     "data": {
      "text/plain": [
       "'#alternative that is easier to understand\\ndef quartile25(lst):\\n    sortedLst = sorted(lst)\\n    lstLen = len(lst)\\n    index = (lstLen -1) // 4\\n    if (lstLen % 4):\\n        return sortedLst[index]\\n    else:\\n        return (sortedLst[index] + sortedLst[index + 1])/4.0\\nprint(lst)\\nquartile25(lst)\\n'"
      ]
     },
     "execution_count": 182,
     "metadata": {},
     "output_type": "execute_result"
    }
   ],
   "source": [
    "\"\"\"#alternative that is easier to understand\n",
    "def quartile25(lst):\n",
    "    sortedLst = sorted(lst)\n",
    "    lstLen = len(lst)\n",
    "    index = (lstLen -1) // 4\n",
    "    if (lstLen % 4):\n",
    "        return sortedLst[index]\n",
    "    else:\n",
    "        return (sortedLst[index] + sortedLst[index + 1])/4.0\n",
    "print(lst)\n",
    "quartile25(lst)\n",
    "\"\"\""
   ]
  },
  {
   "cell_type": "code",
   "execution_count": 183,
   "metadata": {},
   "outputs": [
    {
     "data": {
      "text/plain": [
       "'#alternative that is easier to understand\\ndef quartile75(lst):\\n    sortedLst = sorted(lst)\\n    lstLen = len(lst)\\n    index = (lstLen -1) // 4\\n    if (lstLen % 4):\\n        return sortedLst[index+1] *2.5\\n    else:\\n        return (sortedLst[index] + sortedLst[index + 1])/4.0 * 3\\nprint(lst)\\nquartile75(lst)\\n'"
      ]
     },
     "execution_count": 183,
     "metadata": {},
     "output_type": "execute_result"
    }
   ],
   "source": [
    "\"\"\"#alternative that is easier to understand\n",
    "def quartile75(lst):\n",
    "    sortedLst = sorted(lst)\n",
    "    lstLen = len(lst)\n",
    "    index = (lstLen -1) // 4\n",
    "    if (lstLen % 4):\n",
    "        return sortedLst[index+1] *2.5\n",
    "    else:\n",
    "        return (sortedLst[index] + sortedLst[index + 1])/4.0 * 3\n",
    "print(lst)\n",
    "quartile75(lst)\n",
    "\"\"\""
   ]
  },
  {
   "cell_type": "markdown",
   "metadata": {},
   "source": [
    "## Challenge 3\n",
    "Read the csv `roll_the_dice_hundred.csv` from the `data` folder.\n",
    "#### 1.- Sort the values and plot them. What do you see?"
   ]
  },
  {
   "cell_type": "code",
   "execution_count": 236,
   "metadata": {},
   "outputs": [
    {
     "name": "stdout",
     "output_type": "stream",
     "text": [
      "Index(['Unnamed: 0', 'value'], dtype='object')\n",
      "[1, 2, 6, 1, 6, 5, 2, 2, 4, 1, 5, 6, 5, 4, 5, 4, 4, 6, 2, 4, 4, 6, 3, 6, 6, 4, 1, 4, 4, 2, 6, 5, 5, 2, 3, 6, 6, 2, 3, 6, 6, 2, 5, 3, 4, 6, 2, 1, 4, 2, 3, 2, 2, 4, 6, 2, 1, 3, 2, 4, 4, 3, 4, 1, 3, 6, 3, 4, 4, 4, 2, 2, 5, 1, 5, 6, 2, 4, 6, 5, 6, 4, 1, 3, 3, 3, 5, 6, 5, 1, 6, 3, 6, 4, 1, 4, 6, 1, 3, 6]\n"
     ]
    }
   ],
   "source": [
    "data = pd.read_csv(\"../data/roll_the_dice_hundred.csv\", index_col=\"roll\")\n",
    "print(data.columns)\n",
    "data = data.drop(columns=[\"Unnamed: 0\"], axis=1)\n",
    "data\n",
    "\n",
    "lst=list(data[\"value\"])\n",
    "print(lst)"
   ]
  },
  {
   "cell_type": "markdown",
   "metadata": {},
   "source": [
    "#### 2.- Using the functions you defined in *challenge 2*, calculate the mean value of the hundred dice rolls."
   ]
  },
  {
   "cell_type": "code",
   "execution_count": 227,
   "metadata": {},
   "outputs": [
    {
     "name": "stdout",
     "output_type": "stream",
     "text": [
      "3.74\n"
     ]
    }
   ],
   "source": [
    "def mymean(rolls):\n",
    "    return sum(rolls)/len(rolls)\n",
    "print(mymean(lst))"
   ]
  },
  {
   "cell_type": "markdown",
   "metadata": {},
   "source": [
    "#### 3.- Now, calculate the frequency distribution.\n"
   ]
  },
  {
   "cell_type": "code",
   "execution_count": 231,
   "metadata": {},
   "outputs": [
    {
     "name": "stdout",
     "output_type": "stream",
     "text": [
      "{1: 12, 2: 17, 3: 14, 4: 22, 5: 12, 6: 23}\n"
     ]
    },
    {
     "data": {
      "text/plain": [
       "'\\ndice2_df = pd.DataFrame.from_dict(lst, orient=\"index\")\\ndice2_df\\n'"
      ]
     },
     "execution_count": 231,
     "metadata": {},
     "output_type": "execute_result"
    }
   ],
   "source": [
    "dice2 = { i : lst.count(i) for i in range(1, 6+1) }\n",
    "print(dice2)"
   ]
  },
  {
   "cell_type": "markdown",
   "metadata": {},
   "source": [
    "#### 4.- Plot the histogram. What do you see (shape, values...) ? How can you connect the mean value to the histogram? "
   ]
  },
  {
   "cell_type": "code",
   "execution_count": 239,
   "metadata": {},
   "outputs": [
    {
     "data": {
      "text/plain": [
       "array([[<matplotlib.axes._subplots.AxesSubplot object at 0x1246079d0>]],\n",
       "      dtype=object)"
      ]
     },
     "execution_count": 239,
     "metadata": {},
     "output_type": "execute_result"
    },
    {
     "data": {
      "image/png": "[encoded data removed]",
      "text/plain": [
       "<Figure size 432x288 with 1 Axes>"
      ]
     },
     "metadata": {
      "needs_background": "light"
     },
     "output_type": "display_data"
    }
   ],
   "source": [
    "lst_df = pd.DataFrame(lst)\n",
    "lst_df\n",
    "lst_df.hist()"
   ]
  },
  {
   "cell_type": "code",
   "execution_count": null,
   "metadata": {},
   "outputs": [],
   "source": [
    "\"\"\"dice2 = pd.DataFrame.from_dict(dice2, orient=\"index\")\n",
    "dice2.hist()\"\"\""
   ]
  },
  {
   "cell_type": "markdown",
   "metadata": {},
   "source": [
    "#### 5.- Read the `roll_the_dice_thousand.csv` from the `data` folder. Plot the frequency distribution as you did before. Has anything changed? Why do you think it changed?"
   ]
  },
  {
   "cell_type": "code",
   "execution_count": 259,
   "metadata": {
    "scrolled": true
   },
   "outputs": [
    {
     "name": "stdout",
     "output_type": "stream",
     "text": [
      "Index(['value'], dtype='object')\n",
      "{1: 175, 2: 167, 3: 175, 4: 168, 5: 149, 6: 166}\n"
     ]
    },
    {
     "data": {
      "text/plain": [
       "array([[<matplotlib.axes._subplots.AxesSubplot object at 0x124a15b10>]],\n",
       "      dtype=object)"
      ]
     },
     "execution_count": 259,
     "metadata": {},
     "output_type": "execute_result"
    },
    {
     "data": {
      "image/png": "[encoded data removed]",
      "text/plain": [
       "<Figure size 432x288 with 1 Axes>"
      ]
     },
     "metadata": {
      "needs_background": "light"
     },
     "output_type": "display_data"
    }
   ],
   "source": [
    "data_1000 = pd.read_csv(\"../data/roll_the_dice_thousand.csv\", index_col=\"roll\")\n",
    "print(data.columns)\n",
    "data_1000 = data_1000.drop(columns=[\"Unnamed: 0\"], axis=1)\n",
    "data_1000\n",
    "\n",
    "lst=list(data_1000[\"value\"])\n",
    "#print(lst)\n",
    "dice_1000 = { i : lst.count(i) for i in range(1, 6+1) }\n",
    "print(dice_1000)\n",
    "\n",
    "lst_df = pd.DataFrame(lst)\n",
    "lst_df\n",
    "lst_df.hist(bins=20)"
   ]
  },
  {
   "cell_type": "markdown",
   "metadata": {},
   "source": [
    "## Challenge 4\n",
    "In the `data` folder of this repository you will find three different files with the prefix `ages_population`. These files contain information about a poll answered by a thousand people regarding their age. Each file corresponds to the poll answers in different neighbourhoods of Barcelona.\n",
    "\n",
    "#### 1.- Read the file `ages_population.csv`. Calculate the frequency distribution and plot it as we did during the lesson. Try to guess the range in which the mean and the standard deviation will be by looking at the plot. "
   ]
  },
  {
   "cell_type": "code",
   "execution_count": 253,
   "metadata": {},
   "outputs": [
    {
     "data": {
      "text/html": [
       "<div>\n",
       "<style scoped>\n",
       "    .dataframe tbody tr th:only-of-type {\n",
       "        vertical-align: middle;\n",
       "    }\n",
       "\n",
       "    .dataframe tbody tr th {\n",
       "        vertical-align: top;\n",
       "    }\n",
       "\n",
       "    .dataframe thead th {\n",
       "        text-align: right;\n",
       "    }\n",
       "</style>\n",
       "<table border=\"1\" class=\"dataframe\">\n",
       "  <thead>\n",
       "    <tr style=\"text-align: right;\">\n",
       "      <th></th>\n",
       "      <th>observation</th>\n",
       "    </tr>\n",
       "  </thead>\n",
       "  <tbody>\n",
       "    <tr>\n",
       "      <td>0</td>\n",
       "      <td>68.0</td>\n",
       "    </tr>\n",
       "    <tr>\n",
       "      <td>1</td>\n",
       "      <td>12.0</td>\n",
       "    </tr>\n",
       "    <tr>\n",
       "      <td>2</td>\n",
       "      <td>45.0</td>\n",
       "    </tr>\n",
       "    <tr>\n",
       "      <td>3</td>\n",
       "      <td>38.0</td>\n",
       "    </tr>\n",
       "    <tr>\n",
       "      <td>4</td>\n",
       "      <td>49.0</td>\n",
       "    </tr>\n",
       "    <tr>\n",
       "      <td>...</td>\n",
       "      <td>...</td>\n",
       "    </tr>\n",
       "    <tr>\n",
       "      <td>995</td>\n",
       "      <td>27.0</td>\n",
       "    </tr>\n",
       "    <tr>\n",
       "      <td>996</td>\n",
       "      <td>47.0</td>\n",
       "    </tr>\n",
       "    <tr>\n",
       "      <td>997</td>\n",
       "      <td>53.0</td>\n",
       "    </tr>\n",
       "    <tr>\n",
       "      <td>998</td>\n",
       "      <td>33.0</td>\n",
       "    </tr>\n",
       "    <tr>\n",
       "      <td>999</td>\n",
       "      <td>31.0</td>\n",
       "    </tr>\n",
       "  </tbody>\n",
       "</table>\n",
       "<p>1000 rows × 1 columns</p>\n",
       "</div>"
      ],
      "text/plain": [
       "     observation\n",
       "0           68.0\n",
       "1           12.0\n",
       "2           45.0\n",
       "3           38.0\n",
       "4           49.0\n",
       "..           ...\n",
       "995         27.0\n",
       "996         47.0\n",
       "997         53.0\n",
       "998         33.0\n",
       "999         31.0\n",
       "\n",
       "[1000 rows x 1 columns]"
      ]
     },
     "execution_count": 253,
     "metadata": {},
     "output_type": "execute_result"
    }
   ],
   "source": [
    "data_ages = pd.read_csv(\"../data/ages_population.csv\")\n",
    "data_ages"
   ]
  },
  {
   "cell_type": "code",
   "execution_count": 272,
   "metadata": {},
   "outputs": [
    {
     "data": {
      "text/plain": [
       "array([[<matplotlib.axes._subplots.AxesSubplot object at 0x124b4fb90>]],\n",
       "      dtype=object)"
      ]
     },
     "execution_count": 272,
     "metadata": {},
     "output_type": "execute_result"
    },
    {
     "data": {
      "image/png": "[encoded data removed]",
      "text/plain": [
       "<Figure size 432x288 with 1 Axes>"
      ]
     },
     "metadata": {
      "needs_background": "light"
     },
     "output_type": "display_data"
    }
   ],
   "source": [
    "lst=list(data_ages[\"observation\"])\n",
    "#print(lst)\n",
    "lst_df = pd.DataFrame(lst)\n",
    "lst_df\n",
    "lst_df.hist(bins=20)"
   ]
  },
  {
   "cell_type": "markdown",
   "metadata": {},
   "source": [
    "#### 2.- Calculate the exact mean and standard deviation and compare them with your guesses. Do they fall inside the ranges you guessed?"
   ]
  },
  {
   "cell_type": "code",
   "execution_count": 273,
   "metadata": {},
   "outputs": [
    {
     "data": {
      "text/plain": [
       "0    36.56\n",
       "dtype: float64"
      ]
     },
     "execution_count": 273,
     "metadata": {},
     "output_type": "execute_result"
    }
   ],
   "source": [
    "lst_df.mean()"
   ]
  },
  {
   "cell_type": "code",
   "execution_count": 274,
   "metadata": {},
   "outputs": [
    {
     "data": {
      "text/plain": [
       "0    12.8165\n",
       "dtype: float64"
      ]
     },
     "execution_count": 274,
     "metadata": {},
     "output_type": "execute_result"
    }
   ],
   "source": [
    "lst_df.std()"
   ]
  },
  {
   "cell_type": "markdown",
   "metadata": {},
   "source": [
    "#### 3.- Now read the file `ages_population2.csv` . Calculate the frequency distribution and plot it."
   ]
  },
  {
   "cell_type": "code",
   "execution_count": 265,
   "metadata": {},
   "outputs": [
    {
     "data": {
      "text/plain": [
       "array([[<matplotlib.axes._subplots.AxesSubplot object at 0x124d4e590>]],\n",
       "      dtype=object)"
      ]
     },
     "execution_count": 265,
     "metadata": {},
     "output_type": "execute_result"
    },
    {
     "data": {
      "image/png": "[encoded data removed]",
      "text/plain": [
       "<Figure size 432x288 with 1 Axes>"
      ]
     },
     "metadata": {
      "needs_background": "light"
     },
     "output_type": "display_data"
    }
   ],
   "source": [
    "data_ages2 = pd.read_csv(\"../data/ages_population2.csv\")\n",
    "data_ages2\n",
    "lst=list(data_ages2[\"observation\"])\n",
    "#print(lst)\n",
    "lst_df = pd.DataFrame(lst)\n",
    "lst_df\n",
    "lst_df.hist(bins=20)"
   ]
  },
  {
   "cell_type": "markdown",
   "metadata": {},
   "source": [
    "####  4.- What do you see? Is there any difference with the frequency distribution in step 1?"
   ]
  },
  {
   "cell_type": "code",
   "execution_count": null,
   "metadata": {},
   "outputs": [],
   "source": [
    "'interestingly some ages seem to be missing'"
   ]
  },
  {
   "cell_type": "markdown",
   "metadata": {},
   "source": [
    "#### 5.- Calculate the mean and standard deviation. Compare the results with the mean and standard deviation in step 2. What do you think?"
   ]
  },
  {
   "cell_type": "code",
   "execution_count": 267,
   "metadata": {},
   "outputs": [
    {
     "data": {
      "text/plain": [
       "0    27.155\n",
       "dtype: float64"
      ]
     },
     "execution_count": 267,
     "metadata": {},
     "output_type": "execute_result"
    }
   ],
   "source": [
    "lst_df.mean()"
   ]
  },
  {
   "cell_type": "code",
   "execution_count": 269,
   "metadata": {},
   "outputs": [
    {
     "data": {
      "text/plain": [
       "0    2.969814\n",
       "dtype: float64"
      ]
     },
     "execution_count": 269,
     "metadata": {},
     "output_type": "execute_result"
    }
   ],
   "source": [
    "lst_df.std()"
   ]
  },
  {
   "cell_type": "code",
   "execution_count": null,
   "metadata": {},
   "outputs": [],
   "source": [
    "\"\"\"\n",
    "while the different mean can most likley be explained by gaps that we see \n",
    "for some ages, the standard deviation is astonishingly low in step 5\n",
    "\"\"\""
   ]
  },
  {
   "cell_type": "markdown",
   "metadata": {},
   "source": [
    "## Challenge 5\n",
    "Now is the turn of `ages_population3.csv`.\n",
    "\n",
    "#### 1.- Read the file `ages_population3.csv`. Calculate the frequency distribution and plot it."
   ]
  },
  {
   "cell_type": "code",
   "execution_count": 285,
   "metadata": {},
   "outputs": [
    {
     "data": {
      "text/plain": [
       "array([[<matplotlib.axes._subplots.AxesSubplot object at 0x125347b90>]],\n",
       "      dtype=object)"
      ]
     },
     "execution_count": 285,
     "metadata": {},
     "output_type": "execute_result"
    },
    {
     "data": {
      "image/png": "[encoded data removed]",
      "text/plain": [
       "<Figure size 432x288 with 1 Axes>"
      ]
     },
     "metadata": {
      "needs_background": "light"
     },
     "output_type": "display_data"
    }
   ],
   "source": [
    "data_ages3 = pd.read_csv(\"../data/ages_population3.csv\")\n",
    "data_ages3\n",
    "lst=list(data_ages3[\"observation\"])\n",
    "#print(lst)\n",
    "lst_df = pd.DataFrame(lst)\n",
    "lst_df\n",
    "lst_df.hist(bins=20)"
   ]
  },
  {
   "cell_type": "markdown",
   "metadata": {},
   "source": [
    "#### 2.- Calculate the mean and standard deviation. Compare the results with the plot in step 1. What is happening?"
   ]
  },
  {
   "cell_type": "code",
   "execution_count": 277,
   "metadata": {},
   "outputs": [
    {
     "data": {
      "text/plain": [
       "0    41.989\n",
       "dtype: float64"
      ]
     },
     "execution_count": 277,
     "metadata": {},
     "output_type": "execute_result"
    }
   ],
   "source": [
    "lst_df.mean()"
   ]
  },
  {
   "cell_type": "code",
   "execution_count": 283,
   "metadata": {},
   "outputs": [
    {
     "data": {
      "text/plain": [
       "0    16.144706\n",
       "dtype: float64"
      ]
     },
     "execution_count": 283,
     "metadata": {},
     "output_type": "execute_result"
    }
   ],
   "source": [
    "lst_df.std()"
   ]
  },
  {
   "cell_type": "code",
   "execution_count": 284,
   "metadata": {},
   "outputs": [
    {
     "data": {
      "text/html": [
       "<div>\n",
       "<style scoped>\n",
       "    .dataframe tbody tr th:only-of-type {\n",
       "        vertical-align: middle;\n",
       "    }\n",
       "\n",
       "    .dataframe tbody tr th {\n",
       "        vertical-align: top;\n",
       "    }\n",
       "\n",
       "    .dataframe thead th {\n",
       "        text-align: right;\n",
       "    }\n",
       "</style>\n",
       "<table border=\"1\" class=\"dataframe\">\n",
       "  <thead>\n",
       "    <tr style=\"text-align: right;\">\n",
       "      <th></th>\n",
       "      <th>0</th>\n",
       "    </tr>\n",
       "  </thead>\n",
       "  <tbody>\n",
       "    <tr>\n",
       "      <td>count</td>\n",
       "      <td>1000.000000</td>\n",
       "    </tr>\n",
       "    <tr>\n",
       "      <td>mean</td>\n",
       "      <td>41.989000</td>\n",
       "    </tr>\n",
       "    <tr>\n",
       "      <td>std</td>\n",
       "      <td>16.144706</td>\n",
       "    </tr>\n",
       "    <tr>\n",
       "      <td>min</td>\n",
       "      <td>1.000000</td>\n",
       "    </tr>\n",
       "    <tr>\n",
       "      <td>25%</td>\n",
       "      <td>30.000000</td>\n",
       "    </tr>\n",
       "    <tr>\n",
       "      <td>50%</td>\n",
       "      <td>40.000000</td>\n",
       "    </tr>\n",
       "    <tr>\n",
       "      <td>75%</td>\n",
       "      <td>53.000000</td>\n",
       "    </tr>\n",
       "    <tr>\n",
       "      <td>max</td>\n",
       "      <td>77.000000</td>\n",
       "    </tr>\n",
       "  </tbody>\n",
       "</table>\n",
       "</div>"
      ],
      "text/plain": [
       "                 0\n",
       "count  1000.000000\n",
       "mean     41.989000\n",
       "std      16.144706\n",
       "min       1.000000\n",
       "25%      30.000000\n",
       "50%      40.000000\n",
       "75%      53.000000\n",
       "max      77.000000"
      ]
     },
     "execution_count": 284,
     "metadata": {},
     "output_type": "execute_result"
    }
   ],
   "source": [
    "lst_df.describe()"
   ]
  },
  {
   "cell_type": "code",
   "execution_count": null,
   "metadata": {},
   "outputs": [],
   "source": [
    "\"\"\"\n",
    "both the standard deviation and the mean are remarkably high\n",
    "--> probably this is due to the massive amount of peiople being around the age of 67/68\n",
    "\"\"\""
   ]
  },
  {
   "cell_type": "markdown",
   "metadata": {},
   "source": [
    "#### 3.- Calculate the four quartiles. Use the results to explain your reasoning for question in step 2. How much of a difference is there between the median and the mean?"
   ]
  },
  {
   "cell_type": "code",
   "execution_count": 294,
   "metadata": {},
   "outputs": [
    {
     "name": "stdout",
     "output_type": "stream",
     "text": [
      "median 40.0\n",
      "25% 30.0\n",
      "75% 53.0\n"
     ]
    }
   ],
   "source": [
    "lst =sorted(lst)\n",
    "\n",
    "def median(x):\n",
    "    n = len(x)\n",
    "    s = sorted(x)\n",
    "    return (sum(s[n//2-1:n//2+1])/2.0, s[n//2])[n % 2] if n else None\n",
    "#print(lst)\n",
    "print(\"median\",median(lst))\n",
    "median_of_lst = math.ceil(median(lst))\n",
    "\n",
    "sub_lst_lower50 = []\n",
    "for i in range (0, math.ceil(len(lst)/2)):\n",
    "    sub_lst_lower50.append(lst[i])\n",
    "del sub_lst_lower50[-1]\n",
    "sub_lst_lower50.append(median(lst))\n",
    "#print(sub_lst_lower50)\n",
    "\n",
    "def quartile_25(x):\n",
    "    n = len(x)\n",
    "    s = sorted(x)\n",
    "    return (sum(s[n//2-1:n//2+1])/2.0, s[n//2])[n % 2] if n else None\n",
    "#print(lst)\n",
    "print(\"25%\", quartile_25(sub_lst_lower50))\n",
    "\n",
    "sub_lst_upper50 = []\n",
    "for i in range (round(len(lst)/2), len(lst)-1):\n",
    "    sub_lst_upper50.append(lst[i])\n",
    "#print(sub_lst_upper50)\n",
    "\n",
    "def quartile_75(x):\n",
    "    n = len(x)\n",
    "    s = sorted(x)\n",
    "    return (sum(s[n//2-1:n//2+1])/2.0, s[n//2])[n % 2] if n else None\n",
    "#print(lst)\n",
    "print(\"75%\", quartile_75(sub_lst_upper50))\n",
    "\n"
   ]
  },
  {
   "cell_type": "markdown",
   "metadata": {},
   "source": [
    "#### 4.- Calculate other percentiles that might be useful to give more arguments to your reasoning."
   ]
  },
  {
   "cell_type": "code",
   "execution_count": 296,
   "metadata": {},
   "outputs": [
    {
     "name": "stdout",
     "output_type": "stream",
     "text": [
      "12.5%: 24.0\n"
     ]
    }
   ],
   "source": [
    "#12.5%\n",
    "\n",
    "sub_lst_lower25 = []\n",
    "for i in range (0, math.ceil(len(lst)/4)):\n",
    "    sub_lst_lower25.append(lst[i])\n",
    "del sub_lst_lower25[-1]\n",
    "sub_lst_lower25.append(median(lst))\n",
    "#print(sub_lst_lower50)\n",
    "\n",
    "def quartile_12point5(x):\n",
    "    n = len(x)\n",
    "    s = sorted(x)\n",
    "    return (sum(s[n//2-1:n//2+1])/2.0, s[n//2])[n % 2] if n else None\n",
    "#print(lst)\n",
    "print(\"12.5%:\", quartile_12point5(sub_lst_lower25))"
   ]
  },
  {
   "cell_type": "code",
   "execution_count": 298,
   "metadata": {},
   "outputs": [
    {
     "name": "stdout",
     "output_type": "stream",
     "text": [
      "87.5%: 66.0\n"
     ]
    }
   ],
   "source": [
    "#87.5%\n",
    "\n",
    "#round(len(lst)/2), len(lst)-1\n",
    "sub_lst_upper25 = []\n",
    "for i in range (math.ceil((len(lst)/4)*3), len(lst)-1):\n",
    "    sub_lst_upper25.append(lst[i])\n",
    "del sub_lst_upper25[-1]\n",
    "sub_lst_upper25.append(median(lst))\n",
    "#print(sub_lst_lower50)\n",
    "\n",
    "def quartile_87point5(x):\n",
    "    n = len(x)\n",
    "    s = sorted(x)\n",
    "    return (sum(s[n//2-1:n//2+1])/2.0, s[n//2])[n % 2] if n else None\n",
    "#print(lst)\n",
    "print(\"87.5%:\", quartile_87point5(sub_lst_upper25))"
   ]
  }
 ],
 "metadata": {
  "kernelspec": {
   "display_name": "Python 3",
   "language": "python",
   "name": "python3"
  },
  "language_info": {
   "codemirror_mode": {
    "name": "ipython",
    "version": 3
   },
   "file_extension": ".py",
   "mimetype": "text/x-python",
   "name": "python",
   "nbconvert_exporter": "python",
   "pygments_lexer": "ipython3",
   "version": "3.7.4"
  }
 },
 "nbformat": 4,
 "nbformat_minor": 2
}
