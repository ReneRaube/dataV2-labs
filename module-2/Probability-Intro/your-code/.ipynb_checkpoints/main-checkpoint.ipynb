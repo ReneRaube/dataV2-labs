{
 "cells": [
  {
   "cell_type": "markdown",
   "metadata": {},
   "source": [
    "# Introduction To Probability\n",
    "## Challenge 1\n",
    "\n",
    "A and B are events of a probability space with $(\\omega, \\sigma, P)$ such that $P(A) = 0.3$, $P(B) = 0.6$ and $P(A \\cap B) = 0.1$\n",
    "\n",
    "Which of the following statements are false?\n",
    "* $P(A \\cup B) = 0.6$\n",
    "* $P(A \\cap B^{C}) = 0.2$\n",
    "* $P(A \\cap (B \\cup B^{C})) = 0.4$\n",
    "* $P(A^{C} \\cap B^{C}) = 0.3$\n",
    "* $P((A \\cap B)^{C}) = 0.9$"
   ]
  },
  {
   "cell_type": "code",
   "execution_count": 1,
   "metadata": {},
   "outputs": [
    {
     "data": {
      "text/plain": [
       "'\\nfalse: \\n𝑃(𝐴∩(𝐵∪𝐵^𝐶))=0.4\\n'"
      ]
     },
     "execution_count": 1,
     "metadata": {},
     "output_type": "execute_result"
    }
   ],
   "source": [
    "\"\"\"\n",
    "false: \n",
    "𝑃(𝐴∩(𝐵∪𝐵^𝐶))=0.4\n",
    "\"\"\""
   ]
  },
  {
   "cell_type": "markdown",
   "metadata": {},
   "source": [
    "## Challenge 2\n",
    "There is a box with 10 white balls, 12 red balls and 8 black balls. Calculate the probability of:\n",
    "* Taking a white ball out.\n",
    "* Taking a white ball out after taking a black ball out.\n",
    "* Taking a red ball out after taking a black and a red ball out.\n",
    "* Taking a red ball out after taking a black and a red ball out with reposition.\n",
    "\n",
    "**Hint**: Reposition means putting back the ball into the box after taking it out."
   ]
  },
  {
   "cell_type": "code",
   "execution_count": 2,
   "metadata": {},
   "outputs": [
    {
     "data": {
      "text/plain": [
       "'\\n10/(10+12+8) = 1/3\\n10/(10+12+7) = 10/29\\n11/28\\n12/30\\n'"
      ]
     },
     "execution_count": 2,
     "metadata": {},
     "output_type": "execute_result"
    }
   ],
   "source": [
    "\"\"\"\n",
    "10/(10+12+8) = 1/3\n",
    "10/(10+12+7) = 10/29\n",
    "11/28\n",
    "12/30\n",
    "\"\"\""
   ]
  },
  {
   "cell_type": "markdown",
   "metadata": {},
   "source": [
    "## Challenge 3\n",
    "\n",
    "You are planning to go on a picnic today but the morning is cloudy. You hate rain so you don't know whether to go out or stay home! To help you make a decision, you gather the following data about rainy days:\n",
    "\n",
    "* 50% of all rainy days start off cloudy!\n",
    "* Cloudy mornings are common. About 40% of days start cloudy. \n",
    "* This month is usually dry so only 3 of 30 days (10%) tend to be rainy. \n",
    "\n",
    "What is the chance of rain during the day?"
   ]
  },
  {
   "cell_type": "code",
   "execution_count": 3,
   "metadata": {},
   "outputs": [
    {
     "data": {
      "text/plain": [
       "\"\\nfirst one gives us the information that in half of the cases where it rains, it has been cloudy before.\\nThis doesn't mean however, that knowing that there are clouds it is 50% likely that there will be rain.\\nIt only means that the probability that there have been clouds in the morning if it rains during the day has been 50% \\nP(Clouds in the morning given that Rain)=50%\\n\\nstatement 2 might have helped us if statement one would have formulated the other way around.\\n\\nif we rely on statement 3 as a prediction of our forecast, we could say that the chance is 10%. However, it is not \\na really reliable prediction.\\n\\n\""
      ]
     },
     "execution_count": 3,
     "metadata": {},
     "output_type": "execute_result"
    }
   ],
   "source": [
    "\"\"\"\n",
    "first one gives us the information that in half of the cases where it rains, it has been cloudy before.\n",
    "This doesn't mean however, that knowing that there are clouds it is 50% likely that there will be rain.\n",
    "It only means that the probability that there have been clouds in the morning if it rains during the day has been 50% \n",
    "P(Clouds in the morning given that Rain)=50%\n",
    "\n",
    "P(C|R) = P(C and R)/P(R) = 50% \n",
    "P(C) = 40%\n",
    "P(R) = 10%\n",
    "P(R|C)=? #this is what we are looking for\n",
    "P(R|C)=P(C and R)/P(C) --> P(C) is known. We have to check P(C and R). \n",
    "This we get by plugging in P(R) into P(C and R)/P(R) = 50% --> P(C and R)=5%\n",
    "plug P(C and R)=5% into P(R|C)=P(C and R)/P(C)\n",
    "\n",
    "we get 12.5%\n",
    "\n",
    "\"\"\""
   ]
  },
  {
   "cell_type": "markdown",
   "metadata": {},
   "source": [
    "## Challenge 4\n",
    "\n",
    "One thousand people were asked through a telephone survey whether they thought more street lighting is needed at night or not.\n",
    "\n",
    "Out of the 480 men that answered the survey, 324 said yes and 156 said no. On the other hand, out of the 520 women that answered, 351 said yes and 169 said no. \n",
    "\n",
    "We wonder if men and women have a different opinions about the street lighting matter. Is gender relevant or irrelevant to the question?\n",
    "\n",
    "Consider the following events:\n",
    "- The answer is yes, so the person that answered thinks that more street lighting is needed.\n",
    "- The person who answered is a man.\n",
    "\n",
    "We want to know if these events are independent, that is, if the fact of wanting more light depends on whether one is male or female. Are these events independent or not?\n",
    "\n",
    "**Hint**: To clearly compare the answers by gender, it is best to place the data in a table."
   ]
  },
  {
   "cell_type": "code",
   "execution_count": 17,
   "metadata": {},
   "outputs": [
    {
     "name": "stdout",
     "output_type": "stream",
     "text": [
      "0.675\n",
      "0.675\n"
     ]
    }
   ],
   "source": [
    "total = 1000\n",
    "M = 480\n",
    "W = 520\n",
    "M_Y = 324\n",
    "M_N = 156\n",
    "W_Y = 351\n",
    "W_N = 169\n",
    "Y=M_Y+W_Y\n",
    "N=M_N+W_N\n",
    "\n",
    "print(M_Y/M)\n",
    "print(W_Y/W)\n",
    "\n",
    "#yes, it is independent of the gender"
   ]
  },
  {
   "cell_type": "code",
   "execution_count": 20,
   "metadata": {},
   "outputs": [
    {
     "name": "stdout",
     "output_type": "stream",
     "text": [
      "  Gender  Yes   No  Total\n",
      "0      M  324  156    480\n",
      "1      W  351  169    520\n",
      "2  Total  675  325   1000\n",
      "  Gender    Yes     No  Total\n",
      "0      M  0.675  0.325    1.0\n",
      "1      W  0.675  0.325    1.0\n",
      "2  Total  1.000  1.000    1.0\n"
     ]
    },
    {
     "data": {
      "text/plain": [
       "'\\ngender Yes No Total\\nM\\nF\\nTotal\\n'"
      ]
     },
     "execution_count": 20,
     "metadata": {},
     "output_type": "execute_result"
    }
   ],
   "source": [
    "#answering the question using dataframe\n",
    "import pandas as pd\n",
    "import numpy as np\n",
    "#table = pd.DataFrame()\n",
    "\n",
    "\n",
    "# initialize list of lists \n",
    "data = [['M', M_Y, M_N, M], ['W', W_Y, W_N, W], ['Total', M_Y+W_Y, M_N+W_N, total]] \n",
    "  \n",
    "# Create the pandas DataFrame \n",
    "df = pd.DataFrame(data, columns = ['Gender', 'Yes', 'No', \"Total\"]) \n",
    "print(df)\n",
    "\n",
    "#same as percentages:\n",
    "# initialize list of lists \n",
    "data = [['M', M_Y/M, M_N/M, M/M], ['W', W_Y/W, W_N/W, W/W], ['Total', (M_Y+W_Y)/Y, (M_N+W_N)/N, total/total]] \n",
    "  \n",
    "# Create the pandas DataFrame \n",
    "df = pd.DataFrame(data, columns = ['Gender', 'Yes', 'No', \"Total\"]) \n",
    "print(df)"
   ]
  },
  {
   "cell_type": "code",
   "execution_count": null,
   "metadata": {},
   "outputs": [],
   "source": [
    "#yes, it is independent of the gender"
   ]
  }
 ],
 "metadata": {
  "kernelspec": {
   "display_name": "Python 3",
   "language": "python",
   "name": "python3"
  },
  "language_info": {
   "codemirror_mode": {
    "name": "ipython",
    "version": 3
   },
   "file_extension": ".py",
   "mimetype": "text/x-python",
   "name": "python",
   "nbconvert_exporter": "python",
   "pygments_lexer": "ipython3",
   "version": "3.7.4"
  }
 },
 "nbformat": 4,
 "nbformat_minor": 2
}
