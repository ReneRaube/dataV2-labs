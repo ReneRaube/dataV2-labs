{
 "cells": [
  {
   "cell_type": "markdown",
   "metadata": {},
   "source": [
    "# Challenge 1 - Tic Tac Toe\n",
    "\n",
    "In this lab you will perform deep learning analysis on a dataset of playing [Tic Tac Toe](https://en.wikipedia.org/wiki/Tic-tac-toe).\n",
    "\n",
    "There are 9 grids in Tic Tac Toe that are coded as the following picture shows:\n",
    "\n",
    "![Tic Tac Toe Grids](tttboard.jpg)\n",
    "\n",
    "In the first 9 columns of the dataset you can find which marks (`x` or `o`) exist in the grids. If there is no mark in a certain grid, it is labeled as `b`. The last column is `class` which tells you whether Player X (who always moves first in Tic Tac Toe) wins in this configuration. Note that when `class` has the value `False`, it means either Player O wins the game or it ends up as a draw."
   ]
  },
  {
   "cell_type": "markdown",
   "metadata": {},
   "source": [
    "Follow the steps suggested below to conduct a neural network analysis using Tensorflow and Keras. You will build a deep learning model to predict whether Player X wins the game or not.\n",
    "\n",
    "## Step 1: Data Engineering\n",
    "\n",
    "This dataset is almost in the ready-to-use state so you do not need to worry about missing values and so on. Still, some simple data engineering is needed.\n",
    "\n",
    "1. Read `tic-tac-toe.csv` into a dataframe.\n",
    "1. Inspect the dataset. Determine if the dataset is reliable by eyeballing the data.\n",
    "1. Convert the categorical values to numeric in all columns.\n",
    "1. Separate the inputs and output.\n",
    "1. Normalize the input data."
   ]
  },
  {
   "cell_type": "code",
   "execution_count": 1,
   "metadata": {},
   "outputs": [],
   "source": [
    "import pandas as pd"
   ]
  },
  {
   "cell_type": "code",
   "execution_count": 2,
   "metadata": {},
   "outputs": [
    {
     "data": {
      "text/html": [
       "<div>\n",
       "<style scoped>\n",
       "    .dataframe tbody tr th:only-of-type {\n",
       "        vertical-align: middle;\n",
       "    }\n",
       "\n",
       "    .dataframe tbody tr th {\n",
       "        vertical-align: top;\n",
       "    }\n",
       "\n",
       "    .dataframe thead th {\n",
       "        text-align: right;\n",
       "    }\n",
       "</style>\n",
       "<table border=\"1\" class=\"dataframe\">\n",
       "  <thead>\n",
       "    <tr style=\"text-align: right;\">\n",
       "      <th></th>\n",
       "      <th>TL</th>\n",
       "      <th>TM</th>\n",
       "      <th>TR</th>\n",
       "      <th>ML</th>\n",
       "      <th>MM</th>\n",
       "      <th>MR</th>\n",
       "      <th>BL</th>\n",
       "      <th>BM</th>\n",
       "      <th>BR</th>\n",
       "      <th>class</th>\n",
       "    </tr>\n",
       "  </thead>\n",
       "  <tbody>\n",
       "    <tr>\n",
       "      <td>0</td>\n",
       "      <td>x</td>\n",
       "      <td>x</td>\n",
       "      <td>x</td>\n",
       "      <td>x</td>\n",
       "      <td>o</td>\n",
       "      <td>o</td>\n",
       "      <td>x</td>\n",
       "      <td>o</td>\n",
       "      <td>o</td>\n",
       "      <td>True</td>\n",
       "    </tr>\n",
       "    <tr>\n",
       "      <td>1</td>\n",
       "      <td>x</td>\n",
       "      <td>x</td>\n",
       "      <td>x</td>\n",
       "      <td>x</td>\n",
       "      <td>o</td>\n",
       "      <td>o</td>\n",
       "      <td>o</td>\n",
       "      <td>x</td>\n",
       "      <td>o</td>\n",
       "      <td>True</td>\n",
       "    </tr>\n",
       "    <tr>\n",
       "      <td>2</td>\n",
       "      <td>x</td>\n",
       "      <td>x</td>\n",
       "      <td>x</td>\n",
       "      <td>x</td>\n",
       "      <td>o</td>\n",
       "      <td>o</td>\n",
       "      <td>o</td>\n",
       "      <td>o</td>\n",
       "      <td>x</td>\n",
       "      <td>True</td>\n",
       "    </tr>\n",
       "    <tr>\n",
       "      <td>3</td>\n",
       "      <td>x</td>\n",
       "      <td>x</td>\n",
       "      <td>x</td>\n",
       "      <td>x</td>\n",
       "      <td>o</td>\n",
       "      <td>o</td>\n",
       "      <td>o</td>\n",
       "      <td>b</td>\n",
       "      <td>b</td>\n",
       "      <td>True</td>\n",
       "    </tr>\n",
       "    <tr>\n",
       "      <td>4</td>\n",
       "      <td>x</td>\n",
       "      <td>x</td>\n",
       "      <td>x</td>\n",
       "      <td>x</td>\n",
       "      <td>o</td>\n",
       "      <td>o</td>\n",
       "      <td>b</td>\n",
       "      <td>o</td>\n",
       "      <td>b</td>\n",
       "      <td>True</td>\n",
       "    </tr>\n",
       "    <tr>\n",
       "      <td>...</td>\n",
       "      <td>...</td>\n",
       "      <td>...</td>\n",
       "      <td>...</td>\n",
       "      <td>...</td>\n",
       "      <td>...</td>\n",
       "      <td>...</td>\n",
       "      <td>...</td>\n",
       "      <td>...</td>\n",
       "      <td>...</td>\n",
       "      <td>...</td>\n",
       "    </tr>\n",
       "    <tr>\n",
       "      <td>953</td>\n",
       "      <td>o</td>\n",
       "      <td>x</td>\n",
       "      <td>x</td>\n",
       "      <td>x</td>\n",
       "      <td>o</td>\n",
       "      <td>o</td>\n",
       "      <td>o</td>\n",
       "      <td>x</td>\n",
       "      <td>x</td>\n",
       "      <td>False</td>\n",
       "    </tr>\n",
       "    <tr>\n",
       "      <td>954</td>\n",
       "      <td>o</td>\n",
       "      <td>x</td>\n",
       "      <td>o</td>\n",
       "      <td>x</td>\n",
       "      <td>x</td>\n",
       "      <td>o</td>\n",
       "      <td>x</td>\n",
       "      <td>o</td>\n",
       "      <td>x</td>\n",
       "      <td>False</td>\n",
       "    </tr>\n",
       "    <tr>\n",
       "      <td>955</td>\n",
       "      <td>o</td>\n",
       "      <td>x</td>\n",
       "      <td>o</td>\n",
       "      <td>x</td>\n",
       "      <td>o</td>\n",
       "      <td>x</td>\n",
       "      <td>x</td>\n",
       "      <td>o</td>\n",
       "      <td>x</td>\n",
       "      <td>False</td>\n",
       "    </tr>\n",
       "    <tr>\n",
       "      <td>956</td>\n",
       "      <td>o</td>\n",
       "      <td>x</td>\n",
       "      <td>o</td>\n",
       "      <td>o</td>\n",
       "      <td>x</td>\n",
       "      <td>x</td>\n",
       "      <td>x</td>\n",
       "      <td>o</td>\n",
       "      <td>x</td>\n",
       "      <td>False</td>\n",
       "    </tr>\n",
       "    <tr>\n",
       "      <td>957</td>\n",
       "      <td>o</td>\n",
       "      <td>o</td>\n",
       "      <td>x</td>\n",
       "      <td>x</td>\n",
       "      <td>x</td>\n",
       "      <td>o</td>\n",
       "      <td>o</td>\n",
       "      <td>x</td>\n",
       "      <td>x</td>\n",
       "      <td>False</td>\n",
       "    </tr>\n",
       "  </tbody>\n",
       "</table>\n",
       "<p>958 rows × 10 columns</p>\n",
       "</div>"
      ],
      "text/plain": [
       "    TL TM TR ML MM MR BL BM BR  class\n",
       "0    x  x  x  x  o  o  x  o  o   True\n",
       "1    x  x  x  x  o  o  o  x  o   True\n",
       "2    x  x  x  x  o  o  o  o  x   True\n",
       "3    x  x  x  x  o  o  o  b  b   True\n",
       "4    x  x  x  x  o  o  b  o  b   True\n",
       "..  .. .. .. .. .. .. .. .. ..    ...\n",
       "953  o  x  x  x  o  o  o  x  x  False\n",
       "954  o  x  o  x  x  o  x  o  x  False\n",
       "955  o  x  o  x  o  x  x  o  x  False\n",
       "956  o  x  o  o  x  x  x  o  x  False\n",
       "957  o  o  x  x  x  o  o  x  x  False\n",
       "\n",
       "[958 rows x 10 columns]"
      ]
     },
     "execution_count": 2,
     "metadata": {},
     "output_type": "execute_result"
    }
   ],
   "source": [
    "df = pd.read_csv(\"tic-tac-toe.csv\")\n",
    "df"
   ]
  },
  {
   "cell_type": "code",
   "execution_count": 3,
   "metadata": {},
   "outputs": [],
   "source": [
    "df = df[['TL', 'TM', 'TR', 'ML', 'MM', 'MR', 'BL', 'BM', 'BR', 'class']].astype('category')"
   ]
  },
  {
   "cell_type": "code",
   "execution_count": 4,
   "metadata": {},
   "outputs": [
    {
     "data": {
      "text/plain": [
       "TL       category\n",
       "TM       category\n",
       "TR       category\n",
       "ML       category\n",
       "MM       category\n",
       "MR       category\n",
       "BL       category\n",
       "BM       category\n",
       "BR       category\n",
       "class    category\n",
       "dtype: object"
      ]
     },
     "execution_count": 4,
     "metadata": {},
     "output_type": "execute_result"
    }
   ],
   "source": [
    "df.dtypes"
   ]
  },
  {
   "cell_type": "code",
   "execution_count": 5,
   "metadata": {},
   "outputs": [],
   "source": [
    "df = df[['TL', 'TM', 'TR', 'ML', 'MM', 'MR', 'BL', 'BM', 'BR', 'class']].apply(lambda x: x.cat.codes)"
   ]
  },
  {
   "cell_type": "code",
   "execution_count": 34,
   "metadata": {},
   "outputs": [
    {
     "data": {
      "text/plain": [
       "TL       int8\n",
       "TM       int8\n",
       "TR       int8\n",
       "ML       int8\n",
       "MM       int8\n",
       "MR       int8\n",
       "BL       int8\n",
       "BM       int8\n",
       "BR       int8\n",
       "class    int8\n",
       "dtype: object"
      ]
     },
     "execution_count": 34,
     "metadata": {},
     "output_type": "execute_result"
    }
   ],
   "source": [
    "df.dtypes"
   ]
  },
  {
   "cell_type": "code",
   "execution_count": 7,
   "metadata": {},
   "outputs": [
    {
     "data": {
      "text/plain": [
       "Index(['TL', 'TM', 'TR', 'ML', 'MM', 'MR', 'BL', 'BM', 'BR', 'class'], dtype='object')"
      ]
     },
     "execution_count": 7,
     "metadata": {},
     "output_type": "execute_result"
    }
   ],
   "source": [
    "df.columns"
   ]
  },
  {
   "cell_type": "code",
   "execution_count": 35,
   "metadata": {},
   "outputs": [],
   "source": [
    "x = df[['TL', 'TM', 'TR', 'ML', 'MM', 'MR', 'BL', 'BM', 'BR']]\n",
    "y = df[\"class\"]"
   ]
  },
  {
   "cell_type": "code",
   "execution_count": 10,
   "metadata": {},
   "outputs": [],
   "source": [
    "def normalize(x):\n",
    "    result = x.copy()\n",
    "    for feature_name in x.columns:\n",
    "        max_value = df[feature_name].max()\n",
    "        min_value = df[feature_name].min()\n",
    "        result[feature_name] = (df[feature_name] - min_value) / (max_value - min_value)\n",
    "    return result\n",
    "x = normalize(x)"
   ]
  },
  {
   "cell_type": "code",
   "execution_count": 26,
   "metadata": {},
   "outputs": [
    {
     "data": {
      "text/plain": [
       "array([[1. , 1. , 1. , ..., 1. , 0.5, 0.5],\n",
       "       [1. , 1. , 1. , ..., 0.5, 1. , 0.5],\n",
       "       [1. , 1. , 1. , ..., 0.5, 0.5, 1. ],\n",
       "       ...,\n",
       "       [0.5, 1. , 0.5, ..., 1. , 0.5, 1. ],\n",
       "       [0.5, 1. , 0.5, ..., 1. , 0.5, 1. ],\n",
       "       [0.5, 0.5, 1. , ..., 0.5, 1. , 1. ]])"
      ]
     },
     "execution_count": 26,
     "metadata": {},
     "output_type": "execute_result"
    }
   ],
   "source": [
    "x"
   ]
  },
  {
   "cell_type": "code",
   "execution_count": 37,
   "metadata": {},
   "outputs": [],
   "source": [
    "#import numpy as np\n",
    "#x = x.to_numpy(dtype='float')\n",
    "#y = y.to_numpy(dtype='float')"
   ]
  },
  {
   "cell_type": "markdown",
   "metadata": {},
   "source": [
    "## Step 2: Build Neural Network\n",
    "\n",
    "To build the neural network, you can refer to your own codes you wrote while following the [Deep Learning with Python, TensorFlow, and Keras tutorial](https://www.youtube.com/watch?v=wQ8BIBpya2k) in the lesson. It's pretty similar to what you will be doing in this lab.\n",
    "\n",
    "1. Split the training and test data.\n",
    "1. Create a `Sequential` model.\n",
    "1. Add several layers to your model. Make sure you use ReLU as the activation function for the middle layers. Use Softmax for the output layer because each output has a single lable and all the label probabilities add up to 1.\n",
    "1. Compile the model using `adam` as the optimizer and `sparse_categorical_crossentropy` as the loss function. For metrics, use `accuracy` for now.\n",
    "1. Fit the training data.\n",
    "1. Evaluate your neural network model with the test data.\n",
    "1. Save your model as `tic-tac-toe.model`."
   ]
  },
  {
   "cell_type": "code",
   "execution_count": 28,
   "metadata": {},
   "outputs": [],
   "source": [
    "from sklearn.model_selection import train_test_split\n",
    "\n",
    "x_train, x_test, y_train, y_test = train_test_split(x, y, test_size=0.2)"
   ]
  },
  {
   "cell_type": "code",
   "execution_count": 20,
   "metadata": {},
   "outputs": [],
   "source": [
    "import tensorflow as tf"
   ]
  },
  {
   "cell_type": "code",
   "execution_count": 39,
   "metadata": {},
   "outputs": [
    {
     "name": "stdout",
     "output_type": "stream",
     "text": [
      "Train on 766 samples\n",
      "Epoch 1/3\n",
      "766/766 [==============================] - 0s 539us/sample - loss: 0.7815 - accuracy: 0.6097\n",
      "Epoch 2/3\n",
      "766/766 [==============================] - 0s 86us/sample - loss: 0.6344 - accuracy: 0.6462\n",
      "Epoch 3/3\n",
      "766/766 [==============================] - 0s 96us/sample - loss: 0.6118 - accuracy: 0.6749\n"
     ]
    },
    {
     "data": {
      "text/plain": [
       "<tensorflow.python.keras.callbacks.History at 0x1486ee190>"
      ]
     },
     "execution_count": 39,
     "metadata": {},
     "output_type": "execute_result"
    }
   ],
   "source": [
    "model = tf.keras.models.Sequential()\n",
    "#input layer\n",
    "model.add(tf.keras.layers.Flatten())\n",
    "model.add(tf.keras.layers.Dense(128, activation=tf.nn.relu))\n",
    "model.add(tf.keras.layers.Dense(128, activation=tf.nn.relu))\n",
    "#output layer\n",
    "model.add(tf.keras.layers.Dense(3, activation=tf.nn.softmax))\n",
    "\n",
    "model.compile(optimizer=\"adam\", loss=\"sparse_categorical_crossentropy\", metrics =[\"accuracy\"])\n",
    "\n",
    "model.fit(x_train, y_train, epochs=3)"
   ]
  },
  {
   "cell_type": "code",
   "execution_count": 40,
   "metadata": {},
   "outputs": [
    {
     "name": "stdout",
     "output_type": "stream",
     "text": [
      "192/192 [==============================] - 0s 491us/sample - loss: 0.5704 - accuracy: 0.7240\n"
     ]
    }
   ],
   "source": [
    "val_loss, val_acc = model.evaluate(x_test, y_test)\n",
    "#this accuracy should be lower and the loss should be higher..."
   ]
  },
  {
   "cell_type": "code",
   "execution_count": 33,
   "metadata": {},
   "outputs": [
    {
     "name": "stdout",
     "output_type": "stream",
     "text": [
      "WARNING:tensorflow:From /Users/reneraube/opt/anaconda3/lib/python3.7/site-packages/tensorflow_core/python/ops/resource_variable_ops.py:1786: calling BaseResourceVariable.__init__ (from tensorflow.python.ops.resource_variable_ops) with constraint is deprecated and will be removed in a future version.\n",
      "Instructions for updating:\n",
      "If using Keras pass *_constraint arguments to layers.\n",
      "INFO:tensorflow:Assets written to: tic-tac-toe.model/assets\n"
     ]
    }
   ],
   "source": [
    "model.save(\"tic-tac-toe.model\")"
   ]
  },
  {
   "cell_type": "markdown",
   "metadata": {},
   "source": [
    "## Step 3: Make Predictions\n",
    "\n",
    "Now load your saved model and use it to make predictions on a few random rows in the test dataset. Check if the predictions are correct."
   ]
  },
  {
   "cell_type": "code",
   "execution_count": 42,
   "metadata": {},
   "outputs": [],
   "source": [
    "new_model = tf.keras.models.load_model(\"tic-tac-toe.model\")"
   ]
  },
  {
   "cell_type": "code",
   "execution_count": 44,
   "metadata": {},
   "outputs": [
    {
     "data": {
      "text/plain": [
       "array([[4.1396144e-01, 5.8482182e-01, 1.2167427e-03],\n",
       "       [3.2543066e-01, 6.6696519e-01, 7.6041492e-03],\n",
       "       [2.0684755e-01, 7.9124403e-01, 1.9083752e-03],\n",
       "       [3.0695209e-01, 6.9131339e-01, 1.7345753e-03],\n",
       "       [3.2301852e-01, 6.7574596e-01, 1.2355408e-03],\n",
       "       [4.7361422e-01, 5.2332062e-01, 3.0651579e-03],\n",
       "       [2.3198056e-01, 7.6366669e-01, 4.3527707e-03],\n",
       "       [1.3185421e-01, 8.6384237e-01, 4.3034973e-03],\n",
       "       [2.6185733e-01, 7.3503256e-01, 3.1101753e-03],\n",
       "       [1.7463990e-01, 8.2024455e-01, 5.1155714e-03],\n",
       "       [2.8694946e-01, 7.1155167e-01, 1.4987980e-03],\n",
       "       [6.0178190e-01, 3.9721206e-01, 1.0060305e-03],\n",
       "       [1.3322441e-01, 8.6535126e-01, 1.4243268e-03],\n",
       "       [4.1230556e-01, 5.8653677e-01, 1.1576555e-03],\n",
       "       [3.8780558e-01, 6.1140007e-01, 7.9437112e-04],\n",
       "       [2.1985678e-01, 7.7849376e-01, 1.6495044e-03],\n",
       "       [5.1475781e-01, 4.8395202e-01, 1.2901725e-03],\n",
       "       [1.4340118e-01, 8.5492510e-01, 1.6737797e-03],\n",
       "       [3.1109965e-01, 6.8227953e-01, 6.6207359e-03],\n",
       "       [4.9825689e-01, 4.9749407e-01, 4.2491080e-03],\n",
       "       [3.0735734e-01, 6.9180608e-01, 8.3655940e-04],\n",
       "       [2.4999058e-01, 7.4867040e-01, 1.3390131e-03],\n",
       "       [2.2272944e-01, 7.7443987e-01, 2.8306309e-03],\n",
       "       [2.6444620e-01, 7.3407137e-01, 1.4823580e-03],\n",
       "       [2.0456755e-01, 7.9297358e-01, 2.4588730e-03],\n",
       "       [3.3717903e-01, 6.6169566e-01, 1.1253230e-03],\n",
       "       [3.0025437e-01, 6.9785458e-01, 1.8909676e-03],\n",
       "       [2.7396360e-01, 7.2400224e-01, 2.0341843e-03],\n",
       "       [4.7534201e-01, 5.2303797e-01, 1.6200580e-03],\n",
       "       [4.2711198e-01, 5.7120299e-01, 1.6849949e-03],\n",
       "       [2.5365096e-01, 7.4474639e-01, 1.6026258e-03],\n",
       "       [3.3309099e-01, 6.6429520e-01, 2.6138227e-03],\n",
       "       [2.4210913e-01, 7.5619119e-01, 1.6996778e-03],\n",
       "       [2.8131965e-01, 7.1634215e-01, 2.3382206e-03],\n",
       "       [2.4593197e-01, 7.5191832e-01, 2.1497204e-03],\n",
       "       [3.1398252e-01, 6.8363011e-01, 2.3873050e-03],\n",
       "       [2.4485002e-01, 7.5429082e-01, 8.5920200e-04],\n",
       "       [4.1778845e-01, 5.7856286e-01, 3.6487358e-03],\n",
       "       [3.3364287e-01, 6.6478539e-01, 1.5716525e-03],\n",
       "       [1.9337641e-01, 8.0296206e-01, 3.6615327e-03],\n",
       "       [3.4081373e-01, 6.5541983e-01, 3.7664720e-03],\n",
       "       [5.0877416e-01, 4.8974702e-01, 1.4788657e-03],\n",
       "       [2.5157535e-01, 7.4701661e-01, 1.4080993e-03],\n",
       "       [3.7521684e-01, 6.2216735e-01, 2.6157575e-03],\n",
       "       [4.7291166e-01, 5.2576679e-01, 1.3215197e-03],\n",
       "       [2.8573701e-01, 7.1193808e-01, 2.3248517e-03],\n",
       "       [5.3005308e-01, 4.6466079e-01, 5.2861888e-03],\n",
       "       [1.7606741e-01, 8.1889516e-01, 5.0374172e-03],\n",
       "       [2.7525404e-01, 7.2117150e-01, 3.5744729e-03],\n",
       "       [1.7563061e-01, 8.2300204e-01, 1.3673195e-03],\n",
       "       [2.0406121e-01, 7.9468310e-01, 1.2556695e-03],\n",
       "       [3.1413722e-01, 6.8433446e-01, 1.5283711e-03],\n",
       "       [1.9457488e-01, 8.0332631e-01, 2.0988469e-03],\n",
       "       [4.1455022e-01, 5.8267045e-01, 2.7793210e-03],\n",
       "       [1.4805634e-01, 8.5070515e-01, 1.2384598e-03],\n",
       "       [3.7431982e-01, 6.2434012e-01, 1.3400567e-03],\n",
       "       [3.7685174e-01, 6.2188387e-01, 1.2643859e-03],\n",
       "       [4.3079761e-01, 5.6789923e-01, 1.3030595e-03],\n",
       "       [3.7867364e-01, 6.1624032e-01, 5.0859442e-03],\n",
       "       [3.0362439e-01, 6.8988645e-01, 6.4891456e-03],\n",
       "       [2.0975372e-01, 7.8884953e-01, 1.3967351e-03],\n",
       "       [2.6386109e-01, 7.3423499e-01, 1.9039020e-03],\n",
       "       [3.0132896e-01, 6.9623643e-01, 2.4345957e-03],\n",
       "       [4.8444915e-01, 5.1438189e-01, 1.1690027e-03],\n",
       "       [3.5166803e-01, 6.4770079e-01, 6.3123973e-04],\n",
       "       [3.2256016e-01, 6.7598760e-01, 1.4521994e-03],\n",
       "       [2.9906908e-01, 6.9970864e-01, 1.2223477e-03],\n",
       "       [2.4762043e-01, 7.4985236e-01, 2.5272388e-03],\n",
       "       [2.6281250e-01, 7.3636198e-01, 8.2552509e-04],\n",
       "       [3.2491210e-01, 6.7427796e-01, 8.0992287e-04],\n",
       "       [3.7972766e-01, 6.1810684e-01, 2.1655231e-03],\n",
       "       [1.2856887e-01, 8.6733514e-01, 4.0959907e-03],\n",
       "       [1.4776786e-01, 8.5063607e-01, 1.5960890e-03],\n",
       "       [3.4664470e-01, 6.5211058e-01, 1.2446287e-03],\n",
       "       [2.9970902e-01, 6.9874203e-01, 1.5488887e-03],\n",
       "       [3.0002248e-01, 6.9727182e-01, 2.7057894e-03],\n",
       "       [4.1626465e-01, 5.8228850e-01, 1.4468576e-03],\n",
       "       [2.4796276e-01, 7.4734104e-01, 4.6962402e-03],\n",
       "       [2.9447812e-01, 7.0313704e-01, 2.3848566e-03],\n",
       "       [3.3832750e-01, 6.5851933e-01, 3.1531141e-03],\n",
       "       [2.6557052e-01, 7.2906911e-01, 5.3603780e-03],\n",
       "       [3.2720408e-01, 6.7194366e-01, 8.5231767e-04],\n",
       "       [1.8935004e-01, 8.0905694e-01, 1.5930379e-03],\n",
       "       [1.3820136e-01, 8.6039317e-01, 1.4055085e-03],\n",
       "       [3.4143272e-01, 6.5790617e-01, 6.6113740e-04],\n",
       "       [4.0999198e-01, 5.8634490e-01, 3.6631143e-03],\n",
       "       [3.4092987e-01, 6.5720230e-01, 1.8678505e-03],\n",
       "       [2.3683709e-01, 7.5939018e-01, 3.7727491e-03],\n",
       "       [3.2440659e-01, 6.7447811e-01, 1.1152518e-03],\n",
       "       [2.1840179e-01, 7.7970499e-01, 1.8932489e-03],\n",
       "       [3.4913722e-01, 6.4911067e-01, 1.7520756e-03],\n",
       "       [2.0564562e-01, 7.9300481e-01, 1.3495455e-03],\n",
       "       [3.4973291e-01, 6.4903718e-01, 1.2298344e-03],\n",
       "       [2.7413535e-01, 7.2347653e-01, 2.3882138e-03],\n",
       "       [3.9262819e-01, 6.0576558e-01, 1.6061922e-03],\n",
       "       [2.9307672e-01, 7.0241368e-01, 4.5095826e-03],\n",
       "       [3.4714976e-01, 6.5129560e-01, 1.5546369e-03],\n",
       "       [3.0417681e-01, 6.9383395e-01, 1.9892366e-03],\n",
       "       [1.6104104e-01, 8.3496499e-01, 3.9939792e-03],\n",
       "       [4.2477655e-01, 5.7402998e-01, 1.1934632e-03],\n",
       "       [4.1784123e-01, 5.8038682e-01, 1.7719562e-03],\n",
       "       [3.1195968e-01, 6.8744349e-01, 5.9682393e-04],\n",
       "       [1.6072845e-01, 8.3533525e-01, 3.9362414e-03],\n",
       "       [2.9240754e-01, 7.0673627e-01, 8.5620518e-04],\n",
       "       [3.2677889e-01, 6.7265284e-01, 5.6826492e-04],\n",
       "       [3.5093009e-01, 6.4651656e-01, 2.5533305e-03],\n",
       "       [3.5239816e-01, 6.4194071e-01, 5.6611476e-03],\n",
       "       [3.5935146e-01, 6.3852769e-01, 2.1208040e-03],\n",
       "       [3.7875181e-01, 6.1937374e-01, 1.8745234e-03],\n",
       "       [2.4339727e-01, 7.5497264e-01, 1.6300994e-03],\n",
       "       [2.9939175e-01, 6.9792771e-01, 2.6805534e-03],\n",
       "       [4.8634344e-01, 5.1226491e-01, 1.3917069e-03],\n",
       "       [3.0619738e-01, 6.9186473e-01, 1.9378858e-03],\n",
       "       [3.7018543e-01, 6.2730920e-01, 2.5052852e-03],\n",
       "       [3.9436769e-01, 6.0242009e-01, 3.2121623e-03],\n",
       "       [3.7204367e-01, 6.2576091e-01, 2.1953497e-03],\n",
       "       [2.3956466e-01, 7.5841224e-01, 2.0230797e-03],\n",
       "       [2.8727952e-01, 7.0814764e-01, 4.5728246e-03],\n",
       "       [5.1402110e-01, 4.8529071e-01, 6.8816781e-04],\n",
       "       [2.6835945e-01, 7.2938120e-01, 2.2593299e-03],\n",
       "       [2.2804336e-01, 7.7124631e-01, 7.1036338e-04],\n",
       "       [4.2337179e-01, 5.7508725e-01, 1.5409738e-03],\n",
       "       [3.2428479e-01, 6.7343706e-01, 2.2781775e-03],\n",
       "       [2.3890856e-01, 7.5963944e-01, 1.4519584e-03],\n",
       "       [3.0027524e-01, 6.9749552e-01, 2.2292358e-03],\n",
       "       [3.2572532e-01, 6.7281145e-01, 1.4631853e-03],\n",
       "       [4.1259259e-01, 5.8567500e-01, 1.7324691e-03],\n",
       "       [3.5802722e-01, 6.4083356e-01, 1.1392524e-03],\n",
       "       [4.2378935e-01, 5.7455760e-01, 1.6530624e-03],\n",
       "       [1.9218250e-01, 8.0361456e-01, 4.2029098e-03],\n",
       "       [3.6426774e-01, 6.3519824e-01, 5.3400540e-04],\n",
       "       [4.0652400e-01, 5.9199488e-01, 1.4811760e-03],\n",
       "       [3.0674022e-01, 6.9100434e-01, 2.2554873e-03],\n",
       "       [2.8589779e-01, 7.1184343e-01, 2.2587273e-03],\n",
       "       [3.2840836e-01, 6.7063349e-01, 9.5821195e-04],\n",
       "       [5.2458334e-01, 4.7438958e-01, 1.0270596e-03],\n",
       "       [2.1552315e-01, 7.8218025e-01, 2.2966138e-03],\n",
       "       [3.8896447e-01, 6.0849899e-01, 2.5366084e-03],\n",
       "       [1.9661021e-01, 8.0200309e-01, 1.3867503e-03],\n",
       "       [3.4245586e-01, 6.5634495e-01, 1.1991292e-03],\n",
       "       [4.6523201e-01, 5.3331351e-01, 1.4544218e-03],\n",
       "       [3.7885845e-01, 6.1962628e-01, 1.5151728e-03],\n",
       "       [2.2320756e-01, 7.7511626e-01, 1.6762400e-03],\n",
       "       [3.1052685e-01, 6.8860734e-01, 8.6584344e-04],\n",
       "       [3.1526440e-01, 6.8356937e-01, 1.1662517e-03],\n",
       "       [2.8804424e-01, 7.1023899e-01, 1.7168148e-03],\n",
       "       [5.6197041e-01, 4.3453807e-01, 3.4915803e-03],\n",
       "       [1.5567836e-01, 8.4274113e-01, 1.5804447e-03],\n",
       "       [3.6936706e-01, 6.2848300e-01, 2.1500143e-03],\n",
       "       [3.2595417e-01, 6.7129976e-01, 2.7460821e-03],\n",
       "       [4.3208829e-01, 5.6636763e-01, 1.5440747e-03],\n",
       "       [2.6973763e-01, 7.2919619e-01, 1.0661535e-03],\n",
       "       [1.3331871e-01, 8.6544973e-01, 1.2315749e-03],\n",
       "       [4.1543868e-01, 5.8294386e-01, 1.6174153e-03],\n",
       "       [2.8154355e-01, 7.1631336e-01, 2.1431111e-03],\n",
       "       [3.3454636e-01, 6.6401213e-01, 1.4414920e-03],\n",
       "       [2.2975147e-01, 7.6777560e-01, 2.4729760e-03],\n",
       "       [3.7946442e-01, 6.1824322e-01, 2.2923152e-03],\n",
       "       [4.8787397e-01, 5.1057225e-01, 1.5537855e-03],\n",
       "       [1.5289979e-01, 8.4431857e-01, 2.7816342e-03],\n",
       "       [2.6104981e-01, 7.3606783e-01, 2.8823591e-03],\n",
       "       [5.7959783e-01, 4.1732198e-01, 3.0801632e-03],\n",
       "       [1.9742097e-01, 8.0037278e-01, 2.2061949e-03],\n",
       "       [2.2472583e-01, 7.7024859e-01, 5.0255046e-03],\n",
       "       [2.9798990e-01, 7.0034713e-01, 1.6630038e-03],\n",
       "       [1.7453940e-01, 8.2424653e-01, 1.2140847e-03],\n",
       "       [3.1154326e-01, 6.8698186e-01, 1.4749203e-03],\n",
       "       [4.3257412e-01, 5.6617123e-01, 1.2546588e-03],\n",
       "       [2.3594125e-01, 7.6280743e-01, 1.2513034e-03],\n",
       "       [2.3041904e-01, 7.6798213e-01, 1.5988187e-03],\n",
       "       [3.9826980e-01, 6.0009056e-01, 1.6395958e-03],\n",
       "       [4.6211943e-01, 5.3625578e-01, 1.6248391e-03],\n",
       "       [4.0725061e-01, 5.9214789e-01, 6.0147251e-04],\n",
       "       [3.5406333e-01, 6.4247888e-01, 3.4576829e-03],\n",
       "       [2.2685859e-01, 7.7127045e-01, 1.8709388e-03],\n",
       "       [5.9797150e-01, 3.9834699e-01, 3.6814807e-03],\n",
       "       [2.9696617e-01, 6.9724977e-01, 5.7840701e-03],\n",
       "       [3.9182642e-01, 6.0556149e-01, 2.6121051e-03],\n",
       "       [1.2679040e-01, 8.7197983e-01, 1.2298040e-03],\n",
       "       [2.1998744e-01, 7.7756989e-01, 2.4427499e-03],\n",
       "       [2.2291523e-01, 7.7514833e-01, 1.9364693e-03],\n",
       "       [2.6390442e-01, 7.3243541e-01, 3.6602756e-03],\n",
       "       [3.2327098e-01, 6.7424297e-01, 2.4861488e-03],\n",
       "       [4.0176657e-01, 5.9415615e-01, 4.0772478e-03],\n",
       "       [4.4806331e-01, 5.4852104e-01, 3.4156693e-03],\n",
       "       [1.8302044e-01, 8.1535578e-01, 1.6237174e-03],\n",
       "       [4.8436913e-01, 5.1443940e-01, 1.1914277e-03],\n",
       "       [5.0467730e-01, 4.9294510e-01, 2.3776272e-03],\n",
       "       [2.5294554e-01, 7.4572253e-01, 1.3319677e-03],\n",
       "       [3.4240928e-01, 6.5494609e-01, 2.6446446e-03],\n",
       "       [5.0181812e-01, 4.9291667e-01, 5.2651712e-03],\n",
       "       [3.3209810e-01, 6.6596991e-01, 1.9319948e-03]], dtype=float32)"
      ]
     },
     "execution_count": 44,
     "metadata": {},
     "output_type": "execute_result"
    }
   ],
   "source": [
    "prediction = new_model.predict(x_test)\n",
    "prediction"
   ]
  },
  {
   "cell_type": "code",
   "execution_count": 45,
   "metadata": {},
   "outputs": [
    {
     "data": {
      "text/plain": [
       "array([0.25365096, 0.7447464 , 0.00160263], dtype=float32)"
      ]
     },
     "execution_count": 45,
     "metadata": {},
     "output_type": "execute_result"
    }
   ],
   "source": [
    "prediction[30]"
   ]
  },
  {
   "cell_type": "markdown",
   "metadata": {},
   "source": [
    "## Step 4: Improve Your Model\n",
    "\n",
    "Did your model achieve low loss (<0.1) and high accuracy (>0.95)? If not, try to improve your model.\n",
    "\n",
    "But how? There are so many things you can play with in Tensorflow and in the next challenge you'll learn about these things. But in this challenge, let's just do a few things to see if they will help.\n",
    "\n",
    "* Add more layers to your model. If the data are complex you need more layers. But don't use more layers than you need. If adding more layers does not improve the model performance you don't need additional layers.\n",
    "* Adjust the learning rate when you compile the model. This means you will create a custom `tf.keras.optimizers.Adam` instance where you specify the learning rate you want. Then pass the instance to `model.compile` as the optimizer.\n",
    "    * `tf.keras.optimizers.Adam` [reference](https://www.tensorflow.org/api_docs/python/tf/keras/optimizers/Adam).\n",
    "    * Don't worry if you don't understand what the learning rate does. You'll learn about it in the next challenge.\n",
    "* Adjust the number of epochs when you fit the training data to the model. Your model performance continues to improve as you train more epochs. But eventually it will reach the ceiling and the performance will stay the same."
   ]
  },
  {
   "cell_type": "code",
   "execution_count": 84,
   "metadata": {},
   "outputs": [
    {
     "name": "stdout",
     "output_type": "stream",
     "text": [
      "Train on 766 samples\n",
      "Epoch 1/16\n",
      "766/766 [==============================] - 1s 679us/sample - loss: 0.7509 - accuracy: 0.6253\n",
      "Epoch 2/16\n",
      "766/766 [==============================] - 0s 97us/sample - loss: 0.6251 - accuracy: 0.6723\n",
      "Epoch 3/16\n",
      "766/766 [==============================] - 0s 96us/sample - loss: 0.6071 - accuracy: 0.6867\n",
      "Epoch 4/16\n",
      "766/766 [==============================] - 0s 98us/sample - loss: 0.5442 - accuracy: 0.7507\n",
      "Epoch 5/16\n",
      "766/766 [==============================] - 0s 96us/sample - loss: 0.5056 - accuracy: 0.7441\n",
      "Epoch 6/16\n",
      "766/766 [==============================] - 0s 107us/sample - loss: 0.4626 - accuracy: 0.7807\n",
      "Epoch 7/16\n",
      "766/766 [==============================] - 0s 99us/sample - loss: 0.3878 - accuracy: 0.8316\n",
      "Epoch 8/16\n",
      "766/766 [==============================] - 0s 105us/sample - loss: 0.3455 - accuracy: 0.8564\n",
      "Epoch 9/16\n",
      "766/766 [==============================] - 0s 199us/sample - loss: 0.3266 - accuracy: 0.8603\n",
      "Epoch 10/16\n",
      "766/766 [==============================] - 0s 200us/sample - loss: 0.2910 - accuracy: 0.8877\n",
      "Epoch 11/16\n",
      "766/766 [==============================] - 0s 155us/sample - loss: 0.2695 - accuracy: 0.8760\n",
      "Epoch 12/16\n",
      "766/766 [==============================] - 0s 135us/sample - loss: 0.2115 - accuracy: 0.9138\n",
      "Epoch 13/16\n",
      "766/766 [==============================] - 0s 143us/sample - loss: 0.1705 - accuracy: 0.9308\n",
      "Epoch 14/16\n",
      "766/766 [==============================] - 0s 150us/sample - loss: 0.1461 - accuracy: 0.9478\n",
      "Epoch 15/16\n",
      "766/766 [==============================] - 0s 166us/sample - loss: 0.1013 - accuracy: 0.9530\n",
      "Epoch 16/16\n",
      "766/766 [==============================] - 0s 123us/sample - loss: 0.0613 - accuracy: 0.9791\n"
     ]
    },
    {
     "data": {
      "text/plain": [
       "<tensorflow.python.keras.callbacks.History at 0x14d512150>"
      ]
     },
     "execution_count": 84,
     "metadata": {},
     "output_type": "execute_result"
    }
   ],
   "source": [
    "tf.keras.optimizers.Adam(\n",
    "    learning_rate=0.001, beta_1=0.9, beta_2=0.999, epsilon=1e-07, amsgrad=False,\n",
    "    name='Adam')\n",
    "\n",
    "model2 = tf.keras.models.Sequential()\n",
    "#input layer\n",
    "model2.add(tf.keras.layers.Flatten())\n",
    "model2.add(tf.keras.layers.Dense(128, activation=tf.nn.relu))\n",
    "model2.add(tf.keras.layers.Dense(128, activation=tf.nn.relu))\n",
    "model2.add(tf.keras.layers.Dense(128, activation=tf.nn.relu))\n",
    "model2.add(tf.keras.layers.Dense(128, activation=tf.nn.relu))\n",
    "model2.add(tf.keras.layers.Dense(128, activation=tf.nn.relu))\n",
    "#output layer\n",
    "model2.add(tf.keras.layers.Dense(3, activation=tf.nn.softmax))\n",
    "\n",
    "model2.compile(optimizer=\"adam\", loss=\"sparse_categorical_crossentropy\", metrics =[\"accuracy\"])\n",
    "\n",
    "model2.fit(x_train, y_train, epochs=16)"
   ]
  },
  {
   "cell_type": "code",
   "execution_count": 85,
   "metadata": {},
   "outputs": [
    {
     "name": "stdout",
     "output_type": "stream",
     "text": [
      "192/192 [==============================] - 0s 585us/sample - loss: 0.3127 - accuracy: 0.9271\n"
     ]
    }
   ],
   "source": [
    "val_loss, val_acc = model2.evaluate(x_test, y_test)"
   ]
  },
  {
   "cell_type": "markdown",
   "metadata": {},
   "source": [
    "**Which approach(es) did you find helpful to improve your model performance?**"
   ]
  },
  {
   "cell_type": "code",
   "execution_count": 86,
   "metadata": {},
   "outputs": [],
   "source": [
    "# increase the epoch"
   ]
  }
 ],
 "metadata": {
  "kernelspec": {
   "display_name": "Python 3",
   "language": "python",
   "name": "python3"
  },
  "language_info": {
   "codemirror_mode": {
    "name": "ipython",
    "version": 3
   },
   "file_extension": ".py",
   "mimetype": "text/x-python",
   "name": "python",
   "nbconvert_exporter": "python",
   "pygments_lexer": "ipython3",
   "version": "3.7.4"
  }
 },
 "nbformat": 4,
 "nbformat_minor": 2
}
