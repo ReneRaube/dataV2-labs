{
 "cells": [
  {
   "cell_type": "code",
   "execution_count": 68,
   "metadata": {},
   "outputs": [
    {
     "name": "stdout",
     "output_type": "stream",
     "text": [
      "What is the maximal length of the triangle side? Enter a number greater than 5: 50\n",
      "The longest side possible is 50\n"
     ]
    }
   ],
   "source": [
    "#final version\n",
    "X = input(\"What is the maximal length of the triangle side? Enter a number greater than 5: \")\n",
    "\n",
    "def triangle(X):\n",
    "    solutions = []\n",
    "    solutions = [[x, y, z] for x in range(4, X+1) for y in range(4, X+1) for z in range(3, X+1) if (x*x==y*y+z*z)]\n",
    "    return max(solutions[-1])\n",
    "\n",
    "print(\"The longest side possible is \" + str(triangle(int(X))))"
   ]
  },
  {
   "cell_type": "code",
   "execution_count": 67,
   "metadata": {},
   "outputs": [
    {
     "name": "stdout",
     "output_type": "stream",
     "text": [
      "What is the maximal length of the triangle side? Enter a number: 14\n",
      "[[5, 4, 3], [10, 6, 8], [10, 8, 6], [13, 5, 12], [13, 12, 5]]\n",
      "The longest side possible is 13\n"
     ]
    }
   ],
   "source": [
    "#older version from me\n",
    "X = input(\"What is the maximal length of the triangle side? Enter a number: \")\n",
    "\n",
    "def triangle(X):\n",
    "    solutions = []\n",
    "    for x in range(5, X+1):\n",
    "        for y in range(4, X+1):\n",
    "            for z in range(3, X+1):\n",
    "                if (x**2==y**2+z**2):\n",
    "                    solutions.append([x, y, z]) \n",
    "    print(solutions)\n",
    "    return max(solutions[-1])\n",
    "\n",
    "print(\"The longest side possible is \" + str(triangle(int(X))))"
   ]
  },
  {
   "cell_type": "code",
   "execution_count": 49,
   "metadata": {},
   "outputs": [
    {
     "name": "stdout",
     "output_type": "stream",
     "text": [
      "What is the maximal length of the triangle side? Enter a number: 50\n",
      "The longest side possible is 45\n"
     ]
    }
   ],
   "source": [
    "#old code\n",
    "\"\"\"\n",
    "You are presented with an integer number larger than 5. Your goal is to identify the longest side\n",
    "possible in a right triangle whose sides are not longer than the number you are given.\n",
    "\n",
    "For example, if you are given the number 15, there are 3 possibilities to compose right triangles:\n",
    "\n",
    "1. [3, 4, 5]\n",
    "2. [6, 8, 10]\n",
    "3. [5, 12, 13]\n",
    "\n",
    "The following function shows one way to solve the problem but the code is not ideal or efficient.\n",
    "Refactor the code based on what you have learned about code simplicity and efficiency.\n",
    "\"\"\"\n",
    "\n",
    "def my_function(X):\n",
    "    solutions = []\n",
    "    for x in range(5, X):\n",
    "        for y in range(4, X):\n",
    "            for z in range(3, X):\n",
    "                if (x*x==y*y+z*z):\n",
    "                    solutions.append([x, y, z])\n",
    "    m = 0\n",
    "    for solution in solutions:\n",
    "        if m < max(solution):\n",
    "            m = max(solution)\n",
    "    return m\n",
    "\n",
    "X = input(\"What is the maximal length of the triangle side? Enter a number: \")\n",
    "\n",
    "print(\"The longest side possible is \" + str(my_function(int(X))))"
   ]
  }
 ],
 "metadata": {
  "kernelspec": {
   "display_name": "Python 3",
   "language": "python",
   "name": "python3"
  },
  "language_info": {
   "codemirror_mode": {
    "name": "ipython",
    "version": 3
   },
   "file_extension": ".py",
   "mimetype": "text/x-python",
   "name": "python",
   "nbconvert_exporter": "python",
   "pygments_lexer": "ipython3",
   "version": "3.7.4"
  }
 },
 "nbformat": 4,
 "nbformat_minor": 2
}
