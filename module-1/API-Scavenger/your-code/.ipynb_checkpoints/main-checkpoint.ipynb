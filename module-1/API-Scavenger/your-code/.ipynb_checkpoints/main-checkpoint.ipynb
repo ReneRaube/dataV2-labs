{
 "cells": [
  {
   "cell_type": "markdown",
   "metadata": {},
   "source": [
    "# API Scavenger Game\n",
    "\n",
    "## Challenge 1: Fork Languages\n",
    "\n",
    "You will find out how many programming languages are used among all the forks created from the main lab repo of your bootcamp."
   ]
  },
  {
   "cell_type": "code",
   "execution_count": null,
   "metadata": {},
   "outputs": [],
   "source": [
    "import pandas as pd\n",
    "import numpy as np\n",
    "pd.read_json('../data/output.json', orient='index')\n",
    "# import libraries here"
   ]
  },
  {
   "cell_type": "markdown",
   "metadata": {},
   "source": [
    "Assuming the main lab repo is ironhack-datalabs/madrid-oct-2018, you will:\n",
    "\n",
    "#### 1. Obtain the full list of forks created from the main lab repo via Github API."
   ]
  },
  {
   "cell_type": "markdown",
   "metadata": {},
   "source": [
    "To list forks, we can use the GET method. As explained in the GitHub API documentation, we need to make the request to: GET /repos/:owner/:repo/forks."
   ]
  },
  {
   "cell_type": "code",
   "execution_count": null,
   "metadata": {},
   "outputs": [],
   "source": [
    "import requests\n",
    "import pandas as pd\n",
    "\n",
    "username = 'ReneRaube'\n",
    "token = 'please enter token'\n",
    "\n",
    "response = requests.get('https://api.github.com/repos/ironhack-datalabs/dataV2-labs/forks?page=1', auth=(username,token))\n",
    "data = pd.DataFrame(response.json())\n",
    "data"
   ]
  },
  {
   "cell_type": "code",
   "execution_count": null,
   "metadata": {},
   "outputs": [],
   "source": [
    "#doesn't work\n",
    "#for i in xrange(24):\n",
    "#        print \"https://api.github.com/repos/ironhack-datalabs/dataV2-labs/forks?page=%d\" % (i)\n",
    "\n",
    "from pandas.io.json import json_normalize\n",
    "results = response.json()\n",
    "\n",
    "flattened_data = json_normalize(results)\n",
    "flattened_data"
   ]
  },
  {
   "cell_type": "markdown",
   "metadata": {},
   "source": [
    "#### 2. Loop the JSON response to find out the language attribute of each fork. Use an array to store the language attributes of each fork.\n",
    "Hint: Each language should appear only once in your array.\n",
    "Print the language array. It should be something like: [\"Python\", \"Jupyter Notebook\", \"HTML\"]"
   ]
  },
  {
   "cell_type": "code",
   "execution_count": null,
   "metadata": {},
   "outputs": [],
   "source": [
    "print(flattened_data.columns)"
   ]
  },
  {
   "cell_type": "code",
   "execution_count": null,
   "metadata": {},
   "outputs": [],
   "source": [
    "print(flattened_data['languages_url'])"
   ]
  },
  {
   "cell_type": "code",
   "execution_count": null,
   "metadata": {},
   "outputs": [],
   "source": [
    "flattened_list = list(flattened_data['languages_url'])\n",
    "print(flattened_list)"
   ]
  },
  {
   "cell_type": "code",
   "execution_count": null,
   "metadata": {},
   "outputs": [],
   "source": [
    "lst = []\n",
    "for url in flattened_data['languages_url']:\n",
    "    x = requests.get(url, auth=(username, token)).json()\n",
    "    lst.append(x)"
   ]
  },
  {
   "cell_type": "code",
   "execution_count": null,
   "metadata": {},
   "outputs": [],
   "source": [
    "print(lst)"
   ]
  },
  {
   "cell_type": "code",
   "execution_count": null,
   "metadata": {},
   "outputs": [],
   "source": [
    "flattened_data.columns\n",
    "url_adre = flattened_list\n",
    "language_list= []\n",
    "for i in url_adre:\n",
    "    x=requests.get(i,auth=(username,token)).json()\n",
    "    language_list.append(x)\n",
    "uni =[]\n",
    "for x in language_list:\n",
    "    for k in x:\n",
    "        uni.append(k)\n",
    "unique_lang = set(uni)\n",
    "print(unique_lang)"
   ]
  },
  {
   "cell_type": "code",
   "execution_count": null,
   "metadata": {},
   "outputs": [],
   "source": [
    "flattened_data['language']\n",
    "no_duplicates_flattened_data = set(flattened_data['language'])\n",
    "print(no_duplicates_flattened_data)"
   ]
  },
  {
   "cell_type": "markdown",
   "metadata": {},
   "source": [
    "## Challenge 2: Count Commits\n",
    "Count how many commits were made in the month of october of 2018.\n",
    "#### 1. Obtain all the commits made in October 2018 via API, which is a JSON array that contains multiple commit objects."
   ]
  },
  {
   "cell_type": "code",
   "execution_count": null,
   "metadata": {},
   "outputs": [],
   "source": [
    "import requests\n",
    "import pandas as pd\n",
    "\n",
    "username = 'ReneRaube'\n",
    "token = 'enter token'\n",
    "\n",
    "response = requests.get('https://api.github.com/repos/ironhack-datalabs/dataV2-labs/commits?since=2019-10-01T00:00:00Z&until=2019-10-31T23:59:59Z', auth=(username,token))\n",
    "data = pd.DataFrame(response.json())\n",
    "data\n",
    "\n",
    "from pandas.io.json import json_normalize\n",
    "\n",
    "results = response.json()\n",
    "flattened_data = json_normalize(results)\n",
    "\n",
    "flattened_data"
   ]
  },
  {
   "cell_type": "markdown",
   "metadata": {},
   "source": [
    "#### 2. Count how many commit objects are contained in the array."
   ]
  },
  {
   "cell_type": "code",
   "execution_count": null,
   "metadata": {},
   "outputs": [],
   "source": [
    "len(flattened_data)"
   ]
  },
  {
   "cell_type": "markdown",
   "metadata": {},
   "source": [
    "## Challenge 3: Hidden Cold Joke\n",
    "\n",
    "Using Python, call Github API to find out the cold joke contained in the 24 secret files in the following repo:\n",
    "\n",
    "https://github.com/ironhack-datalabs/scavenger\n",
    "\n",
    "The filenames of the secret files contain .scavengerhunt and they are scattered in different directories of this repo. The secret files are named from .0001.scavengerhunt to .0024.scavengerhunt. They are scattered randomly throughout this repo. You need to search for these files by calling the Github API, not searching the local files on your computer.\n",
    "\n",
    "#### 1. Find the secret files."
   ]
  },
  {
   "cell_type": "code",
   "execution_count": null,
   "metadata": {},
   "outputs": [],
   "source": [
    "#how?????\n",
    "import requests\n",
    "import pandas as pd\n",
    "import re\n",
    "import json\n",
    "\n",
    "username = 'ReneRaube'\n",
    "token = 'xxx'\n",
    "\n",
    "url = 'https://github.com/ironhack-datalabs/scavenger'\n",
    "headers = {'token': 'please enter token', \n",
    "           #'Content-Type': 'application/json',\n",
    "           #'Accept': 'application/vnd.github.v3+json'}\n",
    "\n",
    "def getFileContent():\n",
    "\n",
    "    api_url = '{0}account'.format(api_url_base)\n",
    "\n",
    "    response = requests.get(api_url, headers=headers)\n",
    "\n",
    "    if response.status_code == 200:\n",
    "        return json.loads(response.content.decode('utf-8'))\n",
    "    else:\n",
    "        return None\n",
    "\n",
    "def getFileContent(pathAndFileName):\n",
    "    with open(pathAndFileName, 'r') as theFile:\n",
    "        # Return a list of lines (strings)\n",
    "        # data = theFile.read().split('\\n')\n",
    "        \n",
    "        # Return as string without line breaks\n",
    "        # data = theFile.read().replace('\\n', '')\n",
    "        \n",
    "        # Return as string\n",
    "        data = theFile.read()\n",
    "        return data\n",
    "\n",
    "print getFileContent('./test.txt')\n",
    "\n",
    "\n",
    "response = requests.get('https://api.github.com/ironhack-datalabs/scavenger', auth=(username,token))\n",
    "print(response.json())\n",
    "#response_list = list(response)\n",
    "#print(response_list)\n",
    "#response_str = ''.join(response_list)\n",
    "#print(response_str)\n",
    "#re.findall('.\\d+.scavengerhunt', response_str)\n",
    "#data = pd.DataFrame(response)\n",
    "#print(data)\n",
    "#data = pd.DataFrame(response.json())\n",
    "#data"
   ]
  },
  {
   "cell_type": "code",
   "execution_count": null,
   "metadata": {},
   "outputs": [],
   "source": [
    "username = 'ReneRaube'\n",
    "token = 'enter token'\n",
    "\n",
    "url = 'https://github.com/ironhack-datalabs/scavenger'\n",
    "#have to put api in fornt of the link in case I want to get the data from a website\n",
    "\n",
    "response = requests.get('https://api.github.com/repos/ironhack-datalabs/scavenger', auth=(username,token))\n",
    "#don't do print! --> makes it easier to read if you don't use \"print\"\n",
    "#after repos we see where --> repos actually indicates what we want.\n",
    "response.json()\n",
    "\n",
    "#same below:  after link we indicate what we want in the end we say where to get it specifically on the given website\n",
    "#this she found on the internet: search/code?q=extension:.scavengerhunt --> it looks inside the link inside ironhack-datalabs/scavenger \n",
    "#for all the stuff with the extension .scavengerhunt \n",
    "response_content = requests.get('https://api.github.com/search/code?q=extension:.scavengerhunt repo:ironhack-datalabs/scavenger', auth=(username,token))\n",
    "response_content.json()\n",
    "\n",
    "#get it\n",
    "#content is under items content --> link is under cntent and then add path --> path is also under items.\n",
    "\n",
    "#basically we create a for loop to get all the links and then get all content from there and append it into a list\n",
    "\n",
    "?lst = []\n",
    "?for path in items in ...:\n",
    "    lst.append(\"https://api.github.com/repos/ironhack-datalabs/scavenger/contents/\",path)\n",
    "?lst\n",
    "\n",
    "#response_list = list(response)\n",
    "#print(response_list)\n",
    "#response_str = ''.join(response_list)\n",
    "#print(response_str)\n",
    "#re.findall('.\\d+.scavengerhunt', response_str)\n",
    "#data = pd.DataFrame(response)\n",
    "#print(data)\n",
    "#data = pd.DataFrame(response.json())\n",
    "#data"
   ]
  },
  {
   "cell_type": "markdown",
   "metadata": {},
   "source": [
    "#### 2.  Sort the filenames ascendingly."
   ]
  },
  {
   "cell_type": "code",
   "execution_count": null,
   "metadata": {},
   "outputs": [],
   "source": [
    "#print(response)\n",
    "list(response)\n",
    "\n"
   ]
  },
  {
   "cell_type": "markdown",
   "metadata": {},
   "source": [
    "#### 3. Read the content of each secret files into an array of strings.\n",
    "Since the response is encoded, you will need to send the following information in the header of your request:\n",
    "````python\n",
    "headers = {'Accept': 'application/vnd.github.v3.raw'}\n",
    "````"
   ]
  },
  {
   "cell_type": "code",
   "execution_count": null,
   "metadata": {},
   "outputs": [],
   "source": [
    "# your code here"
   ]
  },
  {
   "cell_type": "markdown",
   "metadata": {},
   "source": [
    "#### 4. Concatenate the strings in the array separating each two with a whitespace."
   ]
  },
  {
   "cell_type": "code",
   "execution_count": null,
   "metadata": {},
   "outputs": [],
   "source": [
    "# your code here"
   ]
  },
  {
   "cell_type": "markdown",
   "metadata": {},
   "source": [
    "#### 5. Print out the joke."
   ]
  },
  {
   "cell_type": "code",
   "execution_count": null,
   "metadata": {},
   "outputs": [],
   "source": [
    "# your code here"
   ]
  }
 ],
 "metadata": {
  "kernelspec": {
   "display_name": "Python 3",
   "language": "python",
   "name": "python3"
  },
  "language_info": {
   "codemirror_mode": {
    "name": "ipython",
    "version": 3
   },
   "file_extension": ".py",
   "mimetype": "text/x-python",
   "name": "python",
   "nbconvert_exporter": "python",
   "pygments_lexer": "ipython3",
   "version": "3.7.2"
  }
 },
 "nbformat": 4,
 "nbformat_minor": 2
}
