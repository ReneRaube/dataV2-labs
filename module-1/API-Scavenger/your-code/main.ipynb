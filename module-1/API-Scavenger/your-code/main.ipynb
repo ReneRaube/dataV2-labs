{
 "cells": [
  {
   "cell_type": "markdown",
   "metadata": {},
   "source": [
    "# API Scavenger Game\n",
    "\n",
    "## Challenge 1: Fork Languages\n",
    "\n",
    "You will find out how many programming languages are used among all the forks created from the main lab repo of your bootcamp."
   ]
  },
  {
   "cell_type": "code",
   "execution_count": 2,
   "metadata": {},
   "outputs": [
    {
     "data": {
      "text/html": [
       "<div>\n",
       "<style scoped>\n",
       "    .dataframe tbody tr th:only-of-type {\n",
       "        vertical-align: middle;\n",
       "    }\n",
       "\n",
       "    .dataframe tbody tr th {\n",
       "        vertical-align: top;\n",
       "    }\n",
       "\n",
       "    .dataframe thead th {\n",
       "        text-align: right;\n",
       "    }\n",
       "</style>\n",
       "<table border=\"1\" class=\"dataframe\">\n",
       "  <thead>\n",
       "    <tr style=\"text-align: right;\">\n",
       "      <th></th>\n",
       "      <th>0</th>\n",
       "    </tr>\n",
       "  </thead>\n",
       "  <tbody>\n",
       "    <tr>\n",
       "      <td>avatar_url</td>\n",
       "      <td>https://avatars0.githubusercontent.com/u/60393...</td>\n",
       "    </tr>\n",
       "    <tr>\n",
       "      <td>bio</td>\n",
       "      <td>None</td>\n",
       "    </tr>\n",
       "    <tr>\n",
       "      <td>blog</td>\n",
       "      <td></td>\n",
       "    </tr>\n",
       "    <tr>\n",
       "      <td>company</td>\n",
       "      <td>None</td>\n",
       "    </tr>\n",
       "    <tr>\n",
       "      <td>created_at</td>\n",
       "      <td>2020-01-28T13:56:17Z</td>\n",
       "    </tr>\n",
       "    <tr>\n",
       "      <td>email</td>\n",
       "      <td>None</td>\n",
       "    </tr>\n",
       "    <tr>\n",
       "      <td>events_url</td>\n",
       "      <td>https://api.github.com/users/ReneRaube/events{...</td>\n",
       "    </tr>\n",
       "    <tr>\n",
       "      <td>followers</td>\n",
       "      <td>1</td>\n",
       "    </tr>\n",
       "    <tr>\n",
       "      <td>followers_url</td>\n",
       "      <td>https://api.github.com/users/ReneRaube/followers</td>\n",
       "    </tr>\n",
       "    <tr>\n",
       "      <td>following</td>\n",
       "      <td>0</td>\n",
       "    </tr>\n",
       "    <tr>\n",
       "      <td>following_url</td>\n",
       "      <td>https://api.github.com/users/ReneRaube/followi...</td>\n",
       "    </tr>\n",
       "    <tr>\n",
       "      <td>gists_url</td>\n",
       "      <td>https://api.github.com/users/ReneRaube/gists{/...</td>\n",
       "    </tr>\n",
       "    <tr>\n",
       "      <td>gravatar_id</td>\n",
       "      <td></td>\n",
       "    </tr>\n",
       "    <tr>\n",
       "      <td>hireable</td>\n",
       "      <td>None</td>\n",
       "    </tr>\n",
       "    <tr>\n",
       "      <td>html_url</td>\n",
       "      <td>https://github.com/ReneRaube</td>\n",
       "    </tr>\n",
       "    <tr>\n",
       "      <td>id</td>\n",
       "      <td>60393329</td>\n",
       "    </tr>\n",
       "    <tr>\n",
       "      <td>location</td>\n",
       "      <td>None</td>\n",
       "    </tr>\n",
       "    <tr>\n",
       "      <td>login</td>\n",
       "      <td>ReneRaube</td>\n",
       "    </tr>\n",
       "    <tr>\n",
       "      <td>name</td>\n",
       "      <td>None</td>\n",
       "    </tr>\n",
       "    <tr>\n",
       "      <td>node_id</td>\n",
       "      <td>MDQ6VXNlcjYwMzkzMzI5</td>\n",
       "    </tr>\n",
       "    <tr>\n",
       "      <td>organizations_url</td>\n",
       "      <td>https://api.github.com/users/ReneRaube/orgs</td>\n",
       "    </tr>\n",
       "    <tr>\n",
       "      <td>public_gists</td>\n",
       "      <td>0</td>\n",
       "    </tr>\n",
       "    <tr>\n",
       "      <td>public_repos</td>\n",
       "      <td>5</td>\n",
       "    </tr>\n",
       "    <tr>\n",
       "      <td>received_events_url</td>\n",
       "      <td>https://api.github.com/users/ReneRaube/receive...</td>\n",
       "    </tr>\n",
       "    <tr>\n",
       "      <td>repos_url</td>\n",
       "      <td>https://api.github.com/users/ReneRaube/repos</td>\n",
       "    </tr>\n",
       "    <tr>\n",
       "      <td>site_admin</td>\n",
       "      <td>False</td>\n",
       "    </tr>\n",
       "    <tr>\n",
       "      <td>starred_url</td>\n",
       "      <td>https://api.github.com/users/ReneRaube/starred...</td>\n",
       "    </tr>\n",
       "    <tr>\n",
       "      <td>subscriptions_url</td>\n",
       "      <td>https://api.github.com/users/ReneRaube/subscri...</td>\n",
       "    </tr>\n",
       "    <tr>\n",
       "      <td>type</td>\n",
       "      <td>User</td>\n",
       "    </tr>\n",
       "    <tr>\n",
       "      <td>updated_at</td>\n",
       "      <td>2020-03-03T14:27:57Z</td>\n",
       "    </tr>\n",
       "    <tr>\n",
       "      <td>url</td>\n",
       "      <td>https://api.github.com/users/ReneRaube</td>\n",
       "    </tr>\n",
       "  </tbody>\n",
       "</table>\n",
       "</div>"
      ],
      "text/plain": [
       "                                                                     0\n",
       "avatar_url           https://avatars0.githubusercontent.com/u/60393...\n",
       "bio                                                               None\n",
       "blog                                                                  \n",
       "company                                                           None\n",
       "created_at                                        2020-01-28T13:56:17Z\n",
       "email                                                             None\n",
       "events_url           https://api.github.com/users/ReneRaube/events{...\n",
       "followers                                                            1\n",
       "followers_url         https://api.github.com/users/ReneRaube/followers\n",
       "following                                                            0\n",
       "following_url        https://api.github.com/users/ReneRaube/followi...\n",
       "gists_url            https://api.github.com/users/ReneRaube/gists{/...\n",
       "gravatar_id                                                           \n",
       "hireable                                                          None\n",
       "html_url                                  https://github.com/ReneRaube\n",
       "id                                                            60393329\n",
       "location                                                          None\n",
       "login                                                        ReneRaube\n",
       "name                                                              None\n",
       "node_id                                           MDQ6VXNlcjYwMzkzMzI5\n",
       "organizations_url          https://api.github.com/users/ReneRaube/orgs\n",
       "public_gists                                                         0\n",
       "public_repos                                                         5\n",
       "received_events_url  https://api.github.com/users/ReneRaube/receive...\n",
       "repos_url                 https://api.github.com/users/ReneRaube/repos\n",
       "site_admin                                                       False\n",
       "starred_url          https://api.github.com/users/ReneRaube/starred...\n",
       "subscriptions_url    https://api.github.com/users/ReneRaube/subscri...\n",
       "type                                                              User\n",
       "updated_at                                        2020-03-03T14:27:57Z\n",
       "url                             https://api.github.com/users/ReneRaube"
      ]
     },
     "execution_count": 2,
     "metadata": {},
     "output_type": "execute_result"
    }
   ],
   "source": [
    "import pandas as pd\n",
    "import numpy as np\n",
    "pd.read_json('../data/output.json', orient='index')\n",
    "# import libraries here"
   ]
  },
  {
   "cell_type": "markdown",
   "metadata": {},
   "source": [
    "Assuming the main lab repo is ironhack-datalabs/madrid-oct-2018, you will:\n",
    "\n",
    "#### 1. Obtain the full list of forks created from the main lab repo via Github API."
   ]
  },
  {
   "cell_type": "markdown",
   "metadata": {},
   "source": [
    "To list forks, we can use the GET method. As explained in the GitHub API documentation, we need to make the request to: GET /repos/:owner/:repo/forks."
   ]
  },
  {
   "cell_type": "code",
   "execution_count": 3,
   "metadata": {},
   "outputs": [
    {
     "ename": "ValueError",
     "evalue": "If using all scalar values, you must pass an index",
     "output_type": "error",
     "traceback": [
      "\u001b[0;31m--------------------\u001b[0m",
      "\u001b[0;31mValueError\u001b[0mTraceback (most recent call last)",
      "\u001b[0;32m<ipython-input-3-b69252e2fb26>\u001b[0m in \u001b[0;36m<module>\u001b[0;34m\u001b[0m\n\u001b[1;32m      6\u001b[0m \u001b[0;34m\u001b[0m\u001b[0m\n\u001b[1;32m      7\u001b[0m \u001b[0mresponse\u001b[0m \u001b[0;34m=\u001b[0m \u001b[0mrequests\u001b[0m\u001b[0;34m.\u001b[0m\u001b[0mget\u001b[0m\u001b[0;34m(\u001b[0m\u001b[0;34m'https://api.github.com/repos/ironhack-datalabs/dataV2-labs/forks?page=1'\u001b[0m\u001b[0;34m,\u001b[0m \u001b[0mauth\u001b[0m\u001b[0;34m=\u001b[0m\u001b[0;34m(\u001b[0m\u001b[0musername\u001b[0m\u001b[0;34m,\u001b[0m\u001b[0mtoken\u001b[0m\u001b[0;34m)\u001b[0m\u001b[0;34m)\u001b[0m\u001b[0;34m\u001b[0m\u001b[0;34m\u001b[0m\u001b[0m\n\u001b[0;32m----> 8\u001b[0;31m \u001b[0mdata\u001b[0m \u001b[0;34m=\u001b[0m \u001b[0mpd\u001b[0m\u001b[0;34m.\u001b[0m\u001b[0mDataFrame\u001b[0m\u001b[0;34m(\u001b[0m\u001b[0mresponse\u001b[0m\u001b[0;34m.\u001b[0m\u001b[0mjson\u001b[0m\u001b[0;34m(\u001b[0m\u001b[0;34m)\u001b[0m\u001b[0;34m)\u001b[0m\u001b[0;34m\u001b[0m\u001b[0;34m\u001b[0m\u001b[0m\n\u001b[0m\u001b[1;32m      9\u001b[0m \u001b[0mdata\u001b[0m\u001b[0;34m\u001b[0m\u001b[0;34m\u001b[0m\u001b[0m\n",
      "\u001b[0;32m~/opt/anaconda3/lib/python3.7/site-packages/pandas/core/frame.py\u001b[0m in \u001b[0;36m__init__\u001b[0;34m(self, data, index, columns, dtype, copy)\u001b[0m\n\u001b[1;32m    409\u001b[0m             )\n\u001b[1;32m    410\u001b[0m         \u001b[0;32melif\u001b[0m \u001b[0misinstance\u001b[0m\u001b[0;34m(\u001b[0m\u001b[0mdata\u001b[0m\u001b[0;34m,\u001b[0m \u001b[0mdict\u001b[0m\u001b[0;34m)\u001b[0m\u001b[0;34m:\u001b[0m\u001b[0;34m\u001b[0m\u001b[0;34m\u001b[0m\u001b[0m\n\u001b[0;32m--> 411\u001b[0;31m             \u001b[0mmgr\u001b[0m \u001b[0;34m=\u001b[0m \u001b[0minit_dict\u001b[0m\u001b[0;34m(\u001b[0m\u001b[0mdata\u001b[0m\u001b[0;34m,\u001b[0m \u001b[0mindex\u001b[0m\u001b[0;34m,\u001b[0m \u001b[0mcolumns\u001b[0m\u001b[0;34m,\u001b[0m \u001b[0mdtype\u001b[0m\u001b[0;34m=\u001b[0m\u001b[0mdtype\u001b[0m\u001b[0;34m)\u001b[0m\u001b[0;34m\u001b[0m\u001b[0;34m\u001b[0m\u001b[0m\n\u001b[0m\u001b[1;32m    412\u001b[0m         \u001b[0;32melif\u001b[0m \u001b[0misinstance\u001b[0m\u001b[0;34m(\u001b[0m\u001b[0mdata\u001b[0m\u001b[0;34m,\u001b[0m \u001b[0mma\u001b[0m\u001b[0;34m.\u001b[0m\u001b[0mMaskedArray\u001b[0m\u001b[0;34m)\u001b[0m\u001b[0;34m:\u001b[0m\u001b[0;34m\u001b[0m\u001b[0;34m\u001b[0m\u001b[0m\n\u001b[1;32m    413\u001b[0m             \u001b[0;32mimport\u001b[0m \u001b[0mnumpy\u001b[0m\u001b[0;34m.\u001b[0m\u001b[0mma\u001b[0m\u001b[0;34m.\u001b[0m\u001b[0mmrecords\u001b[0m \u001b[0;32mas\u001b[0m \u001b[0mmrecords\u001b[0m\u001b[0;34m\u001b[0m\u001b[0;34m\u001b[0m\u001b[0m\n",
      "\u001b[0;32m~/opt/anaconda3/lib/python3.7/site-packages/pandas/core/internals/construction.py\u001b[0m in \u001b[0;36minit_dict\u001b[0;34m(data, index, columns, dtype)\u001b[0m\n\u001b[1;32m    255\u001b[0m             \u001b[0marr\u001b[0m \u001b[0;32mif\u001b[0m \u001b[0;32mnot\u001b[0m \u001b[0mis_datetime64tz_dtype\u001b[0m\u001b[0;34m(\u001b[0m\u001b[0marr\u001b[0m\u001b[0;34m)\u001b[0m \u001b[0;32melse\u001b[0m \u001b[0marr\u001b[0m\u001b[0;34m.\u001b[0m\u001b[0mcopy\u001b[0m\u001b[0;34m(\u001b[0m\u001b[0;34m)\u001b[0m \u001b[0;32mfor\u001b[0m \u001b[0marr\u001b[0m \u001b[0;32min\u001b[0m \u001b[0marrays\u001b[0m\u001b[0;34m\u001b[0m\u001b[0;34m\u001b[0m\u001b[0m\n\u001b[1;32m    256\u001b[0m         ]\n\u001b[0;32m--> 257\u001b[0;31m     \u001b[0;32mreturn\u001b[0m \u001b[0marrays_to_mgr\u001b[0m\u001b[0;34m(\u001b[0m\u001b[0marrays\u001b[0m\u001b[0;34m,\u001b[0m \u001b[0mdata_names\u001b[0m\u001b[0;34m,\u001b[0m \u001b[0mindex\u001b[0m\u001b[0;34m,\u001b[0m \u001b[0mcolumns\u001b[0m\u001b[0;34m,\u001b[0m \u001b[0mdtype\u001b[0m\u001b[0;34m=\u001b[0m\u001b[0mdtype\u001b[0m\u001b[0;34m)\u001b[0m\u001b[0;34m\u001b[0m\u001b[0;34m\u001b[0m\u001b[0m\n\u001b[0m\u001b[1;32m    258\u001b[0m \u001b[0;34m\u001b[0m\u001b[0m\n\u001b[1;32m    259\u001b[0m \u001b[0;34m\u001b[0m\u001b[0m\n",
      "\u001b[0;32m~/opt/anaconda3/lib/python3.7/site-packages/pandas/core/internals/construction.py\u001b[0m in \u001b[0;36marrays_to_mgr\u001b[0;34m(arrays, arr_names, index, columns, dtype)\u001b[0m\n\u001b[1;32m     75\u001b[0m     \u001b[0;31m# figure out the index, if necessary\u001b[0m\u001b[0;34m\u001b[0m\u001b[0;34m\u001b[0m\u001b[0;34m\u001b[0m\u001b[0m\n\u001b[1;32m     76\u001b[0m     \u001b[0;32mif\u001b[0m \u001b[0mindex\u001b[0m \u001b[0;32mis\u001b[0m \u001b[0;32mNone\u001b[0m\u001b[0;34m:\u001b[0m\u001b[0;34m\u001b[0m\u001b[0;34m\u001b[0m\u001b[0m\n\u001b[0;32m---> 77\u001b[0;31m         \u001b[0mindex\u001b[0m \u001b[0;34m=\u001b[0m \u001b[0mextract_index\u001b[0m\u001b[0;34m(\u001b[0m\u001b[0marrays\u001b[0m\u001b[0;34m)\u001b[0m\u001b[0;34m\u001b[0m\u001b[0;34m\u001b[0m\u001b[0m\n\u001b[0m\u001b[1;32m     78\u001b[0m     \u001b[0;32melse\u001b[0m\u001b[0;34m:\u001b[0m\u001b[0;34m\u001b[0m\u001b[0;34m\u001b[0m\u001b[0m\n\u001b[1;32m     79\u001b[0m         \u001b[0mindex\u001b[0m \u001b[0;34m=\u001b[0m \u001b[0mensure_index\u001b[0m\u001b[0;34m(\u001b[0m\u001b[0mindex\u001b[0m\u001b[0;34m)\u001b[0m\u001b[0;34m\u001b[0m\u001b[0;34m\u001b[0m\u001b[0m\n",
      "\u001b[0;32m~/opt/anaconda3/lib/python3.7/site-packages/pandas/core/internals/construction.py\u001b[0m in \u001b[0;36mextract_index\u001b[0;34m(data)\u001b[0m\n\u001b[1;32m    356\u001b[0m \u001b[0;34m\u001b[0m\u001b[0m\n\u001b[1;32m    357\u001b[0m         \u001b[0;32mif\u001b[0m \u001b[0;32mnot\u001b[0m \u001b[0mindexes\u001b[0m \u001b[0;32mand\u001b[0m \u001b[0;32mnot\u001b[0m \u001b[0mraw_lengths\u001b[0m\u001b[0;34m:\u001b[0m\u001b[0;34m\u001b[0m\u001b[0;34m\u001b[0m\u001b[0m\n\u001b[0;32m--> 358\u001b[0;31m             \u001b[0;32mraise\u001b[0m \u001b[0mValueError\u001b[0m\u001b[0;34m(\u001b[0m\u001b[0;34m\"If using all scalar values, you must pass an index\"\u001b[0m\u001b[0;34m)\u001b[0m\u001b[0;34m\u001b[0m\u001b[0;34m\u001b[0m\u001b[0m\n\u001b[0m\u001b[1;32m    359\u001b[0m \u001b[0;34m\u001b[0m\u001b[0m\n\u001b[1;32m    360\u001b[0m         \u001b[0;32mif\u001b[0m \u001b[0mhave_series\u001b[0m\u001b[0;34m:\u001b[0m\u001b[0;34m\u001b[0m\u001b[0;34m\u001b[0m\u001b[0m\n",
      "\u001b[0;31mValueError\u001b[0m: If using all scalar values, you must pass an index"
     ]
    }
   ],
   "source": [
    "import requests\n",
    "import pandas as pd\n",
    "\n",
    "username = 'ReneRaube'\n",
    "token = 'please enter token'\n",
    "\n",
    "response = requests.get('https://api.github.com/repos/ironhack-datalabs/dataV2-labs/forks?page=1', auth=(username,token))\n",
    "data = pd.DataFrame(response.json())\n",
    "data"
   ]
  },
  {
   "cell_type": "code",
   "execution_count": null,
   "metadata": {},
   "outputs": [],
   "source": [
    "#doesn't work\n",
    "#for i in xrange(24):\n",
    "#        print \"https://api.github.com/repos/ironhack-datalabs/dataV2-labs/forks?page=%d\" % (i)\n",
    "\n",
    "from pandas.io.json import json_normalize\n",
    "results = response.json()\n",
    "\n",
    "flattened_data = json_normalize(results)\n",
    "flattened_data"
   ]
  },
  {
   "cell_type": "markdown",
   "metadata": {},
   "source": [
    "#### 2. Loop the JSON response to find out the language attribute of each fork. Use an array to store the language attributes of each fork.\n",
    "Hint: Each language should appear only once in your array.\n",
    "Print the language array. It should be something like: [\"Python\", \"Jupyter Notebook\", \"HTML\"]"
   ]
  },
  {
   "cell_type": "code",
   "execution_count": null,
   "metadata": {},
   "outputs": [],
   "source": [
    "print(flattened_data.columns)"
   ]
  },
  {
   "cell_type": "code",
   "execution_count": null,
   "metadata": {},
   "outputs": [],
   "source": [
    "print(flattened_data['languages_url'])"
   ]
  },
  {
   "cell_type": "code",
   "execution_count": null,
   "metadata": {},
   "outputs": [],
   "source": [
    "flattened_list = list(flattened_data['languages_url'])\n",
    "print(flattened_list)"
   ]
  },
  {
   "cell_type": "code",
   "execution_count": null,
   "metadata": {},
   "outputs": [],
   "source": [
    "lst = []\n",
    "for url in flattened_data['languages_url']:\n",
    "    x = requests.get(url, auth=(username, token)).json()\n",
    "    lst.append(x)"
   ]
  },
  {
   "cell_type": "code",
   "execution_count": null,
   "metadata": {},
   "outputs": [],
   "source": [
    "print(lst)"
   ]
  },
  {
   "cell_type": "code",
   "execution_count": null,
   "metadata": {},
   "outputs": [],
   "source": [
    "flattened_data.columns\n",
    "url_adre = flattened_list\n",
    "language_list= []\n",
    "for i in url_adre:\n",
    "    x=requests.get(i,auth=(username,token)).json()\n",
    "    language_list.append(x)\n",
    "uni =[]\n",
    "for x in language_list:\n",
    "    for k in x:\n",
    "        uni.append(k)\n",
    "unique_lang = set(uni)\n",
    "print(unique_lang)"
   ]
  },
  {
   "cell_type": "code",
   "execution_count": null,
   "metadata": {},
   "outputs": [],
   "source": [
    "flattened_data['language']\n",
    "no_duplicates_flattened_data = set(flattened_data['language'])\n",
    "print(no_duplicates_flattened_data)"
   ]
  },
  {
   "cell_type": "markdown",
   "metadata": {},
   "source": [
    "## Challenge 2: Count Commits\n",
    "Count how many commits were made in the month of october of 2018.\n",
    "#### 1. Obtain all the commits made in October 2018 via API, which is a JSON array that contains multiple commit objects."
   ]
  },
  {
   "cell_type": "code",
   "execution_count": null,
   "metadata": {},
   "outputs": [],
   "source": [
    "import requests\n",
    "import pandas as pd\n",
    "\n",
    "username = 'ReneRaube'\n",
    "token = 'enter token'\n",
    "\n",
    "response = requests.get('https://api.github.com/repos/ironhack-datalabs/dataV2-labs/commits?since=2019-10-01T00:00:00Z&until=2019-10-31T23:59:59Z', auth=(username,token))\n",
    "data = pd.DataFrame(response.json())\n",
    "data\n",
    "\n",
    "from pandas.io.json import json_normalize\n",
    "\n",
    "results = response.json()\n",
    "flattened_data = json_normalize(results)\n",
    "\n",
    "flattened_data"
   ]
  },
  {
   "cell_type": "markdown",
   "metadata": {},
   "source": [
    "#### 2. Count how many commit objects are contained in the array."
   ]
  },
  {
   "cell_type": "code",
   "execution_count": null,
   "metadata": {},
   "outputs": [],
   "source": [
    "len(flattened_data)"
   ]
  },
  {
   "cell_type": "markdown",
   "metadata": {},
   "source": [
    "## Challenge 3: Hidden Cold Joke\n",
    "\n",
    "Using Python, call Github API to find out the cold joke contained in the 24 secret files in the following repo:\n",
    "\n",
    "https://github.com/ironhack-datalabs/scavenger\n",
    "\n",
    "The filenames of the secret files contain .scavengerhunt and they are scattered in different directories of this repo. The secret files are named from .0001.scavengerhunt to .0024.scavengerhunt. They are scattered randomly throughout this repo. You need to search for these files by calling the Github API, not searching the local files on your computer.\n",
    "\n",
    "#### 1. Find the secret files."
   ]
  },
  {
   "cell_type": "code",
   "execution_count": null,
   "metadata": {},
   "outputs": [],
   "source": [
    "#how?????\n",
    "import requests\n",
    "import pandas as pd\n",
    "import re\n",
    "import json\n",
    "\n",
    "username = 'ReneRaube'\n",
    "token = 'xxx'\n",
    "\n",
    "url = 'https://github.com/ironhack-datalabs/scavenger'\n",
    "headers = {'token': 'please enter token', \n",
    "           #'Content-Type': 'application/json',\n",
    "           #'Accept': 'application/vnd.github.v3+json'}\n",
    "\n",
    "def getFileContent():\n",
    "\n",
    "    api_url = '{0}account'.format(api_url_base)\n",
    "\n",
    "    response = requests.get(api_url, headers=headers)\n",
    "\n",
    "    if response.status_code == 200:\n",
    "        return json.loads(response.content.decode('utf-8'))\n",
    "    else:\n",
    "        return None\n",
    "\n",
    "def getFileContent(pathAndFileName):\n",
    "    with open(pathAndFileName, 'r') as theFile:\n",
    "        # Return a list of lines (strings)\n",
    "        # data = theFile.read().split('\\n')\n",
    "        \n",
    "        # Return as string without line breaks\n",
    "        # data = theFile.read().replace('\\n', '')\n",
    "        \n",
    "        # Return as string\n",
    "        data = theFile.read()\n",
    "        return data\n",
    "\n",
    "print getFileContent('./test.txt')\n",
    "\n",
    "\n",
    "response = requests.get('https://api.github.com/ironhack-datalabs/scavenger', auth=(username,token))\n",
    "print(response.json())\n",
    "#response_list = list(response)\n",
    "#print(response_list)\n",
    "#response_str = ''.join(response_list)\n",
    "#print(response_str)\n",
    "#re.findall('.\\d+.scavengerhunt', response_str)\n",
    "#data = pd.DataFrame(response)\n",
    "#print(data)\n",
    "#data = pd.DataFrame(response.json())\n",
    "#data"
   ]
  },
  {
   "cell_type": "code",
   "execution_count": null,
   "metadata": {},
   "outputs": [],
   "source": [
    "username = 'ReneRaube'\n",
    "token = 'enter token'\n",
    "\n",
    "url = 'https://github.com/ironhack-datalabs/scavenger'\n",
    "#have to put api in fornt of the link in case I want to get the data from a website\n",
    "\n",
    "response = requests.get('https://api.github.com/repos/ironhack-datalabs/scavenger', auth=(username,token))\n",
    "#don't do print! --> makes it easier to read if you don't use \"print\"\n",
    "#after repos we see where --> repos actually indicates what we want.\n",
    "response.json()\n",
    "\n",
    "#same below:  after link we indicate what we want in the end we say where to get it specifically on the given website\n",
    "#this she found on the internet: search/code?q=extension:.scavengerhunt --> it looks inside the link inside ironhack-datalabs/scavenger \n",
    "#for all the stuff with the extension .scavengerhunt \n",
    "response_content = requests.get('https://api.github.com/search/code?q=extension:.scavengerhunt repo:ironhack-datalabs/scavenger', auth=(username,token))\n",
    "response_content.json()\n",
    "\n",
    "#get it\n",
    "#content is under items content --> link is under cntent and then add path --> path is also under items.\n",
    "\n",
    "#basically we create a for loop to get all the links and then get all content from there and append it into a list\n",
    "\n",
    "?lst = []\n",
    "?for path in items in ...:\n",
    "    lst.append(\"https://api.github.com/repos/ironhack-datalabs/scavenger/contents/\",path)\n",
    "?lst\n",
    "\n",
    "#response_list = list(response)\n",
    "#print(response_list)\n",
    "#response_str = ''.join(response_list)\n",
    "#print(response_str)\n",
    "#re.findall('.\\d+.scavengerhunt', response_str)\n",
    "#data = pd.DataFrame(response)\n",
    "#print(data)\n",
    "#data = pd.DataFrame(response.json())\n",
    "#data"
   ]
  },
  {
   "cell_type": "markdown",
   "metadata": {},
   "source": [
    "#### 2.  Sort the filenames ascendingly."
   ]
  },
  {
   "cell_type": "code",
   "execution_count": null,
   "metadata": {},
   "outputs": [],
   "source": [
    "#print(response)\n",
    "list(response)"
   ]
  },
  {
   "cell_type": "markdown",
   "metadata": {},
   "source": [
    "#### 3. Read the content of each secret files into an array of strings.\n",
    "Since the response is encoded, you will need to send the following information in the header of your request:\n",
    "````python\n",
    "headers = {'Accept': 'application/vnd.github.v3.raw'}\n",
    "````"
   ]
  },
  {
   "cell_type": "code",
   "execution_count": null,
   "metadata": {},
   "outputs": [],
   "source": [
    "# your code here"
   ]
  },
  {
   "cell_type": "markdown",
   "metadata": {},
   "source": [
    "#### 4. Concatenate the strings in the array separating each two with a whitespace."
   ]
  },
  {
   "cell_type": "code",
   "execution_count": null,
   "metadata": {},
   "outputs": [],
   "source": [
    "# your code here"
   ]
  },
  {
   "cell_type": "markdown",
   "metadata": {},
   "source": [
    "#### 5. Print out the joke."
   ]
  },
  {
   "cell_type": "code",
   "execution_count": null,
   "metadata": {},
   "outputs": [],
   "source": [
    "# your code here"
   ]
  }
 ],
 "metadata": {
  "kernelspec": {
   "display_name": "Python 3",
   "language": "python",
   "name": "python3"
  },
  "language_info": {
   "codemirror_mode": {
    "name": "ipython",
    "version": 3
   },
   "file_extension": ".py",
   "mimetype": "text/x-python",
   "name": "python",
   "nbconvert_exporter": "python",
   "pygments_lexer": "ipython3",
   "version": "3.7.4"
  }
 },
 "nbformat": 4,
 "nbformat_minor": 2
}
