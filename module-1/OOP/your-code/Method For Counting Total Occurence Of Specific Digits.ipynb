{
 "cells": [
  {
   "cell_type": "code",
   "execution_count": 1,
   "metadata": {},
   "outputs": [],
   "source": [
    "#We need a method in the List Class that may count specific digits from a given list\n",
    "#of integers. This marked digits will be given in a second list. The method \n",
    "#.count_spec_digits()/.countSpecDigits() will accept two arguments, a list of an \n",
    "#uncertain amount of integers integers_lists/integersLists (and of an uncertain \n",
    "#amount of digits, too) and a second list, digits_list/digitsList that has the specific \n",
    "#digits to count which length cannot be be longer than 10 (It's obvious, we've got ten \n",
    "#digits). The method will output a list of tuples, each tuple having two elements, the \n",
    "#first one will be a digit to count, and second one, its corresponding total frequency \n",
    "#in all the integers of the first list. This list of tuples should be ordered with the \n",
    "#same order that the digits have in digitsList"
   ]
  },
  {
   "cell_type": "code",
   "execution_count": 2,
   "metadata": {},
   "outputs": [
    {
     "data": {
      "text/plain": [
       "[2, 2, 4]"
      ]
     },
     "execution_count": 2,
     "metadata": {},
     "output_type": "execute_result"
    }
   ],
   "source": [
    "class RemoveValues:\n",
    "    def __init__(self, integer_list, values_list):\n",
    "        self.integer_list = integer_list\n",
    "        self.values_list = values_list\n",
    "    \n",
    "    def remove__(self):\n",
    "        return [x for x in self.integer_list if x not in self.values_list]\n",
    "    \n",
    "integer_list =  [1, 1, 2 ,3 ,1 ,2 ,3 ,4]\n",
    "values_list = [1, 3]\n",
    "\n",
    "RemoveValues(integer_list, values_list).remove__()"
   ]
  }
 ],
 "metadata": {
  "kernelspec": {
   "display_name": "Python 3",
   "language": "python",
   "name": "python3"
  },
  "language_info": {
   "codemirror_mode": {
    "name": "ipython",
    "version": 3
   },
   "file_extension": ".py",
   "mimetype": "text/x-python",
   "name": "python",
   "nbconvert_exporter": "python",
   "pygments_lexer": "ipython3",
   "version": "3.7.4"
  }
 },
 "nbformat": 4,
 "nbformat_minor": 2
}
