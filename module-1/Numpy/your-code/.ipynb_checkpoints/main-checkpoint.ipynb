{
 "cells": [
  {
   "cell_type": "markdown",
   "metadata": {},
   "source": [
    "# Intrduction to NumPy\n",
    "\n",
    "\n",
    "#### 1. Import NumPy under the name np."
   ]
  },
  {
   "cell_type": "code",
   "execution_count": 1,
   "metadata": {},
   "outputs": [],
   "source": [
    "import numpy as np"
   ]
  },
  {
   "cell_type": "markdown",
   "metadata": {},
   "source": [
    "#### 2. Print your NumPy version."
   ]
  },
  {
   "cell_type": "code",
   "execution_count": 2,
   "metadata": {},
   "outputs": [
    {
     "data": {
      "text/plain": [
       "'1.17.2'"
      ]
     },
     "execution_count": 2,
     "metadata": {},
     "output_type": "execute_result"
    }
   ],
   "source": [
    "np.version.version"
   ]
  },
  {
   "cell_type": "markdown",
   "metadata": {},
   "source": [
    "#### 3. Generate a 2x3x5 3-dimensional array with random values. Assign the array to variable *a*.\n",
    "**Challenge**: there are at least three easy ways that use numpy to generate random arrays. How many ways can you find?"
   ]
  },
  {
   "cell_type": "code",
   "execution_count": 7,
   "metadata": {},
   "outputs": [],
   "source": [
    "a = np.random.random((2,3,5))"
   ]
  },
  {
   "cell_type": "code",
   "execution_count": 12,
   "metadata": {},
   "outputs": [
    {
     "data": {
      "text/plain": [
       "array([[[0.30273412, 0.02208356, 0.02934944, 0.90118159, 0.01336727],\n",
       "        [0.8933331 , 0.88397472, 0.59614626, 0.63317627, 0.10375445],\n",
       "        [0.9716494 , 0.79454624, 0.30993731, 0.48414148, 0.18433116]],\n",
       "\n",
       "       [[0.58791145, 0.18189419, 0.23536016, 0.84103381, 0.12177539],\n",
       "        [0.29139993, 0.9153883 , 0.52938264, 0.71372436, 0.02375683],\n",
       "        [0.19540327, 0.86832117, 0.59891135, 0.40717099, 0.13930692]]])"
      ]
     },
     "execution_count": 12,
     "metadata": {},
     "output_type": "execute_result"
    }
   ],
   "source": [
    "np.random.rand(2,3,5)"
   ]
  },
  {
   "cell_type": "code",
   "execution_count": 14,
   "metadata": {},
   "outputs": [
    {
     "data": {
      "text/plain": [
       "array([[[0.49816708, 0.78838281, 0.60544721, 0.52504281, 0.21289774],\n",
       "        [0.47590187, 0.22475689, 0.38389466, 0.48001859, 0.76357954],\n",
       "        [0.36374153, 0.91252874, 0.08370774, 0.38076192, 0.06124459]],\n",
       "\n",
       "       [[0.70771564, 0.86816057, 0.43029595, 0.39502132, 0.97008579],\n",
       "        [0.1139383 , 0.07302722, 0.80370585, 0.8797782 , 0.42572401],\n",
       "        [0.88772391, 0.77549279, 0.98047803, 0.03511085, 0.07010788]]])"
      ]
     },
     "execution_count": 14,
     "metadata": {},
     "output_type": "execute_result"
    }
   ],
   "source": [
    "np.random.sample((2,3,5))"
   ]
  },
  {
   "cell_type": "markdown",
   "metadata": {},
   "source": [
    "#### 4. Print *a*.\n"
   ]
  },
  {
   "cell_type": "code",
   "execution_count": 12,
   "metadata": {},
   "outputs": [
    {
     "name": "stdout",
     "output_type": "stream",
     "text": [
      "[[[0.33139589 0.91626918 0.82728558 0.44073257 0.61696496]\n",
      "  [0.24875755 0.81909421 0.8742943  0.34758112 0.09734594]\n",
      "  [0.31550156 0.12638282 0.94474224 0.26771773 0.22016662]]\n",
      "\n",
      " [[0.81032794 0.11942546 0.05372955 0.84892929 0.67905386]\n",
      "  [0.98539343 0.5863635  0.34317032 0.24851439 0.32560882]\n",
      "  [0.43035077 0.54086433 0.66333087 0.86357751 0.26326954]]]\n"
     ]
    }
   ],
   "source": [
    "print(a)"
   ]
  },
  {
   "cell_type": "markdown",
   "metadata": {},
   "source": [
    "#### 5. Create a 5x2x3 3-dimensional array with all values equaling 1. Assign the array to variable *b*."
   ]
  },
  {
   "cell_type": "code",
   "execution_count": 15,
   "metadata": {},
   "outputs": [],
   "source": [
    "b = np.full((5,2,3),1)"
   ]
  },
  {
   "cell_type": "markdown",
   "metadata": {},
   "source": [
    "#### 6. Print *b*.\n"
   ]
  },
  {
   "cell_type": "code",
   "execution_count": 16,
   "metadata": {},
   "outputs": [
    {
     "name": "stdout",
     "output_type": "stream",
     "text": [
      "[[[1 1 1]\n",
      "  [1 1 1]]\n",
      "\n",
      " [[1 1 1]\n",
      "  [1 1 1]]\n",
      "\n",
      " [[1 1 1]\n",
      "  [1 1 1]]\n",
      "\n",
      " [[1 1 1]\n",
      "  [1 1 1]]\n",
      "\n",
      " [[1 1 1]\n",
      "  [1 1 1]]]\n"
     ]
    }
   ],
   "source": [
    "print (b)"
   ]
  },
  {
   "cell_type": "markdown",
   "metadata": {},
   "source": [
    "#### 7. Do *a* and *b* have the same size? How do you prove that in Python code?"
   ]
  },
  {
   "cell_type": "code",
   "execution_count": 21,
   "metadata": {},
   "outputs": [
    {
     "name": "stdout",
     "output_type": "stream",
     "text": [
      "30\n",
      "30\n"
     ]
    },
    {
     "data": {
      "text/plain": [
       "True"
      ]
     },
     "execution_count": 21,
     "metadata": {},
     "output_type": "execute_result"
    }
   ],
   "source": [
    "print(a.size)\n",
    "print(b.size)\n",
    "a.size == b.size"
   ]
  },
  {
   "cell_type": "markdown",
   "metadata": {},
   "source": [
    "#### 8. Are you able to add *a* and *b*? Why or why not?\n"
   ]
  },
  {
   "cell_type": "code",
   "execution_count": 26,
   "metadata": {},
   "outputs": [
    {
     "ename": "ValueError",
     "evalue": "operands could not be broadcast together with shapes (2,3,5) (5,2,3) ",
     "output_type": "error",
     "traceback": [
      "\u001b[0;31m---------------------------------------------------------------------------\u001b[0m",
      "\u001b[0;31mValueError\u001b[0m                                Traceback (most recent call last)",
      "\u001b[0;32m<ipython-input-26-8a4393964624>\u001b[0m in \u001b[0;36m<module>\u001b[0;34m\u001b[0m\n\u001b[0;32m----> 1\u001b[0;31m \u001b[0mprint\u001b[0m\u001b[0;34m(\u001b[0m\u001b[0mnp\u001b[0m\u001b[0;34m.\u001b[0m\u001b[0madd\u001b[0m\u001b[0;34m(\u001b[0m\u001b[0ma\u001b[0m\u001b[0;34m,\u001b[0m\u001b[0mb\u001b[0m\u001b[0;34m)\u001b[0m\u001b[0;34m)\u001b[0m\u001b[0;34m\u001b[0m\u001b[0;34m\u001b[0m\u001b[0m\n\u001b[0m\u001b[1;32m      2\u001b[0m \u001b[0;31m#no, I can't add a and b as they have different shapes:\u001b[0m\u001b[0;34m\u001b[0m\u001b[0;34m\u001b[0m\u001b[0;34m\u001b[0m\u001b[0m\n",
      "\u001b[0;31mValueError\u001b[0m: operands could not be broadcast together with shapes (2,3,5) (5,2,3) "
     ]
    }
   ],
   "source": [
    "print(np.add(a,b))\n",
    "#no, I can't add a and b as they have different shapes:"
   ]
  },
  {
   "cell_type": "code",
   "execution_count": 28,
   "metadata": {},
   "outputs": [
    {
     "name": "stdout",
     "output_type": "stream",
     "text": [
      "(2, 3, 5)\n",
      "(5, 2, 3)\n"
     ]
    }
   ],
   "source": [
    "print(a.shape)\n",
    "print(b.shape)"
   ]
  },
  {
   "cell_type": "markdown",
   "metadata": {},
   "source": [
    "#### 9. Transpose *b* so that it has the same structure of *a* (i.e. become a 2x3x5 array). Assign the transposed array to variable *c*."
   ]
  },
  {
   "cell_type": "code",
   "execution_count": 19,
   "metadata": {},
   "outputs": [
    {
     "name": "stdout",
     "output_type": "stream",
     "text": [
      "[[[1 1 1 1 1]\n",
      "  [1 1 1 1 1]\n",
      "  [1 1 1 1 1]]\n",
      "\n",
      " [[1 1 1 1 1]\n",
      "  [1 1 1 1 1]\n",
      "  [1 1 1 1 1]]]\n"
     ]
    }
   ],
   "source": [
    "c = np.reshape(b, (2,3,5))\n",
    "print(c)"
   ]
  },
  {
   "cell_type": "markdown",
   "metadata": {},
   "source": [
    "#### 10. Try to add *a* and *c*. Now it should work. Assign the sum to variable *d*. But why does it work now?"
   ]
  },
  {
   "cell_type": "code",
   "execution_count": 20,
   "metadata": {},
   "outputs": [
    {
     "name": "stdout",
     "output_type": "stream",
     "text": [
      "[[[1.85374281 1.96888497 1.96269979 1.21934171 1.89851066]\n",
      "  [1.22172401 1.22957364 1.00313795 1.84235249 1.20958859]\n",
      "  [1.45657219 1.49620486 1.24108001 1.8878446  1.31396956]]\n",
      "\n",
      " [[1.86798968 1.25146252 1.51243043 1.71655701 1.73962599]\n",
      "  [1.84570046 1.28691411 1.33225221 1.94738422 1.96895482]\n",
      "  [1.87049325 1.87624379 1.0420147  1.36919212 1.97542586]]]\n"
     ]
    }
   ],
   "source": [
    "d = np.add(a,c)\n",
    "print(d)"
   ]
  },
  {
   "cell_type": "markdown",
   "metadata": {},
   "source": [
    "#### 11. Print *a* and *d*. Notice the difference and relation of the two array in terms of the values? Explain."
   ]
  },
  {
   "cell_type": "code",
   "execution_count": 21,
   "metadata": {},
   "outputs": [
    {
     "name": "stdout",
     "output_type": "stream",
     "text": [
      "[[[0.85374281 0.96888497 0.96269979 0.21934171 0.89851066]\n",
      "  [0.22172401 0.22957364 0.00313795 0.84235249 0.20958859]\n",
      "  [0.45657219 0.49620486 0.24108001 0.8878446  0.31396956]]\n",
      "\n",
      " [[0.86798968 0.25146252 0.51243043 0.71655701 0.73962599]\n",
      "  [0.84570046 0.28691411 0.33225221 0.94738422 0.96895482]\n",
      "  [0.87049325 0.87624379 0.0420147  0.36919212 0.97542586]]]\n",
      "\n",
      "\n",
      "[[[1.85374281 1.96888497 1.96269979 1.21934171 1.89851066]\n",
      "  [1.22172401 1.22957364 1.00313795 1.84235249 1.20958859]\n",
      "  [1.45657219 1.49620486 1.24108001 1.8878446  1.31396956]]\n",
      "\n",
      " [[1.86798968 1.25146252 1.51243043 1.71655701 1.73962599]\n",
      "  [1.84570046 1.28691411 1.33225221 1.94738422 1.96895482]\n",
      "  [1.87049325 1.87624379 1.0420147  1.36919212 1.97542586]]]\n",
      "[[[1. 1. 1. 1. 1.]\n",
      "  [1. 1. 1. 1. 1.]\n",
      "  [1. 1. 1. 1. 1.]]\n",
      "\n",
      " [[1. 1. 1. 1. 1.]\n",
      "  [1. 1. 1. 1. 1.]\n",
      "  [1. 1. 1. 1. 1.]]]\n"
     ]
    }
   ],
   "source": [
    "print(a)\n",
    "print(\"\\n\")\n",
    "print(d)\n",
    "# d is a+1\n",
    "\n",
    "print(d-a)"
   ]
  },
  {
   "cell_type": "markdown",
   "metadata": {},
   "source": [
    "#### 12. Multiply *a* and *c*. Assign the result to *e*."
   ]
  },
  {
   "cell_type": "code",
   "execution_count": 22,
   "metadata": {},
   "outputs": [
    {
     "name": "stdout",
     "output_type": "stream",
     "text": [
      "[[[0.85374281 0.96888497 0.96269979 0.21934171 0.89851066]\n",
      "  [0.22172401 0.22957364 0.00313795 0.84235249 0.20958859]\n",
      "  [0.45657219 0.49620486 0.24108001 0.8878446  0.31396956]]\n",
      "\n",
      " [[0.86798968 0.25146252 0.51243043 0.71655701 0.73962599]\n",
      "  [0.84570046 0.28691411 0.33225221 0.94738422 0.96895482]\n",
      "  [0.87049325 0.87624379 0.0420147  0.36919212 0.97542586]]]\n"
     ]
    }
   ],
   "source": [
    "e = np.multiply(a,c)\n",
    "print(e)"
   ]
  },
  {
   "cell_type": "markdown",
   "metadata": {},
   "source": [
    "#### 13. Does *e* equal to *a*? Why or why not?\n"
   ]
  },
  {
   "cell_type": "code",
   "execution_count": 24,
   "metadata": {},
   "outputs": [
    {
     "data": {
      "text/plain": [
       "array([[[ True,  True,  True,  True,  True],\n",
       "        [ True,  True,  True,  True,  True],\n",
       "        [ True,  True,  True,  True,  True]],\n",
       "\n",
       "       [[ True,  True,  True,  True,  True],\n",
       "        [ True,  True,  True,  True,  True],\n",
       "        [ True,  True,  True,  True,  True]]])"
      ]
     },
     "execution_count": 24,
     "metadata": {},
     "output_type": "execute_result"
    }
   ],
   "source": [
    "e == a\n",
    "# it's the same, as 1*x=x values of a remain unchanged"
   ]
  },
  {
   "cell_type": "markdown",
   "metadata": {},
   "source": [
    "#### 14. Identify the max, min, and mean values in *d*. Assign those values to variables *d_max*, *d_min* and *d_mean*."
   ]
  },
  {
   "cell_type": "code",
   "execution_count": 25,
   "metadata": {},
   "outputs": [
    {
     "name": "stdout",
     "output_type": "stream",
     "text": [
      "1.5802623004345586\n",
      "1.9754258612104278\n",
      "1.003137953604332\n"
     ]
    }
   ],
   "source": [
    "d_mean = (np.mean(d))\n",
    "d_max = (np.max(d))\n",
    "d_min = (np.min(d))\n",
    "\n",
    "print(d_mean)\n",
    "print(d_max)\n",
    "print(d_min)"
   ]
  },
  {
   "cell_type": "markdown",
   "metadata": {},
   "source": [
    "#### 15. Now we want to label the values in *d*. First create an empty array *f* with the same shape (i.e. 2x3x5) as *d* using `np.empty`.\n"
   ]
  },
  {
   "cell_type": "code",
   "execution_count": 26,
   "metadata": {},
   "outputs": [
    {
     "name": "stdout",
     "output_type": "stream",
     "text": [
      "[[[0.85374281 0.96888497 0.96269979 0.21934171 0.89851066]\n",
      "  [0.22172401 0.22957364 0.00313795 0.84235249 0.20958859]\n",
      "  [0.45657219 0.49620486 0.24108001 0.8878446  0.31396956]]\n",
      "\n",
      " [[0.86798968 0.25146252 0.51243043 0.71655701 0.73962599]\n",
      "  [0.84570046 0.28691411 0.33225221 0.94738422 0.96895482]\n",
      "  [0.87049325 0.87624379 0.0420147  0.36919212 0.97542586]]]\n",
      "\n",
      "\n",
      "[[[1.85374281 1.96888497 1.96269979 1.21934171 1.89851066]\n",
      "  [1.22172401 1.22957364 1.00313795 1.84235249 1.20958859]\n",
      "  [1.45657219 1.49620486 1.24108001 1.8878446  1.31396956]]\n",
      "\n",
      " [[1.86798968 1.25146252 1.51243043 1.71655701 1.73962599]\n",
      "  [1.84570046 1.28691411 1.33225221 1.94738422 1.96895482]\n",
      "  [1.87049325 1.87624379 1.0420147  1.36919212 1.97542586]]]\n"
     ]
    }
   ],
   "source": [
    "f = np.empty((2,3,5))\n",
    "print(f)\n",
    "print(\"\\n\")\n",
    "print(d)"
   ]
  },
  {
   "cell_type": "markdown",
   "metadata": {},
   "source": [
    "#### 16. Populate the values in *f*. \n",
    "\n",
    "For each value in *d*, if it's larger than *d_min* but smaller than *d_mean*, assign 25 to the corresponding value in *f*. If a value in *d* is larger than *d_mean* but smaller than *d_max*, assign 75 to the corresponding value in *f*. If a value equals to *d_mean*, assign 50 to the corresponding value in *f*. Assign 0 to the corresponding value(s) in *f* for *d_min* in *d*. Assign 100 to the corresponding value(s) in *f* for *d_max* in *d*. In the end, f should have only the following values: 0, 25, 50, 75, and 100.\n",
    "\n",
    "**Note**: you don't have to use Numpy in this question."
   ]
  },
  {
   "cell_type": "code",
   "execution_count": 95,
   "metadata": {},
   "outputs": [
    {
     "name": "stdout",
     "output_type": "stream",
     "text": [
      "[[[1.33139589 1.91626918 1.82728558 1.44073257 1.61696496]\n",
      "  [1.24875755 1.81909421 1.8742943  1.34758112 1.09734594]\n",
      "  [1.31550156 1.12638282 1.94474224 1.26771773 1.22016662]]\n",
      "\n",
      " [[1.81032794 1.11942546 1.05372955 1.84892929 1.67905386]\n",
      "  [1.98539343 1.5863635  1.34317032 1.24851439 1.32560882]\n",
      "  [1.43035077 1.54086433 1.66333087 1.86357751 1.26326954]]]\n"
     ]
    }
   ],
   "source": [
    "#tried to use numpy. Didn't work out\n",
    "\"\"\"\n",
    "for k,l in column\n",
    "    for j in f:\n",
    "        for i in d:\n",
    "            if [k,l] > d_min and i() < d_mean:\n",
    "                j[k,l] = 25\n",
    "            if i () < d_max and i () > d_mean:\n",
    "                j = 75\n",
    "            if i () == d_mean:\n",
    "                j = 50\n",
    "            if i () == d_min:\n",
    "                j = 0\n",
    "            if i.any() == d_max:\n",
    "                j = 100\n",
    "    print(f)\n",
    "\"\"\""
   ]
  },
  {
   "cell_type": "code",
   "execution_count": 68,
   "metadata": {},
   "outputs": [
    {
     "name": "stdout",
     "output_type": "stream",
     "text": [
      "d-String:\n",
      " [[[1.85374281 1.96888497 1.96269979 1.21934171 1.89851066]\n",
      "  [1.22172401 1.22957364 1.00313795 1.84235249 1.20958859]\n",
      "  [1.45657219 1.49620486 1.24108001 1.8878446  1.31396956]]\n",
      "\n",
      " [[1.86798968 1.25146252 1.51243043 1.71655701 1.73962599]\n",
      "  [1.84570046 1.28691411 1.33225221 1.94738422 1.96895482]\n",
      "  [1.87049325 1.87624379 1.0420147  1.36919212 1.97542586]]]\n",
      "\n",
      " <class 'str'> \n",
      "\n",
      "d-string converted:\n",
      " 1.85374281 1.96888497 1.96269979 1.21934171 1.89851066\n",
      "  1.22172401 1.22957364 1.00313795 1.84235249 1.20958859\n",
      "  1.45657219 1.49620486 1.24108001 1.8878446  1.31396956\n",
      "\n",
      " 1.86798968 1.25146252 1.51243043 1.71655701 1.73962599\n",
      "  1.84570046 1.28691411 1.33225221 1.94738422 1.96895482\n",
      "  1.87049325 1.87624379 1.0420147  1.36919212 1.97542586\n",
      "\n",
      " d_list \n",
      " ['1.85374281', '1.96888497', '1.96269979', '1.21934171', '1.89851066', '1.22172401', '1.22957364', '1.00313795', '1.84235249', '1.20958859', '1.45657219', '1.49620486', '1.24108001', '1.8878446', '1.31396956', '1.86798968', '1.25146252', '1.51243043', '1.71655701', '1.73962599', '1.84570046', '1.28691411', '1.33225221', '1.94738422', '1.96895482', '1.87049325', '1.87624379', '1.0420147', '1.36919212', '1.97542586'] \n",
      "\n",
      "\n"
     ]
    },
    {
     "data": {
      "text/plain": [
       "'\\n#turning f into a list\\n#turning f into a string first\\nf_string = str((f))\\nprint(\"f-String:\\n\", f_string)\\nprint(\"\\n\", type(f_string), \"\\n\")\\n\\n\\nf_string_final = f_string.replace(\"[\",\"\").replace(\"]\",\"\")\\nprint(\"f-string converted:\\n\", f_string_final)\\nf_list = f_string_final.split()\\nprint(\"\\n f_list \\n\", f_list)\\n'"
      ]
     },
     "execution_count": 68,
     "metadata": {},
     "output_type": "execute_result"
    }
   ],
   "source": [
    "#turning d into a list\n",
    "#turning d into a string first\n",
    "d_string = str((d))\n",
    "print(\"d-String:\\n\", d_string)\n",
    "print(\"\\n\", type(d_string), \"\\n\")\n",
    "\n",
    "\n",
    "d_string_final = d_string.replace(\"[\",\"\").replace(\"]\",\"\")\n",
    "print(\"d-string converted:\\n\", d_string_final)\n",
    "d_list = d_string_final.split()\n",
    "print(\"\\n d_list \\n\", d_list,\"\\n\\n\")\n",
    "\n",
    "\n",
    "\n",
    "#this was an unnecessary step. Please ignore\n",
    "\"\"\"\n",
    "#turning f into a list\n",
    "#turning f into a string first\n",
    "f_string = str((f))\n",
    "print(\"f-String:\\n\", f_string)\n",
    "print(\"\\n\", type(f_string), \"\\n\")\n",
    "\n",
    "\n",
    "f_string_final = f_string.replace(\"[\",\"\").replace(\"]\",\"\")\n",
    "print(\"f-string converted:\\n\", f_string_final)\n",
    "f_list = f_string_final.split()\n",
    "print(\"\\n f_list \\n\", f_list)\n",
    "\"\"\""
   ]
  },
  {
   "cell_type": "code",
   "execution_count": 74,
   "metadata": {},
   "outputs": [
    {
     "name": "stdout",
     "output_type": "stream",
     "text": [
      "[75, 75, 75, 25, 75, 25, 25, 75, 25, 25, 25, 25, 75, 25, 75, 25, 25, 75, 75, 75, 25, 25, 75, 75, 75, 75, 25, 25, 75]\n"
     ]
    }
   ],
   "source": [
    "#didn't get any 100, 0 or 50\n",
    "#why?\n",
    "\n",
    "g_list = []\n",
    "for i in d_list:\n",
    "    if float(i) > float(d_min) and float(i) < float(d_mean):\n",
    "         g_list.append(25)\n",
    "    if float(i) < float(d_max) and float(i) > float(d_mean):\n",
    "        g_list.append(75)\n",
    "    if float(i) == float(d_mean):\n",
    "        g_list.append(50)\n",
    "    if float(i) == float(d_min):\n",
    "        g_list.append(0)\n",
    "    if float(i) == float(d_max):\n",
    "        g_list.append(0)\n",
    "print(g_list)    "
   ]
  },
  {
   "cell_type": "markdown",
   "metadata": {},
   "source": [
    "#### 17. Print *d* and *f*. Do you have your expected *f*?\n",
    "For instance, if your *d* is:\n",
    "```python\n",
    "[[[1.85836099, 1.67064465, 1.62576044, 1.40243961, 1.88454931],\n",
    "[1.75354326, 1.69403643, 1.36729252, 1.61415071, 1.12104981],\n",
    "[1.72201435, 1.1862918 , 1.87078449, 1.7726778 , 1.88180042]],\n",
    "[[1.44747908, 1.31673383, 1.02000951, 1.52218947, 1.97066381],\n",
    "[1.79129243, 1.74983003, 1.96028037, 1.85166831, 1.65450881],\n",
    "[1.18068344, 1.9587381 , 1.00656599, 1.93402165, 1.73514584]]]\n",
    "```\n",
    "Your *f* should be:\n",
    "```python\n",
    "[[[ 75.,  75.,  75.,  25.,  75.],\n",
    "[ 75.,  75.,  25.,  25.,  25.],\n",
    "[ 75.,  25.,  75.,  75.,  75.]],\n",
    "[[ 25.,  25.,  25.,  25., 100.],\n",
    "[ 75.,  75.,  75.,  75.,  75.],\n",
    "[ 25.,  75.,   0.,  75.,  75.]]]\n",
    "```"
   ]
  },
  {
   "cell_type": "code",
   "execution_count": 83,
   "metadata": {},
   "outputs": [
    {
     "name": "stdout",
     "output_type": "stream",
     "text": [
      "[[[1.85374281 1.96888497 1.96269979 1.21934171 1.89851066]\n",
      "  [1.22172401 1.22957364 1.00313795 1.84235249 1.20958859]\n",
      "  [1.45657219 1.49620486 1.24108001 1.8878446  1.31396956]]\n",
      "\n",
      " [[1.86798968 1.25146252 1.51243043 1.71655701 1.73962599]\n",
      "  [1.84570046 1.28691411 1.33225221 1.94738422 1.96895482]\n",
      "  [1.87049325 1.87624379 1.0420147  1.36919212 1.97542586]]]\n",
      "\n",
      " [75, 75, 75, 25, 75, 25, 25, 75, 25, 25, 25, 25, 75, 25, 75, 25, 25, 75, 75, 75, 25, 25, 75, 75, 75, 75, 25, 25, 75]\n",
      "[75 75 75 25 75 25 25 75 25 25 25 25 75 25 75 25 25 75 75 75 25 25 75 75\n",
      " 75 75 25 25 75]\n"
     ]
    },
    {
     "ename": "ValueError",
     "evalue": "cannot reshape array of size 29 into shape (2,3,5)",
     "output_type": "error",
     "traceback": [
      "\u001b[0;31m---------------------------------------------------------------------------\u001b[0m",
      "\u001b[0;31mValueError\u001b[0m                                Traceback (most recent call last)",
      "\u001b[0;32m<ipython-input-83-17aba47df852>\u001b[0m in \u001b[0;36m<module>\u001b[0;34m\u001b[0m\n\u001b[1;32m      3\u001b[0m \u001b[0mprint\u001b[0m\u001b[0;34m(\u001b[0m\u001b[0;34m\"\\n\"\u001b[0m\u001b[0;34m,\u001b[0m \u001b[0mg_list\u001b[0m\u001b[0;34m)\u001b[0m\u001b[0;34m\u001b[0m\u001b[0;34m\u001b[0m\u001b[0m\n\u001b[1;32m      4\u001b[0m \u001b[0mprint\u001b[0m\u001b[0;34m(\u001b[0m\u001b[0mg_array\u001b[0m\u001b[0;34m)\u001b[0m\u001b[0;34m\u001b[0m\u001b[0;34m\u001b[0m\u001b[0m\n\u001b[0;32m----> 5\u001b[0;31m \u001b[0mg_array\u001b[0m\u001b[0;34m.\u001b[0m\u001b[0mreshape\u001b[0m\u001b[0;34m(\u001b[0m\u001b[0;36m2\u001b[0m\u001b[0;34m,\u001b[0m\u001b[0;36m3\u001b[0m\u001b[0;34m,\u001b[0m\u001b[0;36m5\u001b[0m\u001b[0;34m)\u001b[0m\u001b[0;34m\u001b[0m\u001b[0;34m\u001b[0m\u001b[0m\n\u001b[0m",
      "\u001b[0;31mValueError\u001b[0m: cannot reshape array of size 29 into shape (2,3,5)"
     ]
    }
   ],
   "source": [
    "#reshapeing process doesn't work due to mistake in task before.\n",
    "print(d)\n",
    "g_array = np.asarray(g_list)\n",
    "print(\"\\n\", g_list)\n",
    "print(g_array)\n",
    "g_array.reshape(2,3,5)"
   ]
  },
  {
   "cell_type": "markdown",
   "metadata": {},
   "source": [
    "#### 18. Bonus question: instead of using numbers (i.e. 0, 25, 50, 75, and 100), use string values  (\"A\", \"B\", \"C\", \"D\", and \"E\") to label the array elements. For the example above, the expected result is:\n",
    "\n",
    "```python\n",
    "[[[ 'D',  'D',  'D',  'B',  'D'],\n",
    "[ 'D',  'D',  'B',  'B',  'B'],\n",
    "[ 'D',  'B',  'D',  'D',  'D']],\n",
    "[[ 'B',  'B',  'B',  'B',  'E'],\n",
    "[ 'D',  'D',  'D',  'D',  'D'],\n",
    "[ 'B',  'D',   'A',  'D', 'D']]]\n",
    "```\n",
    "**Note**: you don't have to use Numpy in this question."
   ]
  },
  {
   "cell_type": "code",
   "execution_count": null,
   "metadata": {},
   "outputs": [],
   "source": [
    "# your code here"
   ]
  }
 ],
 "metadata": {
  "kernelspec": {
   "display_name": "Python 3",
   "language": "python",
   "name": "python3"
  },
  "language_info": {
   "codemirror_mode": {
    "name": "ipython",
    "version": 3
   },
   "file_extension": ".py",
   "mimetype": "text/x-python",
   "name": "python",
   "nbconvert_exporter": "python",
   "pygments_lexer": "ipython3",
   "version": "3.7.4"
  }
 },
 "nbformat": 4,
 "nbformat_minor": 2
}
