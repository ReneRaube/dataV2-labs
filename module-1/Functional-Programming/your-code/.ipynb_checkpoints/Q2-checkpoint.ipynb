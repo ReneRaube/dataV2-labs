{
 "cells": [
  {
   "cell_type": "markdown",
   "metadata": {},
   "source": [
    "Now we want to enhance the `get_bow_from_docs` function so that it will work with HTML webpages. In HTML, there are a lot of messy codes such as HTML tags, Javascripts, [unicodes](https://www.w3schools.com/charsets/ref_utf_misc_symbols.asp) that will mess up your bag of words. We need to clean up those junk before generating BoW.\n",
    "\n",
    "Next, what you will do is to define several new functions each of which is specialized to clean up the HTML codes in one aspect. For instance, you can have a `strip_html_tags` function to remove all HTML tags, a `remove_punctuation` function to remove all punctuation, a `to_lower_case` function to convert string to lowercase, and a `remove_unicode` function to remove all unicodes.\n",
    "\n",
    "Then in your `get_bow_from_doc` function, you will call each of those functions you created to clean up the HTML before you generate the corpus.\n",
    "\n",
    "Note: Please use Python string operations and regular expression only in this lab. Do not use extra libraries such as `beautifulsoup` because otherwise you loose the purpose of practicing."
   ]
  },
  {
   "cell_type": "code",
   "execution_count": 1,
   "metadata": {},
   "outputs": [],
   "source": [
    "# Define your string handling functions below\n",
    "# Minimal 3 functions\n",
    "#functions relate to one antoher transforming the original string step by step\n",
    "def remove_punctuation (normal_string):\n",
    "    string_1_without = normal_string.replace(\".\",\"\").replace(\",\",\"\").replace(\":\",\"\").replace(\"\\n\",\"\")\n",
    "    return (string_1_without)\n",
    "\n",
    "#turning stirng without punctuation into string without capital letters:\n",
    "def to_lower_case (string_1_without):\n",
    "    string_1_lower = string_1_without.lower() #or: string_1_without(normal_string).lower()?\n",
    "    return (string_1_lower)\n",
    "\n",
    "#turning stirng with 'lowered' letters  into string without html_tags:\n",
    "import re\n",
    "TAG_RE = re.compile(r'<[^>]+>')\n",
    "\n",
    "def strip_html_tags(string_1_lower):\n",
    "    return TAG_RE.sub('', string_1_lower)\n",
    "\n",
    "# 4th one? --> def remove_unicode()"
   ]
  },
  {
   "cell_type": "code",
   "execution_count": 5,
   "metadata": {},
   "outputs": [
    {
     "name": "stdout",
     "output_type": "stream",
     "text": [
      "test\n"
     ]
    }
   ],
   "source": [
    "# Define your string handling functions below\n",
    "# Minimal 3 functions\n",
    "#functions relate to one antoher transforming the original string step by step\n",
    "def remove_punctuation (normal_string):\n",
    "    string_1_without = normal_string.replace(\".\",\"\").replace(\",\",\"\").replace(\":\",\"\").replace(\"\\n\",\"\")\n",
    "    return (string_1_without)\n",
    "\n",
    "#turning stirng without punctuation into string without capital letters:\n",
    "def to_lower_case (string_1_without):\n",
    "    string_1_lower = remove_punctuation(normal_string).lower()\n",
    "    return (string_1_lower)\n",
    "\n",
    "#turning stirng with 'lowered' letters  into string without html_tags:\n",
    "import re\n",
    "TAG_RE = re.compile(r'<[^>]+>') #oder muss das in die Funktion selbst?\n",
    "\n",
    "def strip_html_tags(string_1_lower):\n",
    "    return TAG_RE.sub('', string_1_lower)"
   ]
  },
  {
   "cell_type": "markdown",
   "metadata": {},
   "source": [
    "Next, paste your previously written `get_bow_from_docs` function below. Call your functions above at the appropriate place."
   ]
  },
  {
   "cell_type": "code",
   "execution_count": 40,
   "metadata": {},
   "outputs": [
    {
     "name": "stdout",
     "output_type": "stream",
     "text": [
      "ironhack is cool i love ironhack i am a student at ironhack\n",
      "corpus: ['ironhack', 'is', 'cool', 'i', 'love', 'ironhack', 'i', 'am', 'a', 'student', 'at', 'ironhack']\n",
      "{'bag_of_words': ['ironhack', 'cool', 'love', 'student'], 'term_freq': [[1, 1, 0, 0], [1, 0, 1, 0], [1, 0, 0, 1]]}\n"
     ]
    }
   ],
   "source": [
    "#testing my functions with a normal string\n",
    "normal_string = \"Ironhack is cool.\\n I love Ironhack.\\n I am a student at Ironhack.\"\n",
    "stop_words = ['per', 'front', 'until', 'hers', 'no', 'so', 'both', 'give', 'often', 'still', 'which', 'describe', 'his', 'an', 'on', 'hundred', 'latterly', 'me', 'first', 'up', 'her', 'whereby', 'to', 'must', 'some', 'go', 'any', 'they', 'keep', 'one', 'sometime', 'another', 'how', 'might', 'become', 'after', 'fifty', 'were', 'whereas', 'could', 'hence', 'was', 'sixty', 'fire', 're', 'noone', 'empty', 'she', 'almost', 'indeed', 'yourself', 'with', 'less', 'all', 'full', 'cry', 'though', 'throughout', 'we', 'herein', 'un', 'whence', 'amount', 'by', 'during', 'anything', 'should', 'of', 'whole', 'since', 'always', 'serious', 'from', 'when', 'cant', 'somehow', 'off', 'themselves', 'its', 'beforehand', 'wherever', 'may', 'eight', 'whenever', 'con', 'as', 'thin', 'us', 'hereafter', 'ltd', 'third', 'most', 'whatever', 'then', 'besides', 'six', 'least', 'within', 'onto', 'own', 'bottom', 'thereupon', 'has', 'whither', 'nowhere', 'yet', 'every', 'seem', 'found', 'down', 'therefore', 'or', 'meanwhile', 'anyhow', 'itself', 'here', 'also', 'yourselves', 'whereafter', 'can', 'formerly', 'because', 'thereafter', 'thru', 'few', 'mostly', 'whether', 'at', 'he', 'nor', 'nothing', 'interest', 'never', 'well', 'where', 'latter', 'are', 'am', 'between', 'while', 'last', 'too', 'became', 'beyond', 'next', 'eleven', 'behind', 'please', 'sometimes', 'de', 'around', 'alone', 'our', 'sincere', 'move', 'several', 'becoming', 'those', 'you', 'thence', 'across', 'perhaps', 'who', 'otherwise', 'myself', 'wherein', 'system', 'not', 'than', 'none', 'see', 'why', 'thick', 'hasnt', 'yours', 'amongst', 'however', 'back', 'himself', 'mine', 'ten', 'my', 'be', 'beside', 'elsewhere', 'is', 'along', 'over', 'seeming', 'couldnt', 'about', 'side', 'twelve', 'ourselves', 'only', 'everyone', 'three', 'nobody', 'hereby', 'what', 'in', 'anyone', 'take', 'will', 'against', 'been', 'into', 'these', 'among', 'ie', 'nine', 'through', 'anyway', 'already', 'twenty', 'herself', 'a', 'mill', 'four', 'do', 'afterwards', 'five', 'inc', 'but', 'i', 'get', 'him', 'two', 'your', 'being', 'under', 'this', 'it', 'further', 'somewhere', 'before', 'together', 'top', 'forty', 'fill', 'there', 'except', 'someone', 'hereupon', 'upon', 'eg', 'ever', 'rather', 'thus', 'anywhere', 'neither', 'had', 'former', 'would', 'towards', 'name', 'amoungst', 'above', 'each', 'either', 'them', 'done', 'else', 'their', 'ours', 'even', 'via', 'made', 'thereby', 'out', 'for', 'many', 'nevertheless', 'if', 'part', 'toward', 'once', 'everywhere', 'that', 'cannot', 'detail', 'enough', 'therein', 'although', 'again', 'whereupon', 'etc', 'seems', 'much', 'same', 'fifteen', 'becomes', 'everything', 'have', 'other', 'such', 'more', 'due', 'call', 'the', 'co', 'without', 'bill', 'namely', 'moreover', 'find', 'put', 'show', 'whose', 'others', 'now', 'very', 'whoever', 'seemed', 'below', 'something', 'whom', 'and']\n",
    "\n",
    "def remove_punctuation (normal_string):\n",
    "    string_1_without = normal_string.replace(\".\",\"\").replace(\",\",\"\").replace(\":\",\"\")\n",
    "    return (string_1_without)\n",
    "#print(remove_punctuation (normal_string))\n",
    "\n",
    "#turning stirng without punctuation into string without capital letters:\n",
    "def to_lower_case (string_1_without):\n",
    "    string_1_lower = remove_punctuation(normal_string).lower()\n",
    "    return (string_1_lower)\n",
    "#print(to_lower_case (normal_string))\n",
    "\n",
    "def remove_enter (string_1_lower):\n",
    "    string_oneline = to_lower_case(normal_string).replace(\"\\n\",\"\")\n",
    "    return (string_oneline)\n",
    "print(remove_enter (normal_string))\n",
    "    \n",
    "corpus = remove_enter (normal_string).split()\n",
    "print(\"corpus:\", corpus)\n",
    "\n",
    "\n",
    "def get_bow_from_docs(corpus, stop_words):\n",
    "    bag_of_words = []\n",
    "    term_freq = []\n",
    "    for word in corpus:\n",
    "        if word not in bag_of_words:\n",
    "            if word not in stop_words:\n",
    "                bag_of_words.append(word)\n",
    "    \n",
    "    '''for loop! \n",
    "    for each doc string, count the number of occurrences of each term in `bag_of_words`. \n",
    "    Create an array for each doc's term frequency and append it to `term_freq`.\n",
    "    '''\n",
    "    \n",
    "    doc_list1=[]\n",
    "    doc_list2=[]\n",
    "    doc_list3=[] \n",
    "    i = 0\n",
    "\n",
    "    for word in bag_of_words:\n",
    "        if word in doc1aslist:\n",
    "            i = 1\n",
    "            doc_list1.append(i)\n",
    "        else:\n",
    "            i = 0\n",
    "            doc_list1.append(i)\n",
    "        \n",
    "    for word in bag_of_words:\n",
    "        if word in doc2aslist:\n",
    "            i = 1\n",
    "            doc_list2.append(i)\n",
    "        else:\n",
    "            i = 0\n",
    "            doc_list2.append(i)\n",
    "        \n",
    "    for word in bag_of_words:\n",
    "        if word in doc3aslist:\n",
    "            i = 1\n",
    "            doc_list3.append(i)\n",
    "        else:\n",
    "            i = 0\n",
    "            doc_list3.append(i)\n",
    "    \n",
    "    \n",
    "    term_freq.append(doc_list1)\n",
    "    term_freq.append(doc_list2)\n",
    "    term_freq.append(doc_list3)\n",
    "    \n",
    "    \n",
    "    # write your codes here\n",
    "    \n",
    "    return {\"bag_of_words\": bag_of_words,\n",
    "           \"term_freq\": term_freq}\n",
    "print(get_bow_from_docs(corpus, stop_words))"
   ]
  },
  {
   "cell_type": "markdown",
   "metadata": {},
   "source": [
    "Next, read the content from the three HTML webpages in the `your-codes` directory to test your function."
   ]
  },
  {
   "cell_type": "code",
   "execution_count": 41,
   "metadata": {},
   "outputs": [
    {
     "ename": "TypeError",
     "evalue": "'dict' object is not callable",
     "output_type": "error",
     "traceback": [
      "\u001b[0;31m---------------------------------------------------------------------------\u001b[0m",
      "\u001b[0;31mTypeError\u001b[0m                                 Traceback (most recent call last)",
      "\u001b[0;32m<ipython-input-41-babcfd388c43>\u001b[0m in \u001b[0;36m<module>\u001b[0;34m\u001b[0m\n\u001b[1;32m      8\u001b[0m         \u001b[0;34m'www.coursereport.com_ironhack.html'\u001b[0m\u001b[0;34m,\u001b[0m\u001b[0;34m\u001b[0m\u001b[0;34m\u001b[0m\u001b[0m\n\u001b[1;32m      9\u001b[0m         \u001b[0;34m'en.wikipedia.org_Data_analysis.html'\u001b[0m\u001b[0;34m,\u001b[0m\u001b[0;34m\u001b[0m\u001b[0;34m\u001b[0m\u001b[0m\n\u001b[0;32m---> 10\u001b[0;31m         'www.lipsum.com.html'], stop_words))\n\u001b[0m",
      "\u001b[0;31mTypeError\u001b[0m: 'dict' object is not callable"
     ]
    }
   ],
   "source": [
    "#this already doesn't work. Why?\n",
    "\n",
    "from sklearn.feature_extraction import stop_words\n",
    "bow = get_bow_from_docs([\n",
    "        'www.coursereport.com_ironhack.html',\n",
    "        'en.wikipedia.org_Data_analysis.html',\n",
    "        'www.lipsum.com.html'], stop_words.ENGLISH_STOP_WORDS)\n",
    "\n",
    "print(bow([\n",
    "        'www.coursereport.com_ironhack.html',\n",
    "        'en.wikipedia.org_Data_analysis.html',\n",
    "        'www.lipsum.com.html'], stop_words))"
   ]
  },
  {
   "cell_type": "markdown",
   "metadata": {},
   "source": [
    "Do you see any problem in the output? How do you improve the output?\n",
    "\n",
    "A good way to improve your codes is to look into the HTML data sources and try to understand where the messy output came from. A good data analyst always learns about the data in depth in order to perform the job well.\n",
    "\n",
    "Spend 20-30 minutes to improve your functions or until you feel you are good at string operations. This lab is just a practice so you don't need to stress yourself out. If you feel you've practiced enough you can stop and move on the next challenge question."
   ]
  },
  {
   "cell_type": "code",
   "execution_count": null,
   "metadata": {},
   "outputs": [],
   "source": []
  }
 ],
 "metadata": {
  "kernelspec": {
   "display_name": "Python 3",
   "language": "python",
   "name": "python3"
  },
  "language_info": {
   "codemirror_mode": {
    "name": "ipython",
    "version": 3
   },
   "file_extension": ".py",
   "mimetype": "text/x-python",
   "name": "python",
   "nbconvert_exporter": "python",
   "pygments_lexer": "ipython3",
   "version": "3.7.4"
  }
 },
 "nbformat": 4,
 "nbformat_minor": 2
}
