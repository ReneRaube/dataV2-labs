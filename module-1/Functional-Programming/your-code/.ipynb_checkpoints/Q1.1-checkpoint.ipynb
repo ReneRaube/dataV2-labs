{
 "cells": [
  {
   "cell_type": "markdown",
   "metadata": {},
   "source": [
    "In the cell below, create a Python function that wraps your previous solution for the Bag of Words lab.\n",
    "\n",
    "Requirements:\n",
    "\n",
    "1. Your function should accept the following parameters:\n",
    "    * `docs` [REQUIRED] - array of document paths.\n",
    "    * `stop_words` [OPTIONAL] - array of stop words. The default value is an empty array.\n",
    "\n",
    "1. Your function should return a Python object that contains the following:\n",
    "    * `bag_of_words` - array of strings of normalized unique words in the corpus.\n",
    "    * `term_freq` - array of the term-frequency vectors."
   ]
  },
  {
   "cell_type": "code",
   "execution_count": 178,
   "metadata": {},
   "outputs": [
    {
     "data": {
      "text/plain": [
       "\"\\n    Loop `corpus` again. For each doc string, count the number of occurrences of each term in `bag_of_words`. \\n    Create an array for each doc's term frequency and append it to `term_freq`.\\n\""
      ]
     },
     "execution_count": 178,
     "metadata": {},
     "output_type": "execute_result"
    }
   ],
   "source": [
    "# Import required libraries\n",
    "\n",
    "# Define function\n",
    "    \n",
    "# In the function, first define the variables you will use such as `corpus`, `bag_of_words`, and `term_freq`.\n",
    "    \n",
    "\"\"\"\n",
    "    Loop `docs` and read the content of each doc into a string in `corpus`.\n",
    "    Remember to convert the doc content to lowercases and remove punctuation.\n",
    "\"\"\"\n",
    "\n",
    "#change corpus into a list    \n",
    "    \n",
    "\"\"\"\n",
    "    Loop `corpus`. Append the terms in each doc into the `bag_of_words` array. The terms in `bag_of_words` \n",
    "    should be unique which means before adding each term you need to check if it's already added to the array.\n",
    "    In addition, check if each term is in the `stop_words` array. Only append the term to `bag_of_words`\n",
    "    if it is not a stop word.\n",
    "\"\"\"\n",
    "\n",
    "\"\"\"\n",
    "    Loop `corpus` again. For each doc string, count the number of occurrences of each term in `bag_of_words`. \n",
    "    Create an array for each doc's term frequency and append it to `term_freq`.\n",
    "\"\"\"\n",
    "    \n",
    "    # Now return your output as an object"
   ]
  },
  {
   "cell_type": "code",
   "execution_count": 4,
   "metadata": {},
   "outputs": [
    {
     "name": "stdout",
     "output_type": "stream",
     "text": [
      "{'bag_of_words': ['ironhack', 'is', 'cool', 'i', 'love', 'am', 'a', 'student', 'at'], 'term_freq': [[1, 1, 1, 0, 0, 0, 0, 0, 0], [1, 0, 0, 1, 1, 0, 0, 0, 0], [1, 0, 0, 1, 0, 1, 1, 1, 1]]}\n",
      "['ironhack', 'is', 'cool', 'i', 'love', 'ironhack', 'i', 'am', 'a', 'student', 'at', 'ironhack']\n"
     ]
    },
    {
     "ename": "NameError",
     "evalue": "name 'stop_words' is not defined",
     "output_type": "error",
     "traceback": [
      "\u001b[0;31m---------------------------------------------------------------------------\u001b[0m",
      "\u001b[0;31mNameError\u001b[0m                                 Traceback (most recent call last)",
      "\u001b[0;32m<ipython-input-4-db0c322a427d>\u001b[0m in \u001b[0;36m<module>\u001b[0;34m\u001b[0m\n\u001b[1;32m     73\u001b[0m \u001b[0mprint\u001b[0m\u001b[0;34m(\u001b[0m\u001b[0mget_bow_from_docs\u001b[0m\u001b[0;34m(\u001b[0m\u001b[0mcorpus\u001b[0m\u001b[0;34m)\u001b[0m\u001b[0;34m)\u001b[0m\u001b[0;34m\u001b[0m\u001b[0;34m\u001b[0m\u001b[0m\n\u001b[1;32m     74\u001b[0m \u001b[0mprint\u001b[0m\u001b[0;34m(\u001b[0m\u001b[0mcorpus\u001b[0m\u001b[0;34m)\u001b[0m\u001b[0;34m\u001b[0m\u001b[0;34m\u001b[0m\u001b[0m\n\u001b[0;32m---> 75\u001b[0;31m \u001b[0mprint\u001b[0m\u001b[0;34m(\u001b[0m\u001b[0mstop_words\u001b[0m\u001b[0;34m)\u001b[0m\u001b[0;34m\u001b[0m\u001b[0;34m\u001b[0m\u001b[0m\n\u001b[0m",
      "\u001b[0;31mNameError\u001b[0m: name 'stop_words' is not defined"
     ]
    }
   ],
   "source": [
    "#final version. It works!\n",
    "#adding term_freq!\n",
    "\n",
    "doc1 = \"Ironhack is cool.\"\n",
    "#clean doc1 --> lower it and replace \".\" by \"\"\n",
    "doc1changed = doc1.lower().replace(\".\",\"\")\n",
    "#turn doc1 into a list, so that I can create a list and append it for bag_of_words in doc1changed \n",
    "doc1aslist = doc1changed.split()\n",
    "\n",
    "doc2 = \"I love Ironhack.\"\n",
    "doc2changed = doc2.lower().replace(\".\",\"\")\n",
    "doc2aslist = doc2changed.split()\n",
    "\n",
    "doc3 = \"I am a student at Ironhack.\"\n",
    "doc3changed = doc3.lower().replace(\".\",\"\")\n",
    "doc3aslist = doc3changed.split()\n",
    "\n",
    "\n",
    "docs = [doc1, doc2, doc3]\n",
    "docs2string = ' '.join(docs).lower().replace(\".\",\"\")\n",
    "corpus = docs2string.split()\n",
    "\n",
    "\n",
    "\n",
    "def get_bow_from_docs(corpus):\n",
    "    bag_of_words = []\n",
    "    term_freq = []\n",
    "    for word in corpus:\n",
    "        if word not in bag_of_words: #and if word not in stop_words:\n",
    "            bag_of_words.append(word)\n",
    "    \n",
    "    '''for loop! \n",
    "    for each doc string, count the number of occurrences of each term in `bag_of_words`. \n",
    "    Create an array for each doc's term frequency and append it to `term_freq`.\n",
    "    '''\n",
    "    \n",
    "    doc_list1=[]\n",
    "    doc_list2=[]\n",
    "    doc_list3=[] \n",
    "    i = 0\n",
    "\n",
    "    for word in bag_of_words:\n",
    "        if word in doc1aslist:\n",
    "            i = 1\n",
    "            doc_list1.append(i)\n",
    "        else:\n",
    "            i = 0\n",
    "            doc_list1.append(i)\n",
    "        \n",
    "    for word in bag_of_words:\n",
    "        if word in doc2aslist:\n",
    "            i = 1\n",
    "            doc_list2.append(i)\n",
    "        else:\n",
    "            i = 0\n",
    "            doc_list2.append(i)\n",
    "        \n",
    "    for word in bag_of_words:\n",
    "        if word in doc3aslist:\n",
    "            i = 1\n",
    "            doc_list3.append(i)\n",
    "        else:\n",
    "            i = 0\n",
    "            doc_list3.append(i)\n",
    "    \n",
    "    \n",
    "    term_freq.append(doc_list1)\n",
    "    term_freq.append(doc_list2)\n",
    "    term_freq.append(doc_list3)\n",
    "    \n",
    "    return {\"bag_of_words\": bag_of_words,\n",
    "           \"term_freq\": term_freq}\n",
    "print(get_bow_from_docs(corpus))\n",
    "print(corpus)\n",
    "print(stop_words)"
   ]
  },
  {
   "cell_type": "markdown",
   "metadata": {},
   "source": [
    "Test your function without stop words. You should see the output like below:\n",
    "\n",
    "```{'bag_of_words': ['ironhack', 'is', 'cool', 'i', 'love', 'am', 'a', 'student', 'at'], 'term_freq': [[1, 1, 1, 0, 0, 0, 0, 0, 0], [1, 0, 0, 1, 1, 0, 0, 0, 0], [1, 0, 0, 1, 0, 1, 1, 1, 1]]}```"
   ]
  },
  {
   "cell_type": "code",
   "execution_count": 31,
   "metadata": {},
   "outputs": [
    {
     "name": "stdout",
     "output_type": "stream",
     "text": [
      "{'bag_of_words': [], 'term_freq': [[], [], []]}\n"
     ]
    }
   ],
   "source": [
    "# Define doc paths array\n",
    "docs = []\n",
    "\n",
    "# Obtain BoW from your function\n",
    "bow = get_bow_from_docs(docs)\n",
    "\n",
    "# Print BoW\n",
    "print(bow)"
   ]
  },
  {
   "cell_type": "markdown",
   "metadata": {},
   "source": [
    "If your attempt above is successful, nice work done!\n",
    "\n",
    "Now test your function again with the stop words. In the previous lab we defined the stop words in a large array. In this lab, we'll import the stop words from Scikit-Learn."
   ]
  },
  {
   "cell_type": "code",
   "execution_count": 32,
   "metadata": {},
   "outputs": [
    {
     "name": "stdout",
     "output_type": "stream",
     "text": [
      "frozenset({'per', 'front', 'until', 'hers', 'no', 'so', 'both', 'give', 'often', 'still', 'which', 'describe', 'his', 'an', 'on', 'hundred', 'latterly', 'me', 'first', 'up', 'her', 'whereby', 'to', 'must', 'some', 'go', 'any', 'they', 'keep', 'one', 'sometime', 'another', 'how', 'might', 'become', 'after', 'fifty', 'were', 'whereas', 'could', 'hence', 'was', 'sixty', 'fire', 're', 'noone', 'empty', 'she', 'almost', 'indeed', 'yourself', 'with', 'less', 'all', 'full', 'cry', 'though', 'throughout', 'we', 'herein', 'un', 'whence', 'amount', 'by', 'during', 'anything', 'should', 'of', 'whole', 'since', 'always', 'serious', 'from', 'when', 'cant', 'somehow', 'off', 'themselves', 'its', 'beforehand', 'wherever', 'may', 'eight', 'whenever', 'con', 'as', 'thin', 'us', 'hereafter', 'ltd', 'third', 'most', 'whatever', 'then', 'besides', 'six', 'least', 'within', 'onto', 'own', 'bottom', 'thereupon', 'has', 'whither', 'nowhere', 'yet', 'every', 'seem', 'found', 'down', 'therefore', 'or', 'meanwhile', 'anyhow', 'itself', 'here', 'also', 'yourselves', 'whereafter', 'can', 'formerly', 'because', 'thereafter', 'thru', 'few', 'mostly', 'whether', 'at', 'he', 'nor', 'nothing', 'interest', 'never', 'well', 'where', 'latter', 'are', 'am', 'between', 'while', 'last', 'too', 'became', 'beyond', 'next', 'eleven', 'behind', 'please', 'sometimes', 'de', 'around', 'alone', 'our', 'sincere', 'move', 'several', 'becoming', 'those', 'you', 'thence', 'across', 'perhaps', 'who', 'otherwise', 'myself', 'wherein', 'system', 'not', 'than', 'none', 'see', 'why', 'thick', 'hasnt', 'yours', 'amongst', 'however', 'back', 'himself', 'mine', 'ten', 'my', 'be', 'beside', 'elsewhere', 'is', 'along', 'over', 'seeming', 'couldnt', 'about', 'side', 'twelve', 'ourselves', 'only', 'everyone', 'three', 'nobody', 'hereby', 'what', 'in', 'anyone', 'take', 'will', 'against', 'been', 'into', 'these', 'among', 'ie', 'nine', 'through', 'anyway', 'already', 'twenty', 'herself', 'a', 'mill', 'four', 'do', 'afterwards', 'five', 'inc', 'but', 'i', 'get', 'him', 'two', 'your', 'being', 'under', 'this', 'it', 'further', 'somewhere', 'before', 'together', 'top', 'forty', 'fill', 'there', 'except', 'someone', 'hereupon', 'upon', 'eg', 'ever', 'rather', 'thus', 'anywhere', 'neither', 'had', 'former', 'would', 'towards', 'name', 'amoungst', 'above', 'each', 'either', 'them', 'done', 'else', 'their', 'ours', 'even', 'via', 'made', 'thereby', 'out', 'for', 'many', 'nevertheless', 'if', 'part', 'toward', 'once', 'everywhere', 'that', 'cannot', 'detail', 'enough', 'therein', 'although', 'again', 'whereupon', 'etc', 'seems', 'much', 'same', 'fifteen', 'becomes', 'everything', 'have', 'other', 'such', 'more', 'due', 'call', 'the', 'co', 'without', 'bill', 'namely', 'moreover', 'find', 'put', 'show', 'whose', 'others', 'now', 'very', 'whoever', 'seemed', 'below', 'something', 'whom', 'and'})\n"
     ]
    }
   ],
   "source": [
    "from sklearn.feature_extraction import stop_words\n",
    "print(stop_words.ENGLISH_STOP_WORDS)"
   ]
  },
  {
   "cell_type": "markdown",
   "metadata": {},
   "source": [
    "You should have seen a large list of words that looks like:\n",
    "\n",
    "```frozenset({'across', 'mine', 'cannot', ...})```\n",
    "\n",
    "`frozenset` is a type of Python object that is immutable. In this lab you can use it just like an array without conversion."
   ]
  },
  {
   "cell_type": "markdown",
   "metadata": {},
   "source": [
    "Next, test your function with supplying `stop_words.ENGLISH_STOP_WORDS` as the second parameter."
   ]
  },
  {
   "cell_type": "code",
   "execution_count": 41,
   "metadata": {},
   "outputs": [
    {
     "ename": "AttributeError",
     "evalue": "'list' object has no attribute 'ENGLISH_STOP_WORDS'",
     "output_type": "error",
     "traceback": [
      "\u001b[0;31m---------------------------------------------------------------------------\u001b[0m",
      "\u001b[0;31mAttributeError\u001b[0m                            Traceback (most recent call last)",
      "\u001b[0;32m<ipython-input-41-e76e8c6bb05b>\u001b[0m in \u001b[0;36m<module>\u001b[0;34m\u001b[0m\n\u001b[0;32m----> 1\u001b[0;31m \u001b[0mbow\u001b[0m \u001b[0;34m=\u001b[0m \u001b[0mget_bow_from_docs\u001b[0m\u001b[0;34m(\u001b[0m\u001b[0mbow\u001b[0m\u001b[0;34m,\u001b[0m \u001b[0mstop_words\u001b[0m\u001b[0;34m.\u001b[0m\u001b[0mENGLISH_STOP_WORDS\u001b[0m\u001b[0;34m)\u001b[0m\u001b[0;34m\u001b[0m\u001b[0;34m\u001b[0m\u001b[0m\n\u001b[0m\u001b[1;32m      2\u001b[0m \u001b[0mprint\u001b[0m\u001b[0;34m(\u001b[0m\u001b[0mbow\u001b[0m\u001b[0;34m)\u001b[0m\u001b[0;34m\u001b[0m\u001b[0;34m\u001b[0m\u001b[0m\n",
      "\u001b[0;31mAttributeError\u001b[0m: 'list' object has no attribute 'ENGLISH_STOP_WORDS'"
     ]
    }
   ],
   "source": [
    "bow = get_bow_from_docs(bow, stop_words.ENGLISH_STOP_WORDS)\n",
    "print(bow)"
   ]
  },
  {
   "cell_type": "code",
   "execution_count": 37,
   "metadata": {},
   "outputs": [
    {
     "name": "stdout",
     "output_type": "stream",
     "text": [
      "['per', 'front', 'until', 'hers', 'no', 'so', 'both', 'give', 'often', 'still', 'which', 'describe', 'his', 'an', 'on', 'hundred', 'latterly', 'me', 'first', 'up', 'her', 'whereby', 'to', 'must', 'some', 'go', 'any', 'they', 'keep', 'one', 'sometime', 'another', 'how', 'might', 'become', 'after', 'fifty', 'were', 'whereas', 'could', 'hence', 'was', 'sixty', 'fire', 're', 'noone', 'empty', 'she', 'almost', 'indeed', 'yourself', 'with', 'less', 'all', 'full', 'cry', 'though', 'throughout', 'we', 'herein', 'un', 'whence', 'amount', 'by', 'during', 'anything', 'should', 'of', 'whole', 'since', 'always', 'serious', 'from', 'when', 'cant', 'somehow', 'off', 'themselves', 'its', 'beforehand', 'wherever', 'may', 'eight', 'whenever', 'con', 'as', 'thin', 'us', 'hereafter', 'ltd', 'third', 'most', 'whatever', 'then', 'besides', 'six', 'least', 'within', 'onto', 'own', 'bottom', 'thereupon', 'has', 'whither', 'nowhere', 'yet', 'every', 'seem', 'found', 'down', 'therefore', 'or', 'meanwhile', 'anyhow', 'itself', 'here', 'also', 'yourselves', 'whereafter', 'can', 'formerly', 'because', 'thereafter', 'thru', 'few', 'mostly', 'whether', 'at', 'he', 'nor', 'nothing', 'interest', 'never', 'well', 'where', 'latter', 'are', 'am', 'between', 'while', 'last', 'too', 'became', 'beyond', 'next', 'eleven', 'behind', 'please', 'sometimes', 'de', 'around', 'alone', 'our', 'sincere', 'move', 'several', 'becoming', 'those', 'you', 'thence', 'across', 'perhaps', 'who', 'otherwise', 'myself', 'wherein', 'system', 'not', 'than', 'none', 'see', 'why', 'thick', 'hasnt', 'yours', 'amongst', 'however', 'back', 'himself', 'mine', 'ten', 'my', 'be', 'beside', 'elsewhere', 'is', 'along', 'over', 'seeming', 'couldnt', 'about', 'side', 'twelve', 'ourselves', 'only', 'everyone', 'three', 'nobody', 'hereby', 'what', 'in', 'anyone', 'take', 'will', 'against', 'been', 'into', 'these', 'among', 'ie', 'nine', 'through', 'anyway', 'already', 'twenty', 'herself', 'a', 'mill', 'four', 'do', 'afterwards', 'five', 'inc', 'but', 'i', 'get', 'him', 'two', 'your', 'being', 'under', 'this', 'it', 'further', 'somewhere', 'before', 'together', 'top', 'forty', 'fill', 'there', 'except', 'someone', 'hereupon', 'upon', 'eg', 'ever', 'rather', 'thus', 'anywhere', 'neither', 'had', 'former', 'would', 'towards', 'name', 'amoungst', 'above', 'each', 'either', 'them', 'done', 'else', 'their', 'ours', 'even', 'via', 'made', 'thereby', 'out', 'for', 'many', 'nevertheless', 'if', 'part', 'toward', 'once', 'everywhere', 'that', 'cannot', 'detail', 'enough', 'therein', 'although', 'again', 'whereupon', 'etc', 'seems', 'much', 'same', 'fifteen', 'becomes', 'everything', 'have', 'other', 'such', 'more', 'due', 'call', 'the', 'co', 'without', 'bill', 'namely', 'moreover', 'find', 'put', 'show', 'whose', 'others', 'now', 'very', 'whoever', 'seemed', 'below', 'something', 'whom', 'and']\n"
     ]
    }
   ],
   "source": [
    "#better way to create list of stop words other than copying it from \"stop_words.ENGLISH_STOP_WORDS\"?\n",
    "stop_words = ['per', 'front', 'until', 'hers', 'no', 'so', 'both', 'give', 'often', 'still', 'which', 'describe', 'his', 'an', 'on', 'hundred', 'latterly', 'me', 'first', 'up', 'her', 'whereby', 'to', 'must', 'some', 'go', 'any', 'they', 'keep', 'one', 'sometime', 'another', 'how', 'might', 'become', 'after', 'fifty', 'were', 'whereas', 'could', 'hence', 'was', 'sixty', 'fire', 're', 'noone', 'empty', 'she', 'almost', 'indeed', 'yourself', 'with', 'less', 'all', 'full', 'cry', 'though', 'throughout', 'we', 'herein', 'un', 'whence', 'amount', 'by', 'during', 'anything', 'should', 'of', 'whole', 'since', 'always', 'serious', 'from', 'when', 'cant', 'somehow', 'off', 'themselves', 'its', 'beforehand', 'wherever', 'may', 'eight', 'whenever', 'con', 'as', 'thin', 'us', 'hereafter', 'ltd', 'third', 'most', 'whatever', 'then', 'besides', 'six', 'least', 'within', 'onto', 'own', 'bottom', 'thereupon', 'has', 'whither', 'nowhere', 'yet', 'every', 'seem', 'found', 'down', 'therefore', 'or', 'meanwhile', 'anyhow', 'itself', 'here', 'also', 'yourselves', 'whereafter', 'can', 'formerly', 'because', 'thereafter', 'thru', 'few', 'mostly', 'whether', 'at', 'he', 'nor', 'nothing', 'interest', 'never', 'well', 'where', 'latter', 'are', 'am', 'between', 'while', 'last', 'too', 'became', 'beyond', 'next', 'eleven', 'behind', 'please', 'sometimes', 'de', 'around', 'alone', 'our', 'sincere', 'move', 'several', 'becoming', 'those', 'you', 'thence', 'across', 'perhaps', 'who', 'otherwise', 'myself', 'wherein', 'system', 'not', 'than', 'none', 'see', 'why', 'thick', 'hasnt', 'yours', 'amongst', 'however', 'back', 'himself', 'mine', 'ten', 'my', 'be', 'beside', 'elsewhere', 'is', 'along', 'over', 'seeming', 'couldnt', 'about', 'side', 'twelve', 'ourselves', 'only', 'everyone', 'three', 'nobody', 'hereby', 'what', 'in', 'anyone', 'take', 'will', 'against', 'been', 'into', 'these', 'among', 'ie', 'nine', 'through', 'anyway', 'already', 'twenty', 'herself', 'a', 'mill', 'four', 'do', 'afterwards', 'five', 'inc', 'but', 'i', 'get', 'him', 'two', 'your', 'being', 'under', 'this', 'it', 'further', 'somewhere', 'before', 'together', 'top', 'forty', 'fill', 'there', 'except', 'someone', 'hereupon', 'upon', 'eg', 'ever', 'rather', 'thus', 'anywhere', 'neither', 'had', 'former', 'would', 'towards', 'name', 'amoungst', 'above', 'each', 'either', 'them', 'done', 'else', 'their', 'ours', 'even', 'via', 'made', 'thereby', 'out', 'for', 'many', 'nevertheless', 'if', 'part', 'toward', 'once', 'everywhere', 'that', 'cannot', 'detail', 'enough', 'therein', 'although', 'again', 'whereupon', 'etc', 'seems', 'much', 'same', 'fifteen', 'becomes', 'everything', 'have', 'other', 'such', 'more', 'due', 'call', 'the', 'co', 'without', 'bill', 'namely', 'moreover', 'find', 'put', 'show', 'whose', 'others', 'now', 'very', 'whoever', 'seemed', 'below', 'something', 'whom', 'and']\n",
    "print(stop_words)"
   ]
  },
  {
   "cell_type": "code",
   "execution_count": 40,
   "metadata": {},
   "outputs": [
    {
     "name": "stdout",
     "output_type": "stream",
     "text": [
      "{'bag_of_words': ['ironhack', 'cool', 'love', 'student'], 'term_freq': [[1, 1, 0, 0], [1, 0, 1, 0], [1, 0, 0, 1]]}\n"
     ]
    }
   ],
   "source": [
    "#adding stop words \n",
    "#final version. It works!\n",
    "#adding term_freq!\n",
    "\n",
    "doc1 = \"Ironhack is cool.\"\n",
    "#clean doc1 --> lower it and replace \".\" by \"\"\n",
    "doc1changed = doc1.lower().replace(\".\",\"\")\n",
    "#turn doc1 into a list, so that I can create a list and append it for bag_of_words in doc1changed \n",
    "doc1aslist = doc1changed.split()\n",
    "\n",
    "doc2 = \"I love Ironhack.\"\n",
    "doc2changed = doc2.lower().replace(\".\",\"\")\n",
    "doc2aslist = doc2changed.split()\n",
    "\n",
    "doc3 = \"I am a student at Ironhack.\"\n",
    "doc3changed = doc3.lower().replace(\".\",\"\")\n",
    "doc3aslist = doc3changed.split()\n",
    "\n",
    "\n",
    "docs = [doc1, doc2, doc3]\n",
    "docs2string = ' '.join(docs).lower().replace(\".\",\"\")\n",
    "corpus = docs2string.split()\n",
    "\n",
    "\n",
    "\n",
    "def get_bow_from_docs(corpus,stop_words):\n",
    "    bag_of_words = []\n",
    "    term_freq = []\n",
    "    for word in corpus:\n",
    "        if word not in bag_of_words:\n",
    "            if word not in stop_words:\n",
    "                bag_of_words.append(word)\n",
    "    \n",
    "    '''for loop! \n",
    "    for each doc string, count the number of occurrences of each term in `bag_of_words`. \n",
    "    Create an array for each doc's term frequency and append it to `term_freq`.\n",
    "    '''\n",
    "    \n",
    "    doc_list1=[]\n",
    "    doc_list2=[]\n",
    "    doc_list3=[] \n",
    "    i = 0\n",
    "\n",
    "    for word in bag_of_words:\n",
    "        if word in doc1aslist:\n",
    "            i = 1\n",
    "            doc_list1.append(i)\n",
    "        else:\n",
    "            i = 0\n",
    "            doc_list1.append(i)\n",
    "        \n",
    "    for word in bag_of_words:\n",
    "        if word in doc2aslist:\n",
    "            i = 1\n",
    "            doc_list2.append(i)\n",
    "        else:\n",
    "            i = 0\n",
    "            doc_list2.append(i)\n",
    "        \n",
    "    for word in bag_of_words:\n",
    "        if word in doc3aslist:\n",
    "            i = 1\n",
    "            doc_list3.append(i)\n",
    "        else:\n",
    "            i = 0\n",
    "            doc_list3.append(i)\n",
    "    \n",
    "    \n",
    "    term_freq.append(doc_list1)\n",
    "    term_freq.append(doc_list2)\n",
    "    term_freq.append(doc_list3)\n",
    "    \n",
    "    return {\"bag_of_words\": bag_of_words,\n",
    "           \"term_freq\": term_freq}\n",
    "print(get_bow_from_docs(corpus, stop_words))"
   ]
  },
  {
   "cell_type": "markdown",
   "metadata": {},
   "source": [
    "You should have seen:\n",
    "\n",
    "```{'bag_of_words': ['ironhack', 'cool', 'love', 'student'], 'term_freq': [[1, 1, 0, 0], [1, 0, 1, 0], [1, 0, 0, 1]]}```"
   ]
  }
 ],
 "metadata": {
  "kernelspec": {
   "display_name": "Python 3",
   "language": "python",
   "name": "python3"
  },
  "language_info": {
   "codemirror_mode": {
    "name": "ipython",
    "version": 3
   },
   "file_extension": ".py",
   "mimetype": "text/x-python",
   "name": "python",
   "nbconvert_exporter": "python",
   "pygments_lexer": "ipython3",
   "version": "3.7.4"
  }
 },
 "nbformat": 4,
 "nbformat_minor": 2
}
